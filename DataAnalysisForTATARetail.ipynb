{
  "cells": [
    {
      "cell_type": "markdown",
      "id": "6033c6b7-e67b-4042-9137-49ba5af7d4f6",
      "metadata": {
        "id": "6033c6b7-e67b-4042-9137-49ba5af7d4f6"
      },
      "source": [
        "# Data Loading Using Pymongo"
      ]
    },
    {
      "cell_type": "code",
      "execution_count": null,
      "id": "44dae40c-2380-4093-b3ff-a5827c0d8fec",
      "metadata": {
        "id": "44dae40c-2380-4093-b3ff-a5827c0d8fec",
        "outputId": "a148b7b8-7922-4ae8-e1df-5be50e8be8bd"
      },
      "outputs": [
        {
          "name": "stdout",
          "output_type": "stream",
          "text": [
            "4.6.2\n"
          ]
        }
      ],
      "source": [
        "import pymongo\n",
        "from pymongo import MongoClient\n",
        "print(pymongo.version)"
      ]
    },
    {
      "cell_type": "code",
      "execution_count": null,
      "id": "671e1e33-8d2c-4671-9173-04a162e63e0c",
      "metadata": {
        "id": "671e1e33-8d2c-4671-9173-04a162e63e0c"
      },
      "outputs": [],
      "source": [
        "client = MongoClient('localhost',27017)"
      ]
    },
    {
      "cell_type": "code",
      "execution_count": null,
      "id": "cdee9cae-223f-48ad-983a-7441616a53e2",
      "metadata": {
        "id": "cdee9cae-223f-48ad-983a-7441616a53e2",
        "outputId": "f855e58d-1be2-408d-a390-bbe69fe13c23"
      },
      "outputs": [
        {
          "name": "stdout",
          "output_type": "stream",
          "text": [
            "['admin', 'config', 'internal_assignment-2', 'local', 'tata_online_retail', 'week3', 'week4']\n"
          ]
        }
      ],
      "source": [
        "all_db = client.list_database_names()\n",
        "print(all_db)"
      ]
    },
    {
      "cell_type": "code",
      "execution_count": null,
      "id": "e33726a9-d117-4e32-95e0-ff163ea63798",
      "metadata": {
        "id": "e33726a9-d117-4e32-95e0-ff163ea63798"
      },
      "outputs": [],
      "source": [
        "db = client['tata_online_retail']"
      ]
    },
    {
      "cell_type": "code",
      "execution_count": null,
      "id": "97b978ba-090f-4e92-abf0-c3ef4cd55507",
      "metadata": {
        "id": "97b978ba-090f-4e92-abf0-c3ef4cd55507",
        "outputId": "6bd879cf-02cd-4ef5-e2a0-905575cb9a70"
      },
      "outputs": [
        {
          "name": "stdout",
          "output_type": "stream",
          "text": [
            "['sales']\n"
          ]
        }
      ],
      "source": [
        "all_collection = db.list_collection_names()\n",
        "print(all_collection)"
      ]
    },
    {
      "cell_type": "code",
      "execution_count": null,
      "id": "68c3c0b2-bec5-4a66-b636-1141f0c1b245",
      "metadata": {
        "id": "68c3c0b2-bec5-4a66-b636-1141f0c1b245"
      },
      "outputs": [],
      "source": [
        "collection = db['sales']"
      ]
    },
    {
      "cell_type": "code",
      "execution_count": null,
      "id": "9ddff2f6-ffb4-4307-a88b-04d2be5d4eae",
      "metadata": {
        "id": "9ddff2f6-ffb4-4307-a88b-04d2be5d4eae"
      },
      "outputs": [],
      "source": [
        "num_documents = collection.count_documents({})\n",
        "unique_fields = set()\n",
        "for document in collection.find():\n",
        "    unique_fields.update(document.keys())\n",
        "num_fields = len(unique_fields)"
      ]
    },
    {
      "cell_type": "code",
      "execution_count": null,
      "id": "1e587fcd-7b1c-4a75-8ac4-02ec44659dc0",
      "metadata": {
        "id": "1e587fcd-7b1c-4a75-8ac4-02ec44659dc0",
        "outputId": "5aaf0579-6d22-4874-96e0-23be27262115"
      },
      "outputs": [
        {
          "name": "stdout",
          "output_type": "stream",
          "text": [
            "Number of documents (rows) = 541909\n",
            "Number of fields (columns) = 9\n"
          ]
        }
      ],
      "source": [
        "print(\"Number of documents (rows) =\",num_documents)\n",
        "print(\"Number of fields (columns) =\",num_fields)"
      ]
    },
    {
      "cell_type": "markdown",
      "id": "kfuXEY0lOFk8",
      "metadata": {
        "id": "kfuXEY0lOFk8"
      },
      "source": [
        "# Data Analysis"
      ]
    },
    {
      "cell_type": "code",
      "execution_count": 69,
      "id": "eb049353-618e-49f6-bbdc-3f5e45b3fbaa",
      "metadata": {
        "id": "eb049353-618e-49f6-bbdc-3f5e45b3fbaa"
      },
      "outputs": [],
      "source": [
        "import pandas as pd\n",
        "import numpy as np\n",
        "import matplotlib.pyplot as plt\n",
        "import seaborn as sns\n",
        "from sklearn.linear_model import LinearRegression\n",
        "from sklearn.model_selection import train_test_split\n",
        "import sklearn.metrics as metrics"
      ]
    },
    {
      "cell_type": "code",
      "execution_count": 70,
      "id": "bb6ac670-d2e9-4d37-b2f9-6b238a5b10c5",
      "metadata": {
        "id": "bb6ac670-d2e9-4d37-b2f9-6b238a5b10c5"
      },
      "outputs": [],
      "source": [
        "df = pd.read_csv('sales_data.csv',encoding = \"unicode_escape\")"
      ]
    },
    {
      "cell_type": "code",
      "execution_count": 71,
      "id": "965f349d-e249-48b0-bf35-b0b4af1010cb",
      "metadata": {
        "id": "965f349d-e249-48b0-bf35-b0b4af1010cb",
        "outputId": "39d045be-89f6-40b2-9270-f5cf70b9e0e3"
      },
      "outputs": [
        {
          "data": {
            "text/html": [
              "<div>\n",
              "<style scoped>\n",
              "    .dataframe tbody tr th:only-of-type {\n",
              "        vertical-align: middle;\n",
              "    }\n",
              "\n",
              "    .dataframe tbody tr th {\n",
              "        vertical-align: top;\n",
              "    }\n",
              "\n",
              "    .dataframe thead th {\n",
              "        text-align: right;\n",
              "    }\n",
              "</style>\n",
              "<table border=\"1\" class=\"dataframe\">\n",
              "  <thead>\n",
              "    <tr style=\"text-align: right;\">\n",
              "      <th></th>\n",
              "      <th>InvoiceNo</th>\n",
              "      <th>StockCode</th>\n",
              "      <th>Description</th>\n",
              "      <th>Quantity</th>\n",
              "      <th>InvoiceDate</th>\n",
              "      <th>UnitPrice</th>\n",
              "      <th>CustomerID</th>\n",
              "      <th>Country</th>\n",
              "    </tr>\n",
              "  </thead>\n",
              "  <tbody>\n",
              "    <tr>\n",
              "      <th>0</th>\n",
              "      <td>536365</td>\n",
              "      <td>85123A</td>\n",
              "      <td>WHITE HANGING HEART T-LIGHT HOLDER</td>\n",
              "      <td>6</td>\n",
              "      <td>01-12-2010 08:26</td>\n",
              "      <td>2.55</td>\n",
              "      <td>17850.0</td>\n",
              "      <td>United Kingdom</td>\n",
              "    </tr>\n",
              "    <tr>\n",
              "      <th>1</th>\n",
              "      <td>536365</td>\n",
              "      <td>71053</td>\n",
              "      <td>WHITE METAL LANTERN</td>\n",
              "      <td>6</td>\n",
              "      <td>01-12-2010 08:26</td>\n",
              "      <td>3.39</td>\n",
              "      <td>17850.0</td>\n",
              "      <td>United Kingdom</td>\n",
              "    </tr>\n",
              "    <tr>\n",
              "      <th>2</th>\n",
              "      <td>536365</td>\n",
              "      <td>84406B</td>\n",
              "      <td>CREAM CUPID HEARTS COAT HANGER</td>\n",
              "      <td>8</td>\n",
              "      <td>01-12-2010 08:26</td>\n",
              "      <td>2.75</td>\n",
              "      <td>17850.0</td>\n",
              "      <td>United Kingdom</td>\n",
              "    </tr>\n",
              "    <tr>\n",
              "      <th>3</th>\n",
              "      <td>536365</td>\n",
              "      <td>84029G</td>\n",
              "      <td>KNITTED UNION FLAG HOT WATER BOTTLE</td>\n",
              "      <td>6</td>\n",
              "      <td>01-12-2010 08:26</td>\n",
              "      <td>3.39</td>\n",
              "      <td>17850.0</td>\n",
              "      <td>United Kingdom</td>\n",
              "    </tr>\n",
              "    <tr>\n",
              "      <th>4</th>\n",
              "      <td>536365</td>\n",
              "      <td>84029E</td>\n",
              "      <td>RED WOOLLY HOTTIE WHITE HEART.</td>\n",
              "      <td>6</td>\n",
              "      <td>01-12-2010 08:26</td>\n",
              "      <td>3.39</td>\n",
              "      <td>17850.0</td>\n",
              "      <td>United Kingdom</td>\n",
              "    </tr>\n",
              "  </tbody>\n",
              "</table>\n",
              "</div>"
            ],
            "text/plain": [
              "  InvoiceNo StockCode                          Description  Quantity  \\\n",
              "0    536365    85123A   WHITE HANGING HEART T-LIGHT HOLDER         6   \n",
              "1    536365     71053                  WHITE METAL LANTERN         6   \n",
              "2    536365    84406B       CREAM CUPID HEARTS COAT HANGER         8   \n",
              "3    536365    84029G  KNITTED UNION FLAG HOT WATER BOTTLE         6   \n",
              "4    536365    84029E       RED WOOLLY HOTTIE WHITE HEART.         6   \n",
              "\n",
              "        InvoiceDate  UnitPrice  CustomerID         Country  \n",
              "0  01-12-2010 08:26       2.55     17850.0  United Kingdom  \n",
              "1  01-12-2010 08:26       3.39     17850.0  United Kingdom  \n",
              "2  01-12-2010 08:26       2.75     17850.0  United Kingdom  \n",
              "3  01-12-2010 08:26       3.39     17850.0  United Kingdom  \n",
              "4  01-12-2010 08:26       3.39     17850.0  United Kingdom  "
            ]
          },
          "execution_count": 71,
          "metadata": {},
          "output_type": "execute_result"
        }
      ],
      "source": [
        "df.head()"
      ]
    },
    {
      "cell_type": "code",
      "execution_count": 72,
      "id": "5d5dca75-5904-422c-852d-145817e7ef7d",
      "metadata": {
        "id": "5d5dca75-5904-422c-852d-145817e7ef7d",
        "outputId": "4bf8a5db-6bb9-47fd-d4ad-4f705241a7ab"
      },
      "outputs": [
        {
          "data": {
            "text/html": [
              "<div>\n",
              "<style scoped>\n",
              "    .dataframe tbody tr th:only-of-type {\n",
              "        vertical-align: middle;\n",
              "    }\n",
              "\n",
              "    .dataframe tbody tr th {\n",
              "        vertical-align: top;\n",
              "    }\n",
              "\n",
              "    .dataframe thead th {\n",
              "        text-align: right;\n",
              "    }\n",
              "</style>\n",
              "<table border=\"1\" class=\"dataframe\">\n",
              "  <thead>\n",
              "    <tr style=\"text-align: right;\">\n",
              "      <th></th>\n",
              "      <th>Quantity</th>\n",
              "      <th>UnitPrice</th>\n",
              "      <th>CustomerID</th>\n",
              "    </tr>\n",
              "  </thead>\n",
              "  <tbody>\n",
              "    <tr>\n",
              "      <th>count</th>\n",
              "      <td>541909.000000</td>\n",
              "      <td>541909.000000</td>\n",
              "      <td>406829.000000</td>\n",
              "    </tr>\n",
              "    <tr>\n",
              "      <th>mean</th>\n",
              "      <td>9.552250</td>\n",
              "      <td>4.611114</td>\n",
              "      <td>15287.690570</td>\n",
              "    </tr>\n",
              "    <tr>\n",
              "      <th>std</th>\n",
              "      <td>218.081158</td>\n",
              "      <td>96.759853</td>\n",
              "      <td>1713.600303</td>\n",
              "    </tr>\n",
              "    <tr>\n",
              "      <th>min</th>\n",
              "      <td>-80995.000000</td>\n",
              "      <td>-11062.060000</td>\n",
              "      <td>12346.000000</td>\n",
              "    </tr>\n",
              "    <tr>\n",
              "      <th>25%</th>\n",
              "      <td>1.000000</td>\n",
              "      <td>1.250000</td>\n",
              "      <td>13953.000000</td>\n",
              "    </tr>\n",
              "    <tr>\n",
              "      <th>50%</th>\n",
              "      <td>3.000000</td>\n",
              "      <td>2.080000</td>\n",
              "      <td>15152.000000</td>\n",
              "    </tr>\n",
              "    <tr>\n",
              "      <th>75%</th>\n",
              "      <td>10.000000</td>\n",
              "      <td>4.130000</td>\n",
              "      <td>16791.000000</td>\n",
              "    </tr>\n",
              "    <tr>\n",
              "      <th>max</th>\n",
              "      <td>80995.000000</td>\n",
              "      <td>38970.000000</td>\n",
              "      <td>18287.000000</td>\n",
              "    </tr>\n",
              "  </tbody>\n",
              "</table>\n",
              "</div>"
            ],
            "text/plain": [
              "            Quantity      UnitPrice     CustomerID\n",
              "count  541909.000000  541909.000000  406829.000000\n",
              "mean        9.552250       4.611114   15287.690570\n",
              "std       218.081158      96.759853    1713.600303\n",
              "min    -80995.000000  -11062.060000   12346.000000\n",
              "25%         1.000000       1.250000   13953.000000\n",
              "50%         3.000000       2.080000   15152.000000\n",
              "75%        10.000000       4.130000   16791.000000\n",
              "max     80995.000000   38970.000000   18287.000000"
            ]
          },
          "execution_count": 72,
          "metadata": {},
          "output_type": "execute_result"
        }
      ],
      "source": [
        "df.describe()"
      ]
    },
    {
      "cell_type": "code",
      "execution_count": 73,
      "id": "e8fa1c3d-0fc5-44b9-ae64-8abf23f3f7ca",
      "metadata": {
        "id": "e8fa1c3d-0fc5-44b9-ae64-8abf23f3f7ca",
        "outputId": "1e655b4c-3c83-49c3-a0c7-5e3e26a58c1f"
      },
      "outputs": [
        {
          "data": {
            "text/plain": [
              "(541909, 8)"
            ]
          },
          "execution_count": 73,
          "metadata": {},
          "output_type": "execute_result"
        }
      ],
      "source": [
        "df.shape"
      ]
    },
    {
      "cell_type": "markdown",
      "id": "dPD8AC2kOJnR",
      "metadata": {
        "id": "dPD8AC2kOJnR"
      },
      "source": [
        "# Data Cleaning"
      ]
    },
    {
      "cell_type": "markdown",
      "id": "ogWUPzY1wWb_",
      "metadata": {
        "id": "ogWUPzY1wWb_"
      },
      "source": [
        "Duplicates, missing values, and null values checking, dropping, and replacing"
      ]
    },
    {
      "cell_type": "code",
      "execution_count": 74,
      "id": "45191217-32f2-4d9f-881d-302286798128",
      "metadata": {
        "id": "45191217-32f2-4d9f-881d-302286798128",
        "outputId": "5755f6bd-85ab-4bc8-e1d0-4248e318764c"
      },
      "outputs": [
        {
          "data": {
            "text/plain": [
              "np.int64(5268)"
            ]
          },
          "execution_count": 74,
          "metadata": {},
          "output_type": "execute_result"
        }
      ],
      "source": [
        "df.duplicated().sum()"
      ]
    },
    {
      "cell_type": "code",
      "execution_count": 75,
      "id": "d0cffb8d-86fa-42da-ab24-bb2df5d07777",
      "metadata": {
        "id": "d0cffb8d-86fa-42da-ab24-bb2df5d07777"
      },
      "outputs": [],
      "source": [
        "df = df.drop_duplicates()"
      ]
    },
    {
      "cell_type": "code",
      "execution_count": 76,
      "id": "39134efd-bf88-4614-b966-97afadb1d81c",
      "metadata": {
        "id": "39134efd-bf88-4614-b966-97afadb1d81c",
        "outputId": "264973f1-0520-40d4-8c70-3e82246d3f62"
      },
      "outputs": [
        {
          "data": {
            "text/plain": [
              "np.int64(0)"
            ]
          },
          "execution_count": 76,
          "metadata": {},
          "output_type": "execute_result"
        }
      ],
      "source": [
        "df.duplicated().sum()"
      ]
    },
    {
      "cell_type": "code",
      "execution_count": 77,
      "id": "4872edec-8bf9-4b0c-8b6d-44c38a2b336c",
      "metadata": {
        "id": "4872edec-8bf9-4b0c-8b6d-44c38a2b336c",
        "outputId": "924f0edb-f982-40d9-8aee-0bbb6304acc2"
      },
      "outputs": [
        {
          "data": {
            "text/plain": [
              "InvoiceNo           0\n",
              "StockCode           0\n",
              "Description      1454\n",
              "Quantity            0\n",
              "InvoiceDate         0\n",
              "UnitPrice           0\n",
              "CustomerID     135037\n",
              "Country             0\n",
              "dtype: int64"
            ]
          },
          "execution_count": 77,
          "metadata": {},
          "output_type": "execute_result"
        }
      ],
      "source": [
        "df.isna().sum()"
      ]
    },
    {
      "cell_type": "code",
      "execution_count": 78,
      "id": "4b43a739-fc4c-4895-8925-938107581b66",
      "metadata": {
        "id": "4b43a739-fc4c-4895-8925-938107581b66",
        "outputId": "0e78c5b4-b643-4210-c967-9a7b020769bc"
      },
      "outputs": [
        {
          "data": {
            "text/plain": [
              "(536641, 8)"
            ]
          },
          "execution_count": 78,
          "metadata": {},
          "output_type": "execute_result"
        }
      ],
      "source": [
        "df.shape"
      ]
    },
    {
      "cell_type": "code",
      "execution_count": 79,
      "id": "648bea91-409e-4e21-812a-318a2f935c6f",
      "metadata": {
        "id": "648bea91-409e-4e21-812a-318a2f935c6f",
        "outputId": "e3c83e0c-5eae-44e2-ff5f-571418f0c8e4"
      },
      "outputs": [
        {
          "data": {
            "text/html": [
              "<div>\n",
              "<style scoped>\n",
              "    .dataframe tbody tr th:only-of-type {\n",
              "        vertical-align: middle;\n",
              "    }\n",
              "\n",
              "    .dataframe tbody tr th {\n",
              "        vertical-align: top;\n",
              "    }\n",
              "\n",
              "    .dataframe thead th {\n",
              "        text-align: right;\n",
              "    }\n",
              "</style>\n",
              "<table border=\"1\" class=\"dataframe\">\n",
              "  <thead>\n",
              "    <tr style=\"text-align: right;\">\n",
              "      <th></th>\n",
              "      <th>InvoiceNo</th>\n",
              "      <th>StockCode</th>\n",
              "      <th>Description</th>\n",
              "      <th>Quantity</th>\n",
              "      <th>InvoiceDate</th>\n",
              "      <th>UnitPrice</th>\n",
              "      <th>CustomerID</th>\n",
              "      <th>Country</th>\n",
              "    </tr>\n",
              "  </thead>\n",
              "  <tbody>\n",
              "    <tr>\n",
              "      <th>0</th>\n",
              "      <td>536365</td>\n",
              "      <td>85123A</td>\n",
              "      <td>WHITE HANGING HEART T-LIGHT HOLDER</td>\n",
              "      <td>6</td>\n",
              "      <td>01-12-2010 08:26</td>\n",
              "      <td>2.55</td>\n",
              "      <td>17850.0</td>\n",
              "      <td>United Kingdom</td>\n",
              "    </tr>\n",
              "    <tr>\n",
              "      <th>1</th>\n",
              "      <td>536365</td>\n",
              "      <td>71053</td>\n",
              "      <td>WHITE METAL LANTERN</td>\n",
              "      <td>6</td>\n",
              "      <td>01-12-2010 08:26</td>\n",
              "      <td>3.39</td>\n",
              "      <td>17850.0</td>\n",
              "      <td>United Kingdom</td>\n",
              "    </tr>\n",
              "    <tr>\n",
              "      <th>2</th>\n",
              "      <td>536365</td>\n",
              "      <td>84406B</td>\n",
              "      <td>CREAM CUPID HEARTS COAT HANGER</td>\n",
              "      <td>8</td>\n",
              "      <td>01-12-2010 08:26</td>\n",
              "      <td>2.75</td>\n",
              "      <td>17850.0</td>\n",
              "      <td>United Kingdom</td>\n",
              "    </tr>\n",
              "    <tr>\n",
              "      <th>3</th>\n",
              "      <td>536365</td>\n",
              "      <td>84029G</td>\n",
              "      <td>KNITTED UNION FLAG HOT WATER BOTTLE</td>\n",
              "      <td>6</td>\n",
              "      <td>01-12-2010 08:26</td>\n",
              "      <td>3.39</td>\n",
              "      <td>17850.0</td>\n",
              "      <td>United Kingdom</td>\n",
              "    </tr>\n",
              "    <tr>\n",
              "      <th>4</th>\n",
              "      <td>536365</td>\n",
              "      <td>84029E</td>\n",
              "      <td>RED WOOLLY HOTTIE WHITE HEART.</td>\n",
              "      <td>6</td>\n",
              "      <td>01-12-2010 08:26</td>\n",
              "      <td>3.39</td>\n",
              "      <td>17850.0</td>\n",
              "      <td>United Kingdom</td>\n",
              "    </tr>\n",
              "  </tbody>\n",
              "</table>\n",
              "</div>"
            ],
            "text/plain": [
              "  InvoiceNo StockCode                          Description  Quantity  \\\n",
              "0    536365    85123A   WHITE HANGING HEART T-LIGHT HOLDER         6   \n",
              "1    536365     71053                  WHITE METAL LANTERN         6   \n",
              "2    536365    84406B       CREAM CUPID HEARTS COAT HANGER         8   \n",
              "3    536365    84029G  KNITTED UNION FLAG HOT WATER BOTTLE         6   \n",
              "4    536365    84029E       RED WOOLLY HOTTIE WHITE HEART.         6   \n",
              "\n",
              "        InvoiceDate  UnitPrice  CustomerID         Country  \n",
              "0  01-12-2010 08:26       2.55     17850.0  United Kingdom  \n",
              "1  01-12-2010 08:26       3.39     17850.0  United Kingdom  \n",
              "2  01-12-2010 08:26       2.75     17850.0  United Kingdom  \n",
              "3  01-12-2010 08:26       3.39     17850.0  United Kingdom  \n",
              "4  01-12-2010 08:26       3.39     17850.0  United Kingdom  "
            ]
          },
          "execution_count": 79,
          "metadata": {},
          "output_type": "execute_result"
        }
      ],
      "source": [
        "copy = df.copy()\n",
        "copy.head()"
      ]
    },
    {
      "cell_type": "code",
      "execution_count": 80,
      "id": "61420dfe-1d82-44c5-9141-1ee5eedba067",
      "metadata": {
        "id": "61420dfe-1d82-44c5-9141-1ee5eedba067"
      },
      "outputs": [],
      "source": [
        "df['Description'] = df['Description'].fillna(\"Unknown\")\n",
        "df['CustomerID'] = df['CustomerID'].fillna(0)"
      ]
    },
    {
      "cell_type": "code",
      "execution_count": 81,
      "id": "39cb7c6d-0d97-4d9b-88fd-d0dc82885b2e",
      "metadata": {
        "id": "39cb7c6d-0d97-4d9b-88fd-d0dc82885b2e",
        "outputId": "35d776f7-b9b7-4cbf-db09-16ada98deaaa"
      },
      "outputs": [
        {
          "data": {
            "text/plain": [
              "InvoiceNo      0\n",
              "StockCode      0\n",
              "Description    0\n",
              "Quantity       0\n",
              "InvoiceDate    0\n",
              "UnitPrice      0\n",
              "CustomerID     0\n",
              "Country        0\n",
              "dtype: int64"
            ]
          },
          "execution_count": 81,
          "metadata": {},
          "output_type": "execute_result"
        }
      ],
      "source": [
        "df.isnull().sum()"
      ]
    },
    {
      "cell_type": "code",
      "execution_count": 82,
      "id": "1344eee6-69f4-4779-9de4-89b82b824715",
      "metadata": {
        "id": "1344eee6-69f4-4779-9de4-89b82b824715",
        "outputId": "32354bf2-05f4-4ed8-fe52-1baebbc212fb"
      },
      "outputs": [
        {
          "data": {
            "text/plain": [
              "InvoiceNo       object\n",
              "StockCode       object\n",
              "Description     object\n",
              "Quantity         int64\n",
              "InvoiceDate     object\n",
              "UnitPrice      float64\n",
              "CustomerID     float64\n",
              "Country         object\n",
              "dtype: object"
            ]
          },
          "execution_count": 82,
          "metadata": {},
          "output_type": "execute_result"
        }
      ],
      "source": [
        "df.dtypes"
      ]
    },
    {
      "cell_type": "code",
      "execution_count": 83,
      "id": "0030b310-f45e-41d3-bd4c-a52c947e85d7",
      "metadata": {
        "id": "0030b310-f45e-41d3-bd4c-a52c947e85d7",
        "outputId": "48635abb-ee43-4219-9b7b-82514931e62f"
      },
      "outputs": [
        {
          "name": "stdout",
          "output_type": "stream",
          "text": [
            "<class 'pandas.core.frame.DataFrame'>\n",
            "Index: 536641 entries, 0 to 541908\n",
            "Data columns (total 8 columns):\n",
            " #   Column       Non-Null Count   Dtype  \n",
            "---  ------       --------------   -----  \n",
            " 0   InvoiceNo    536641 non-null  object \n",
            " 1   StockCode    536641 non-null  object \n",
            " 2   Description  536641 non-null  object \n",
            " 3   Quantity     536641 non-null  int64  \n",
            " 4   InvoiceDate  536641 non-null  object \n",
            " 5   UnitPrice    536641 non-null  float64\n",
            " 6   CustomerID   536641 non-null  float64\n",
            " 7   Country      536641 non-null  object \n",
            "dtypes: float64(2), int64(1), object(5)\n",
            "memory usage: 36.8+ MB\n"
          ]
        }
      ],
      "source": [
        "df.info()"
      ]
    },
    {
      "cell_type": "markdown",
      "id": "GV9gZZ1hwsXa",
      "metadata": {
        "id": "GV9gZZ1hwsXa"
      },
      "source": [
        "Outlier Identification"
      ]
    },
    {
      "cell_type": "code",
      "execution_count": 84,
      "id": "3165853c-9949-4fd9-9884-ccdafeef6e29",
      "metadata": {
        "id": "3165853c-9949-4fd9-9884-ccdafeef6e29",
        "outputId": "c4d3086c-4199-42b6-aa53-819e16faf98c"
      },
      "outputs": [
        {
          "data": {
            "text/plain": [
              "<Axes: ylabel='UnitPrice'>"
            ]
          },
          "execution_count": 84,
          "metadata": {},
          "output_type": "execute_result"
        },
        {
          "data": {
            "image/png": "[encoded data removed]",
            "text/plain": [
              "<Figure size 640x480 with 1 Axes>"
            ]
          },
          "metadata": {},
          "output_type": "display_data"
        }
      ],
      "source": [
        "#Check Unit Price`s Distribution\n",
        "sns.boxplot(y = 'UnitPrice', data=df)"
      ]
    },
    {
      "cell_type": "markdown",
      "id": "vUMPca4Vw12Y",
      "metadata": {
        "id": "vUMPca4Vw12Y"
      },
      "source": [
        "From the boxplot we can see that the column “UnitPrice” has values\n",
        "below 0, which is unusual."
      ]
    },
    {
      "cell_type": "code",
      "execution_count": 85,
      "id": "c34b54ca-d27f-452e-8aab-22c7a5d0846b",
      "metadata": {
        "id": "c34b54ca-d27f-452e-8aab-22c7a5d0846b",
        "outputId": "dfba0af6-ac99-4bec-c25b-412282746e2c"
      },
      "outputs": [
        {
          "data": {
            "text/html": [
              "<div>\n",
              "<style scoped>\n",
              "    .dataframe tbody tr th:only-of-type {\n",
              "        vertical-align: middle;\n",
              "    }\n",
              "\n",
              "    .dataframe tbody tr th {\n",
              "        vertical-align: top;\n",
              "    }\n",
              "\n",
              "    .dataframe thead th {\n",
              "        text-align: right;\n",
              "    }\n",
              "</style>\n",
              "<table border=\"1\" class=\"dataframe\">\n",
              "  <thead>\n",
              "    <tr style=\"text-align: right;\">\n",
              "      <th></th>\n",
              "      <th>InvoiceNo</th>\n",
              "      <th>StockCode</th>\n",
              "      <th>Description</th>\n",
              "      <th>Quantity</th>\n",
              "      <th>InvoiceDate</th>\n",
              "      <th>UnitPrice</th>\n",
              "      <th>CustomerID</th>\n",
              "      <th>Country</th>\n",
              "    </tr>\n",
              "  </thead>\n",
              "  <tbody>\n",
              "    <tr>\n",
              "      <th>299983</th>\n",
              "      <td>A563186</td>\n",
              "      <td>B</td>\n",
              "      <td>Adjust bad debt</td>\n",
              "      <td>1</td>\n",
              "      <td>12-08-2011 14:51</td>\n",
              "      <td>-11062.06</td>\n",
              "      <td>0.0</td>\n",
              "      <td>United Kingdom</td>\n",
              "    </tr>\n",
              "    <tr>\n",
              "      <th>299984</th>\n",
              "      <td>A563187</td>\n",
              "      <td>B</td>\n",
              "      <td>Adjust bad debt</td>\n",
              "      <td>1</td>\n",
              "      <td>12-08-2011 14:52</td>\n",
              "      <td>-11062.06</td>\n",
              "      <td>0.0</td>\n",
              "      <td>United Kingdom</td>\n",
              "    </tr>\n",
              "  </tbody>\n",
              "</table>\n",
              "</div>"
            ],
            "text/plain": [
              "       InvoiceNo StockCode      Description  Quantity       InvoiceDate  \\\n",
              "299983   A563186         B  Adjust bad debt         1  12-08-2011 14:51   \n",
              "299984   A563187         B  Adjust bad debt         1  12-08-2011 14:52   \n",
              "\n",
              "        UnitPrice  CustomerID         Country  \n",
              "299983  -11062.06         0.0  United Kingdom  \n",
              "299984  -11062.06         0.0  United Kingdom  "
            ]
          },
          "execution_count": 85,
          "metadata": {},
          "output_type": "execute_result"
        }
      ],
      "source": [
        "df[df['UnitPrice'] < 0]"
      ]
    },
    {
      "cell_type": "markdown",
      "id": "eVC6UNA8w4kN",
      "metadata": {
        "id": "eVC6UNA8w4kN"
      },
      "source": [
        "When looking at the description rows, with ‘UnitPrice’ designated with\n",
        "the value of 0, it can be seen that it the data of debt adjustment, i.e.\n",
        "payment of pending payment. The debt data is not required since those\n",
        "rows were for clearing of debts and Price cannot be of negative nature, they are dropped henceforth."
      ]
    },
    {
      "cell_type": "code",
      "execution_count": 86,
      "id": "a4c3ed23-db3d-4682-b13b-94454049e13a",
      "metadata": {
        "id": "a4c3ed23-db3d-4682-b13b-94454049e13a",
        "outputId": "86818de7-76de-467b-fe92-0af607acbe42"
      },
      "outputs": [
        {
          "data": {
            "text/html": [
              "<div>\n",
              "<style scoped>\n",
              "    .dataframe tbody tr th:only-of-type {\n",
              "        vertical-align: middle;\n",
              "    }\n",
              "\n",
              "    .dataframe tbody tr th {\n",
              "        vertical-align: top;\n",
              "    }\n",
              "\n",
              "    .dataframe thead th {\n",
              "        text-align: right;\n",
              "    }\n",
              "</style>\n",
              "<table border=\"1\" class=\"dataframe\">\n",
              "  <thead>\n",
              "    <tr style=\"text-align: right;\">\n",
              "      <th></th>\n",
              "      <th>InvoiceNo</th>\n",
              "      <th>StockCode</th>\n",
              "      <th>Description</th>\n",
              "      <th>Quantity</th>\n",
              "      <th>InvoiceDate</th>\n",
              "      <th>UnitPrice</th>\n",
              "      <th>CustomerID</th>\n",
              "      <th>Country</th>\n",
              "    </tr>\n",
              "  </thead>\n",
              "  <tbody>\n",
              "    <tr>\n",
              "      <th>299982</th>\n",
              "      <td>A563185</td>\n",
              "      <td>B</td>\n",
              "      <td>Adjust bad debt</td>\n",
              "      <td>1</td>\n",
              "      <td>12-08-2011 14:50</td>\n",
              "      <td>11062.06</td>\n",
              "      <td>0.0</td>\n",
              "      <td>United Kingdom</td>\n",
              "    </tr>\n",
              "    <tr>\n",
              "      <th>299983</th>\n",
              "      <td>A563186</td>\n",
              "      <td>B</td>\n",
              "      <td>Adjust bad debt</td>\n",
              "      <td>1</td>\n",
              "      <td>12-08-2011 14:51</td>\n",
              "      <td>-11062.06</td>\n",
              "      <td>0.0</td>\n",
              "      <td>United Kingdom</td>\n",
              "    </tr>\n",
              "    <tr>\n",
              "      <th>299984</th>\n",
              "      <td>A563187</td>\n",
              "      <td>B</td>\n",
              "      <td>Adjust bad debt</td>\n",
              "      <td>1</td>\n",
              "      <td>12-08-2011 14:52</td>\n",
              "      <td>-11062.06</td>\n",
              "      <td>0.0</td>\n",
              "      <td>United Kingdom</td>\n",
              "    </tr>\n",
              "  </tbody>\n",
              "</table>\n",
              "</div>"
            ],
            "text/plain": [
              "       InvoiceNo StockCode      Description  Quantity       InvoiceDate  \\\n",
              "299982   A563185         B  Adjust bad debt         1  12-08-2011 14:50   \n",
              "299983   A563186         B  Adjust bad debt         1  12-08-2011 14:51   \n",
              "299984   A563187         B  Adjust bad debt         1  12-08-2011 14:52   \n",
              "\n",
              "        UnitPrice  CustomerID         Country  \n",
              "299982   11062.06         0.0  United Kingdom  \n",
              "299983  -11062.06         0.0  United Kingdom  \n",
              "299984  -11062.06         0.0  United Kingdom  "
            ]
          },
          "execution_count": 86,
          "metadata": {},
          "output_type": "execute_result"
        }
      ],
      "source": [
        "df[df['Description'].str.contains('debt', case=False)]"
      ]
    },
    {
      "cell_type": "code",
      "execution_count": 87,
      "id": "828f1045-92a4-4cc9-a109-de2a5d0708a5",
      "metadata": {
        "id": "828f1045-92a4-4cc9-a109-de2a5d0708a5"
      },
      "outputs": [],
      "source": [
        "df = df[df['UnitPrice']>0]"
      ]
    },
    {
      "cell_type": "code",
      "execution_count": 88,
      "id": "1c5dd516-5fbd-455a-a951-bc00c925f3c9",
      "metadata": {
        "id": "1c5dd516-5fbd-455a-a951-bc00c925f3c9",
        "outputId": "9083b9bb-a742-46a4-8c32-d51ead8526f4"
      },
      "outputs": [
        {
          "data": {
            "text/html": [
              "<div>\n",
              "<style scoped>\n",
              "    .dataframe tbody tr th:only-of-type {\n",
              "        vertical-align: middle;\n",
              "    }\n",
              "\n",
              "    .dataframe tbody tr th {\n",
              "        vertical-align: top;\n",
              "    }\n",
              "\n",
              "    .dataframe thead th {\n",
              "        text-align: right;\n",
              "    }\n",
              "</style>\n",
              "<table border=\"1\" class=\"dataframe\">\n",
              "  <thead>\n",
              "    <tr style=\"text-align: right;\">\n",
              "      <th></th>\n",
              "      <th>InvoiceNo</th>\n",
              "      <th>StockCode</th>\n",
              "      <th>Description</th>\n",
              "      <th>Quantity</th>\n",
              "      <th>InvoiceDate</th>\n",
              "      <th>UnitPrice</th>\n",
              "      <th>CustomerID</th>\n",
              "      <th>Country</th>\n",
              "    </tr>\n",
              "  </thead>\n",
              "  <tbody>\n",
              "  </tbody>\n",
              "</table>\n",
              "</div>"
            ],
            "text/plain": [
              "Empty DataFrame\n",
              "Columns: [InvoiceNo, StockCode, Description, Quantity, InvoiceDate, UnitPrice, CustomerID, Country]\n",
              "Index: []"
            ]
          },
          "execution_count": 88,
          "metadata": {},
          "output_type": "execute_result"
        }
      ],
      "source": [
        "df[df['UnitPrice'] < 0]"
      ]
    },
    {
      "cell_type": "code",
      "execution_count": 89,
      "id": "a0a4874e-5691-422e-a662-4b68cd6ab2d7",
      "metadata": {
        "id": "a0a4874e-5691-422e-a662-4b68cd6ab2d7",
        "outputId": "2213d923-a621-4078-f3c3-1234e0142de1"
      },
      "outputs": [
        {
          "data": {
            "text/plain": [
              "np.float64(0.001)"
            ]
          },
          "execution_count": 89,
          "metadata": {},
          "output_type": "execute_result"
        }
      ],
      "source": [
        "#check the minimum\n",
        "df['UnitPrice'].min()"
      ]
    },
    {
      "cell_type": "code",
      "execution_count": 90,
      "id": "aaadfa58-5906-444f-a2df-9b7af2d97a33",
      "metadata": {
        "id": "aaadfa58-5906-444f-a2df-9b7af2d97a33",
        "outputId": "62418af3-488d-4ab3-8492-f2cc282930da"
      },
      "outputs": [
        {
          "data": {
            "text/plain": [
              "<Axes: ylabel='Quantity'>"
            ]
          },
          "execution_count": 90,
          "metadata": {},
          "output_type": "execute_result"
        },
        {
          "data": {
            "image/png": "[encoded data removed]",
            "text/plain": [
              "<Figure size 640x480 with 1 Axes>"
            ]
          },
          "metadata": {},
          "output_type": "display_data"
        }
      ],
      "source": [
        "sns.boxplot(y = 'Quantity', data=df)"
      ]
    },
    {
      "cell_type": "markdown",
      "id": "8NWb4FAQxNbv",
      "metadata": {
        "id": "8NWb4FAQxNbv"
      },
      "source": [
        "An observation can be drawn that there are rows where Quantity is\n",
        "below 0 which occur when a purchase is cancelled by the customer. Since, only the sales data is being analyzed it is safe to drop the\n",
        "cancelled orders."
      ]
    },
    {
      "cell_type": "code",
      "execution_count": 91,
      "id": "2298e083-078a-4ff5-b908-1f9d0d405d74",
      "metadata": {
        "id": "2298e083-078a-4ff5-b908-1f9d0d405d74",
        "outputId": "76c7a21a-144f-4f28-b111-bcd2320bf26a"
      },
      "outputs": [
        {
          "data": {
            "text/html": [
              "<div>\n",
              "<style scoped>\n",
              "    .dataframe tbody tr th:only-of-type {\n",
              "        vertical-align: middle;\n",
              "    }\n",
              "\n",
              "    .dataframe tbody tr th {\n",
              "        vertical-align: top;\n",
              "    }\n",
              "\n",
              "    .dataframe thead th {\n",
              "        text-align: right;\n",
              "    }\n",
              "</style>\n",
              "<table border=\"1\" class=\"dataframe\">\n",
              "  <thead>\n",
              "    <tr style=\"text-align: right;\">\n",
              "      <th></th>\n",
              "      <th>InvoiceNo</th>\n",
              "      <th>StockCode</th>\n",
              "      <th>Description</th>\n",
              "      <th>Quantity</th>\n",
              "      <th>InvoiceDate</th>\n",
              "      <th>UnitPrice</th>\n",
              "      <th>CustomerID</th>\n",
              "      <th>Country</th>\n",
              "    </tr>\n",
              "  </thead>\n",
              "  <tbody>\n",
              "    <tr>\n",
              "      <th>141</th>\n",
              "      <td>C536379</td>\n",
              "      <td>D</td>\n",
              "      <td>Discount</td>\n",
              "      <td>-1</td>\n",
              "      <td>01-12-2010 09:41</td>\n",
              "      <td>27.50</td>\n",
              "      <td>14527.0</td>\n",
              "      <td>United Kingdom</td>\n",
              "    </tr>\n",
              "    <tr>\n",
              "      <th>154</th>\n",
              "      <td>C536383</td>\n",
              "      <td>35004C</td>\n",
              "      <td>SET OF 3 COLOURED  FLYING DUCKS</td>\n",
              "      <td>-1</td>\n",
              "      <td>01-12-2010 09:49</td>\n",
              "      <td>4.65</td>\n",
              "      <td>15311.0</td>\n",
              "      <td>United Kingdom</td>\n",
              "    </tr>\n",
              "    <tr>\n",
              "      <th>235</th>\n",
              "      <td>C536391</td>\n",
              "      <td>22556</td>\n",
              "      <td>PLASTERS IN TIN CIRCUS PARADE</td>\n",
              "      <td>-12</td>\n",
              "      <td>01-12-2010 10:24</td>\n",
              "      <td>1.65</td>\n",
              "      <td>17548.0</td>\n",
              "      <td>United Kingdom</td>\n",
              "    </tr>\n",
              "    <tr>\n",
              "      <th>236</th>\n",
              "      <td>C536391</td>\n",
              "      <td>21984</td>\n",
              "      <td>PACK OF 12 PINK PAISLEY TISSUES</td>\n",
              "      <td>-24</td>\n",
              "      <td>01-12-2010 10:24</td>\n",
              "      <td>0.29</td>\n",
              "      <td>17548.0</td>\n",
              "      <td>United Kingdom</td>\n",
              "    </tr>\n",
              "    <tr>\n",
              "      <th>237</th>\n",
              "      <td>C536391</td>\n",
              "      <td>21983</td>\n",
              "      <td>PACK OF 12 BLUE PAISLEY TISSUES</td>\n",
              "      <td>-24</td>\n",
              "      <td>01-12-2010 10:24</td>\n",
              "      <td>0.29</td>\n",
              "      <td>17548.0</td>\n",
              "      <td>United Kingdom</td>\n",
              "    </tr>\n",
              "    <tr>\n",
              "      <th>...</th>\n",
              "      <td>...</td>\n",
              "      <td>...</td>\n",
              "      <td>...</td>\n",
              "      <td>...</td>\n",
              "      <td>...</td>\n",
              "      <td>...</td>\n",
              "      <td>...</td>\n",
              "      <td>...</td>\n",
              "    </tr>\n",
              "    <tr>\n",
              "      <th>540449</th>\n",
              "      <td>C581490</td>\n",
              "      <td>23144</td>\n",
              "      <td>ZINC T-LIGHT HOLDER STARS SMALL</td>\n",
              "      <td>-11</td>\n",
              "      <td>09-12-2011 09:57</td>\n",
              "      <td>0.83</td>\n",
              "      <td>14397.0</td>\n",
              "      <td>United Kingdom</td>\n",
              "    </tr>\n",
              "    <tr>\n",
              "      <th>541541</th>\n",
              "      <td>C581499</td>\n",
              "      <td>M</td>\n",
              "      <td>Manual</td>\n",
              "      <td>-1</td>\n",
              "      <td>09-12-2011 10:28</td>\n",
              "      <td>224.69</td>\n",
              "      <td>15498.0</td>\n",
              "      <td>United Kingdom</td>\n",
              "    </tr>\n",
              "    <tr>\n",
              "      <th>541715</th>\n",
              "      <td>C581568</td>\n",
              "      <td>21258</td>\n",
              "      <td>VICTORIAN SEWING BOX LARGE</td>\n",
              "      <td>-5</td>\n",
              "      <td>09-12-2011 11:57</td>\n",
              "      <td>10.95</td>\n",
              "      <td>15311.0</td>\n",
              "      <td>United Kingdom</td>\n",
              "    </tr>\n",
              "    <tr>\n",
              "      <th>541716</th>\n",
              "      <td>C581569</td>\n",
              "      <td>84978</td>\n",
              "      <td>HANGING HEART JAR T-LIGHT HOLDER</td>\n",
              "      <td>-1</td>\n",
              "      <td>09-12-2011 11:58</td>\n",
              "      <td>1.25</td>\n",
              "      <td>17315.0</td>\n",
              "      <td>United Kingdom</td>\n",
              "    </tr>\n",
              "    <tr>\n",
              "      <th>541717</th>\n",
              "      <td>C581569</td>\n",
              "      <td>20979</td>\n",
              "      <td>36 PENCILS TUBE RED RETROSPOT</td>\n",
              "      <td>-5</td>\n",
              "      <td>09-12-2011 11:58</td>\n",
              "      <td>1.25</td>\n",
              "      <td>17315.0</td>\n",
              "      <td>United Kingdom</td>\n",
              "    </tr>\n",
              "  </tbody>\n",
              "</table>\n",
              "<p>9251 rows × 8 columns</p>\n",
              "</div>"
            ],
            "text/plain": [
              "       InvoiceNo StockCode                       Description  Quantity  \\\n",
              "141      C536379         D                          Discount        -1   \n",
              "154      C536383    35004C   SET OF 3 COLOURED  FLYING DUCKS        -1   \n",
              "235      C536391     22556    PLASTERS IN TIN CIRCUS PARADE        -12   \n",
              "236      C536391     21984  PACK OF 12 PINK PAISLEY TISSUES        -24   \n",
              "237      C536391     21983  PACK OF 12 BLUE PAISLEY TISSUES        -24   \n",
              "...          ...       ...                               ...       ...   \n",
              "540449   C581490     23144   ZINC T-LIGHT HOLDER STARS SMALL       -11   \n",
              "541541   C581499         M                            Manual        -1   \n",
              "541715   C581568     21258        VICTORIAN SEWING BOX LARGE        -5   \n",
              "541716   C581569     84978  HANGING HEART JAR T-LIGHT HOLDER        -1   \n",
              "541717   C581569     20979     36 PENCILS TUBE RED RETROSPOT        -5   \n",
              "\n",
              "             InvoiceDate  UnitPrice  CustomerID         Country  \n",
              "141     01-12-2010 09:41      27.50     14527.0  United Kingdom  \n",
              "154     01-12-2010 09:49       4.65     15311.0  United Kingdom  \n",
              "235     01-12-2010 10:24       1.65     17548.0  United Kingdom  \n",
              "236     01-12-2010 10:24       0.29     17548.0  United Kingdom  \n",
              "237     01-12-2010 10:24       0.29     17548.0  United Kingdom  \n",
              "...                  ...        ...         ...             ...  \n",
              "540449  09-12-2011 09:57       0.83     14397.0  United Kingdom  \n",
              "541541  09-12-2011 10:28     224.69     15498.0  United Kingdom  \n",
              "541715  09-12-2011 11:57      10.95     15311.0  United Kingdom  \n",
              "541716  09-12-2011 11:58       1.25     17315.0  United Kingdom  \n",
              "541717  09-12-2011 11:58       1.25     17315.0  United Kingdom  \n",
              "\n",
              "[9251 rows x 8 columns]"
            ]
          },
          "execution_count": 91,
          "metadata": {},
          "output_type": "execute_result"
        }
      ],
      "source": [
        "df[df['Quantity']<0]"
      ]
    },
    {
      "cell_type": "markdown",
      "id": "3a9pRalwxTUI",
      "metadata": {
        "id": "3a9pRalwxTUI"
      },
      "source": [
        "The cancelled purchase data is stored separately in case it is required\n",
        "down the line"
      ]
    },
    {
      "cell_type": "code",
      "execution_count": 92,
      "id": "6bbd7fbc-6021-439e-a7e8-00fd6d47b1c6",
      "metadata": {
        "id": "6bbd7fbc-6021-439e-a7e8-00fd6d47b1c6"
      },
      "outputs": [],
      "source": [
        "cancelled_purchases = df[df['Quantity'] < 0]"
      ]
    },
    {
      "cell_type": "code",
      "execution_count": 93,
      "id": "18ee8420-ba78-4031-a00a-654abd0bc290",
      "metadata": {
        "id": "18ee8420-ba78-4031-a00a-654abd0bc290",
        "outputId": "52c79e3c-68e7-4505-ed75-69c09490f922"
      },
      "outputs": [
        {
          "data": {
            "text/html": [
              "<div>\n",
              "<style scoped>\n",
              "    .dataframe tbody tr th:only-of-type {\n",
              "        vertical-align: middle;\n",
              "    }\n",
              "\n",
              "    .dataframe tbody tr th {\n",
              "        vertical-align: top;\n",
              "    }\n",
              "\n",
              "    .dataframe thead th {\n",
              "        text-align: right;\n",
              "    }\n",
              "</style>\n",
              "<table border=\"1\" class=\"dataframe\">\n",
              "  <thead>\n",
              "    <tr style=\"text-align: right;\">\n",
              "      <th></th>\n",
              "      <th>InvoiceNo</th>\n",
              "      <th>StockCode</th>\n",
              "      <th>Description</th>\n",
              "      <th>Quantity</th>\n",
              "      <th>InvoiceDate</th>\n",
              "      <th>UnitPrice</th>\n",
              "      <th>CustomerID</th>\n",
              "      <th>Country</th>\n",
              "    </tr>\n",
              "  </thead>\n",
              "  <tbody>\n",
              "    <tr>\n",
              "      <th>540449</th>\n",
              "      <td>C581490</td>\n",
              "      <td>23144</td>\n",
              "      <td>ZINC T-LIGHT HOLDER STARS SMALL</td>\n",
              "      <td>-11</td>\n",
              "      <td>09-12-2011 09:57</td>\n",
              "      <td>0.83</td>\n",
              "      <td>14397.0</td>\n",
              "      <td>United Kingdom</td>\n",
              "    </tr>\n",
              "    <tr>\n",
              "      <th>541541</th>\n",
              "      <td>C581499</td>\n",
              "      <td>M</td>\n",
              "      <td>Manual</td>\n",
              "      <td>-1</td>\n",
              "      <td>09-12-2011 10:28</td>\n",
              "      <td>224.69</td>\n",
              "      <td>15498.0</td>\n",
              "      <td>United Kingdom</td>\n",
              "    </tr>\n",
              "    <tr>\n",
              "      <th>541715</th>\n",
              "      <td>C581568</td>\n",
              "      <td>21258</td>\n",
              "      <td>VICTORIAN SEWING BOX LARGE</td>\n",
              "      <td>-5</td>\n",
              "      <td>09-12-2011 11:57</td>\n",
              "      <td>10.95</td>\n",
              "      <td>15311.0</td>\n",
              "      <td>United Kingdom</td>\n",
              "    </tr>\n",
              "    <tr>\n",
              "      <th>541716</th>\n",
              "      <td>C581569</td>\n",
              "      <td>84978</td>\n",
              "      <td>HANGING HEART JAR T-LIGHT HOLDER</td>\n",
              "      <td>-1</td>\n",
              "      <td>09-12-2011 11:58</td>\n",
              "      <td>1.25</td>\n",
              "      <td>17315.0</td>\n",
              "      <td>United Kingdom</td>\n",
              "    </tr>\n",
              "    <tr>\n",
              "      <th>541717</th>\n",
              "      <td>C581569</td>\n",
              "      <td>20979</td>\n",
              "      <td>36 PENCILS TUBE RED RETROSPOT</td>\n",
              "      <td>-5</td>\n",
              "      <td>09-12-2011 11:58</td>\n",
              "      <td>1.25</td>\n",
              "      <td>17315.0</td>\n",
              "      <td>United Kingdom</td>\n",
              "    </tr>\n",
              "  </tbody>\n",
              "</table>\n",
              "</div>"
            ],
            "text/plain": [
              "       InvoiceNo StockCode                       Description  Quantity  \\\n",
              "540449   C581490     23144   ZINC T-LIGHT HOLDER STARS SMALL       -11   \n",
              "541541   C581499         M                            Manual        -1   \n",
              "541715   C581568     21258        VICTORIAN SEWING BOX LARGE        -5   \n",
              "541716   C581569     84978  HANGING HEART JAR T-LIGHT HOLDER        -1   \n",
              "541717   C581569     20979     36 PENCILS TUBE RED RETROSPOT        -5   \n",
              "\n",
              "             InvoiceDate  UnitPrice  CustomerID         Country  \n",
              "540449  09-12-2011 09:57       0.83     14397.0  United Kingdom  \n",
              "541541  09-12-2011 10:28     224.69     15498.0  United Kingdom  \n",
              "541715  09-12-2011 11:57      10.95     15311.0  United Kingdom  \n",
              "541716  09-12-2011 11:58       1.25     17315.0  United Kingdom  \n",
              "541717  09-12-2011 11:58       1.25     17315.0  United Kingdom  "
            ]
          },
          "execution_count": 93,
          "metadata": {},
          "output_type": "execute_result"
        }
      ],
      "source": [
        "cancelled_purchases.tail()"
      ]
    },
    {
      "cell_type": "code",
      "execution_count": 94,
      "id": "ffa95e1c-ada9-42e7-b42e-75baa003afc8",
      "metadata": {
        "id": "ffa95e1c-ada9-42e7-b42e-75baa003afc8",
        "outputId": "a4b55ee2-b654-42be-e7a8-41c688711911"
      },
      "outputs": [
        {
          "data": {
            "text/plain": [
              "(9251, 8)"
            ]
          },
          "execution_count": 94,
          "metadata": {},
          "output_type": "execute_result"
        }
      ],
      "source": [
        "cancelled_purchases.shape"
      ]
    },
    {
      "cell_type": "code",
      "execution_count": 95,
      "id": "0b873e29-1f19-46c5-b34d-5da168706f8a",
      "metadata": {
        "id": "0b873e29-1f19-46c5-b34d-5da168706f8a",
        "outputId": "8e28d218-043b-49cb-8f3e-b8066674d387"
      },
      "outputs": [
        {
          "data": {
            "text/html": [
              "<div>\n",
              "<style scoped>\n",
              "    .dataframe tbody tr th:only-of-type {\n",
              "        vertical-align: middle;\n",
              "    }\n",
              "\n",
              "    .dataframe tbody tr th {\n",
              "        vertical-align: top;\n",
              "    }\n",
              "\n",
              "    .dataframe thead th {\n",
              "        text-align: right;\n",
              "    }\n",
              "</style>\n",
              "<table border=\"1\" class=\"dataframe\">\n",
              "  <thead>\n",
              "    <tr style=\"text-align: right;\">\n",
              "      <th></th>\n",
              "      <th>InvoiceNo</th>\n",
              "      <th>StockCode</th>\n",
              "      <th>Description</th>\n",
              "      <th>Quantity</th>\n",
              "      <th>InvoiceDate</th>\n",
              "      <th>UnitPrice</th>\n",
              "      <th>CustomerID</th>\n",
              "      <th>Country</th>\n",
              "    </tr>\n",
              "  </thead>\n",
              "  <tbody>\n",
              "    <tr>\n",
              "      <th>0</th>\n",
              "      <td>536365</td>\n",
              "      <td>85123A</td>\n",
              "      <td>WHITE HANGING HEART T-LIGHT HOLDER</td>\n",
              "      <td>6</td>\n",
              "      <td>01-12-2010 08:26</td>\n",
              "      <td>2.55</td>\n",
              "      <td>17850.0</td>\n",
              "      <td>United Kingdom</td>\n",
              "    </tr>\n",
              "    <tr>\n",
              "      <th>1</th>\n",
              "      <td>536365</td>\n",
              "      <td>71053</td>\n",
              "      <td>WHITE METAL LANTERN</td>\n",
              "      <td>6</td>\n",
              "      <td>01-12-2010 08:26</td>\n",
              "      <td>3.39</td>\n",
              "      <td>17850.0</td>\n",
              "      <td>United Kingdom</td>\n",
              "    </tr>\n",
              "    <tr>\n",
              "      <th>2</th>\n",
              "      <td>536365</td>\n",
              "      <td>84406B</td>\n",
              "      <td>CREAM CUPID HEARTS COAT HANGER</td>\n",
              "      <td>8</td>\n",
              "      <td>01-12-2010 08:26</td>\n",
              "      <td>2.75</td>\n",
              "      <td>17850.0</td>\n",
              "      <td>United Kingdom</td>\n",
              "    </tr>\n",
              "    <tr>\n",
              "      <th>3</th>\n",
              "      <td>536365</td>\n",
              "      <td>84029G</td>\n",
              "      <td>KNITTED UNION FLAG HOT WATER BOTTLE</td>\n",
              "      <td>6</td>\n",
              "      <td>01-12-2010 08:26</td>\n",
              "      <td>3.39</td>\n",
              "      <td>17850.0</td>\n",
              "      <td>United Kingdom</td>\n",
              "    </tr>\n",
              "    <tr>\n",
              "      <th>4</th>\n",
              "      <td>536365</td>\n",
              "      <td>84029E</td>\n",
              "      <td>RED WOOLLY HOTTIE WHITE HEART.</td>\n",
              "      <td>6</td>\n",
              "      <td>01-12-2010 08:26</td>\n",
              "      <td>3.39</td>\n",
              "      <td>17850.0</td>\n",
              "      <td>United Kingdom</td>\n",
              "    </tr>\n",
              "  </tbody>\n",
              "</table>\n",
              "</div>"
            ],
            "text/plain": [
              "  InvoiceNo StockCode                          Description  Quantity  \\\n",
              "0    536365    85123A   WHITE HANGING HEART T-LIGHT HOLDER         6   \n",
              "1    536365     71053                  WHITE METAL LANTERN         6   \n",
              "2    536365    84406B       CREAM CUPID HEARTS COAT HANGER         8   \n",
              "3    536365    84029G  KNITTED UNION FLAG HOT WATER BOTTLE         6   \n",
              "4    536365    84029E       RED WOOLLY HOTTIE WHITE HEART.         6   \n",
              "\n",
              "        InvoiceDate  UnitPrice  CustomerID         Country  \n",
              "0  01-12-2010 08:26       2.55     17850.0  United Kingdom  \n",
              "1  01-12-2010 08:26       3.39     17850.0  United Kingdom  \n",
              "2  01-12-2010 08:26       2.75     17850.0  United Kingdom  \n",
              "3  01-12-2010 08:26       3.39     17850.0  United Kingdom  \n",
              "4  01-12-2010 08:26       3.39     17850.0  United Kingdom  "
            ]
          },
          "execution_count": 95,
          "metadata": {},
          "output_type": "execute_result"
        }
      ],
      "source": [
        "df.head()"
      ]
    },
    {
      "cell_type": "code",
      "execution_count": 96,
      "id": "0f98ef2d-81b6-4656-88a7-168a4a07ca17",
      "metadata": {
        "id": "0f98ef2d-81b6-4656-88a7-168a4a07ca17"
      },
      "outputs": [],
      "source": [
        "df = df[df['Quantity']>0]"
      ]
    },
    {
      "cell_type": "code",
      "execution_count": 97,
      "id": "6489f0f0-03be-4758-aeef-853b9b56be45",
      "metadata": {
        "id": "6489f0f0-03be-4758-aeef-853b9b56be45",
        "outputId": "dbb6a0f3-3499-4699-ef27-4b30024bee97"
      },
      "outputs": [
        {
          "data": {
            "text/plain": [
              "np.int64(1)"
            ]
          },
          "execution_count": 97,
          "metadata": {},
          "output_type": "execute_result"
        }
      ],
      "source": [
        "df['Quantity'].min()"
      ]
    },
    {
      "cell_type": "code",
      "execution_count": 98,
      "id": "f7e75020-15da-4583-a1e4-742ebc16da3b",
      "metadata": {
        "id": "f7e75020-15da-4583-a1e4-742ebc16da3b",
        "outputId": "40b13fe1-e2cf-4f9b-af98-d488ffad6f71"
      },
      "outputs": [
        {
          "data": {
            "text/plain": [
              "InvoiceNo       object\n",
              "StockCode       object\n",
              "Description     object\n",
              "Quantity         int64\n",
              "InvoiceDate     object\n",
              "UnitPrice      float64\n",
              "CustomerID     float64\n",
              "Country         object\n",
              "dtype: object"
            ]
          },
          "execution_count": 98,
          "metadata": {},
          "output_type": "execute_result"
        }
      ],
      "source": [
        "df.dtypes"
      ]
    },
    {
      "cell_type": "markdown",
      "id": "j3nIvwMQxeOX",
      "metadata": {
        "id": "j3nIvwMQxeOX"
      },
      "source": [
        "The datatype of the column InvoiceDate is converted to ensure\n",
        "the compatibility of the column with the dataset and to use it for feature\n",
        "extraction purposes."
      ]
    },
    {
      "cell_type": "code",
      "execution_count": 99,
      "id": "d534ebfa-3374-4cf5-bdd6-4188fc33ff16",
      "metadata": {
        "id": "d534ebfa-3374-4cf5-bdd6-4188fc33ff16"
      },
      "outputs": [],
      "source": [
        "df['InvoiceDate'] = pd.to_datetime(df['InvoiceDate'],format='%d-%m-%Y %H:%M')\n",
        "df['Quantity'] = pd.to_numeric(df['Quantity'])\n",
        "df['UnitPrice'] = pd.to_numeric(df['UnitPrice'])"
      ]
    },
    {
      "cell_type": "code",
      "execution_count": 100,
      "id": "1449be0d-d93e-4731-b111-a3d3008884d2",
      "metadata": {
        "id": "1449be0d-d93e-4731-b111-a3d3008884d2",
        "outputId": "74c6bcc5-7f44-4ff3-ad08-de6178a44538"
      },
      "outputs": [
        {
          "data": {
            "text/plain": [
              "InvoiceNo              object\n",
              "StockCode              object\n",
              "Description            object\n",
              "Quantity                int64\n",
              "InvoiceDate    datetime64[ns]\n",
              "UnitPrice             float64\n",
              "CustomerID            float64\n",
              "Country                object\n",
              "dtype: object"
            ]
          },
          "execution_count": 100,
          "metadata": {},
          "output_type": "execute_result"
        }
      ],
      "source": [
        "df.dtypes"
      ]
    },
    {
      "cell_type": "code",
      "execution_count": 101,
      "id": "257bf860-f400-43a6-aed6-df7f3f064da5",
      "metadata": {
        "id": "257bf860-f400-43a6-aed6-df7f3f064da5",
        "outputId": "e9413f1f-d5f0-47fb-bbaa-f0b8d527a638"
      },
      "outputs": [
        {
          "data": {
            "text/plain": [
              "(524878, 8)"
            ]
          },
          "execution_count": 101,
          "metadata": {},
          "output_type": "execute_result"
        }
      ],
      "source": [
        "df.shape"
      ]
    },
    {
      "cell_type": "markdown",
      "id": "LkV-S9r9O1of",
      "metadata": {
        "id": "LkV-S9r9O1of"
      },
      "source": [
        "# Feature Extraction"
      ]
    },
    {
      "cell_type": "code",
      "execution_count": 102,
      "id": "aacd9972-53b6-456f-a032-68778e30fe3c",
      "metadata": {
        "id": "aacd9972-53b6-456f-a032-68778e30fe3c"
      },
      "outputs": [],
      "source": [
        "#creating a separate column for time\n",
        "df['Time'] = df['InvoiceDate'].dt.time\n",
        "#creating a separate column for month\n",
        "df['Month'] = df['InvoiceDate'].dt.month_name()\n",
        "#creating a separate column for day name\n",
        "df['Day'] = df['InvoiceDate'].dt.day_name()\n",
        "#creating a column for year\n",
        "df['Year']= df['InvoiceDate'].dt.year"
      ]
    },
    {
      "cell_type": "code",
      "execution_count": 103,
      "id": "e3775641-de77-4ecb-8043-b3a113ab4d4c",
      "metadata": {
        "id": "e3775641-de77-4ecb-8043-b3a113ab4d4c"
      },
      "outputs": [],
      "source": [
        "#creating a column for total\n",
        "df['TotalPrice'] = df['Quantity']*df['UnitPrice']"
      ]
    },
    {
      "cell_type": "markdown",
      "id": "QFm8-Moax4-R",
      "metadata": {
        "id": "QFm8-Moax4-R"
      },
      "source": [
        "A total of 5 new features/columns have been added to the data."
      ]
    },
    {
      "cell_type": "code",
      "execution_count": 104,
      "id": "3102580a-7c36-4176-acd6-160bebc455ad",
      "metadata": {
        "id": "3102580a-7c36-4176-acd6-160bebc455ad",
        "outputId": "0fa6cf44-9dd8-4651-c8c5-bd57eb02459b"
      },
      "outputs": [
        {
          "data": {
            "text/html": [
              "<div>\n",
              "<style scoped>\n",
              "    .dataframe tbody tr th:only-of-type {\n",
              "        vertical-align: middle;\n",
              "    }\n",
              "\n",
              "    .dataframe tbody tr th {\n",
              "        vertical-align: top;\n",
              "    }\n",
              "\n",
              "    .dataframe thead th {\n",
              "        text-align: right;\n",
              "    }\n",
              "</style>\n",
              "<table border=\"1\" class=\"dataframe\">\n",
              "  <thead>\n",
              "    <tr style=\"text-align: right;\">\n",
              "      <th></th>\n",
              "      <th>InvoiceNo</th>\n",
              "      <th>StockCode</th>\n",
              "      <th>Description</th>\n",
              "      <th>Quantity</th>\n",
              "      <th>InvoiceDate</th>\n",
              "      <th>UnitPrice</th>\n",
              "      <th>CustomerID</th>\n",
              "      <th>Country</th>\n",
              "      <th>Time</th>\n",
              "      <th>Month</th>\n",
              "      <th>Day</th>\n",
              "      <th>Year</th>\n",
              "      <th>TotalPrice</th>\n",
              "    </tr>\n",
              "  </thead>\n",
              "  <tbody>\n",
              "    <tr>\n",
              "      <th>0</th>\n",
              "      <td>536365</td>\n",
              "      <td>85123A</td>\n",
              "      <td>WHITE HANGING HEART T-LIGHT HOLDER</td>\n",
              "      <td>6</td>\n",
              "      <td>2010-12-01 08:26:00</td>\n",
              "      <td>2.55</td>\n",
              "      <td>17850.0</td>\n",
              "      <td>United Kingdom</td>\n",
              "      <td>08:26:00</td>\n",
              "      <td>December</td>\n",
              "      <td>Wednesday</td>\n",
              "      <td>2010</td>\n",
              "      <td>15.30</td>\n",
              "    </tr>\n",
              "    <tr>\n",
              "      <th>1</th>\n",
              "      <td>536365</td>\n",
              "      <td>71053</td>\n",
              "      <td>WHITE METAL LANTERN</td>\n",
              "      <td>6</td>\n",
              "      <td>2010-12-01 08:26:00</td>\n",
              "      <td>3.39</td>\n",
              "      <td>17850.0</td>\n",
              "      <td>United Kingdom</td>\n",
              "      <td>08:26:00</td>\n",
              "      <td>December</td>\n",
              "      <td>Wednesday</td>\n",
              "      <td>2010</td>\n",
              "      <td>20.34</td>\n",
              "    </tr>\n",
              "    <tr>\n",
              "      <th>2</th>\n",
              "      <td>536365</td>\n",
              "      <td>84406B</td>\n",
              "      <td>CREAM CUPID HEARTS COAT HANGER</td>\n",
              "      <td>8</td>\n",
              "      <td>2010-12-01 08:26:00</td>\n",
              "      <td>2.75</td>\n",
              "      <td>17850.0</td>\n",
              "      <td>United Kingdom</td>\n",
              "      <td>08:26:00</td>\n",
              "      <td>December</td>\n",
              "      <td>Wednesday</td>\n",
              "      <td>2010</td>\n",
              "      <td>22.00</td>\n",
              "    </tr>\n",
              "    <tr>\n",
              "      <th>3</th>\n",
              "      <td>536365</td>\n",
              "      <td>84029G</td>\n",
              "      <td>KNITTED UNION FLAG HOT WATER BOTTLE</td>\n",
              "      <td>6</td>\n",
              "      <td>2010-12-01 08:26:00</td>\n",
              "      <td>3.39</td>\n",
              "      <td>17850.0</td>\n",
              "      <td>United Kingdom</td>\n",
              "      <td>08:26:00</td>\n",
              "      <td>December</td>\n",
              "      <td>Wednesday</td>\n",
              "      <td>2010</td>\n",
              "      <td>20.34</td>\n",
              "    </tr>\n",
              "    <tr>\n",
              "      <th>4</th>\n",
              "      <td>536365</td>\n",
              "      <td>84029E</td>\n",
              "      <td>RED WOOLLY HOTTIE WHITE HEART.</td>\n",
              "      <td>6</td>\n",
              "      <td>2010-12-01 08:26:00</td>\n",
              "      <td>3.39</td>\n",
              "      <td>17850.0</td>\n",
              "      <td>United Kingdom</td>\n",
              "      <td>08:26:00</td>\n",
              "      <td>December</td>\n",
              "      <td>Wednesday</td>\n",
              "      <td>2010</td>\n",
              "      <td>20.34</td>\n",
              "    </tr>\n",
              "  </tbody>\n",
              "</table>\n",
              "</div>"
            ],
            "text/plain": [
              "  InvoiceNo StockCode                          Description  Quantity  \\\n",
              "0    536365    85123A   WHITE HANGING HEART T-LIGHT HOLDER         6   \n",
              "1    536365     71053                  WHITE METAL LANTERN         6   \n",
              "2    536365    84406B       CREAM CUPID HEARTS COAT HANGER         8   \n",
              "3    536365    84029G  KNITTED UNION FLAG HOT WATER BOTTLE         6   \n",
              "4    536365    84029E       RED WOOLLY HOTTIE WHITE HEART.         6   \n",
              "\n",
              "          InvoiceDate  UnitPrice  CustomerID         Country      Time  \\\n",
              "0 2010-12-01 08:26:00       2.55     17850.0  United Kingdom  08:26:00   \n",
              "1 2010-12-01 08:26:00       3.39     17850.0  United Kingdom  08:26:00   \n",
              "2 2010-12-01 08:26:00       2.75     17850.0  United Kingdom  08:26:00   \n",
              "3 2010-12-01 08:26:00       3.39     17850.0  United Kingdom  08:26:00   \n",
              "4 2010-12-01 08:26:00       3.39     17850.0  United Kingdom  08:26:00   \n",
              "\n",
              "      Month        Day  Year  TotalPrice  \n",
              "0  December  Wednesday  2010       15.30  \n",
              "1  December  Wednesday  2010       20.34  \n",
              "2  December  Wednesday  2010       22.00  \n",
              "3  December  Wednesday  2010       20.34  \n",
              "4  December  Wednesday  2010       20.34  "
            ]
          },
          "execution_count": 104,
          "metadata": {},
          "output_type": "execute_result"
        }
      ],
      "source": [
        "df.head()"
      ]
    },
    {
      "cell_type": "code",
      "execution_count": 105,
      "id": "7af65a47-cfe8-46e2-9cf4-4785a93a124e",
      "metadata": {
        "id": "7af65a47-cfe8-46e2-9cf4-4785a93a124e",
        "outputId": "ff19b209-d7cb-47cb-fa09-eb5779a4b144"
      },
      "outputs": [
        {
          "data": {
            "text/plain": [
              "(524878, 13)"
            ]
          },
          "execution_count": 105,
          "metadata": {},
          "output_type": "execute_result"
        }
      ],
      "source": [
        "df.shape"
      ]
    },
    {
      "cell_type": "code",
      "execution_count": 106,
      "id": "e3674a72-e8ad-4bb0-92c1-06ff62a03bc4",
      "metadata": {
        "id": "e3674a72-e8ad-4bb0-92c1-06ff62a03bc4"
      },
      "outputs": [],
      "source": [
        "#Saving the cleaned data in a new file\n",
        "df.to_csv('cleaned_sales_data.csv')"
      ]
    },
    {
      "cell_type": "markdown",
      "id": "ADFE12UBPKC6",
      "metadata": {
        "id": "ADFE12UBPKC6"
      },
      "source": [
        "# Data Analysis"
      ]
    },
    {
      "cell_type": "code",
      "execution_count": 107,
      "id": "7dcb1b7b-5c90-4eb0-96d9-7766ced5eb3e",
      "metadata": {
        "id": "7dcb1b7b-5c90-4eb0-96d9-7766ced5eb3e",
        "outputId": "04dfa3d2-3ed1-438f-90cb-60fd525afb3a"
      },
      "outputs": [
        {
          "name": "stdout",
          "output_type": "stream",
          "text": [
            "[2010 2011]\n"
          ]
        }
      ],
      "source": [
        "years = df['Year'].unique()\n",
        "print(years)"
      ]
    },
    {
      "cell_type": "markdown",
      "id": "4qc9VUvRyPEK",
      "metadata": {
        "id": "4qc9VUvRyPEK"
      },
      "source": [
        "**Demographic Analysis**"
      ]
    },
    {
      "cell_type": "code",
      "execution_count": 108,
      "id": "1270f117-3447-4cc6-b361-e66eaed402e5",
      "metadata": {
        "id": "1270f117-3447-4cc6-b361-e66eaed402e5",
        "outputId": "48a6276f-15c6-4ba4-90f8-80405d5612bc"
      },
      "outputs": [
        {
          "name": "stdout",
          "output_type": "stream",
          "text": [
            "Total number of countries: 38\n"
          ]
        }
      ],
      "source": [
        "total_countries = df['Country'].nunique()\n",
        "print(\"Total number of countries:\", total_countries)"
      ]
    },
    {
      "cell_type": "code",
      "execution_count": 109,
      "id": "774dd9ac-c7e8-4d6c-bba7-8c97596055eb",
      "metadata": {
        "id": "774dd9ac-c7e8-4d6c-bba7-8c97596055eb"
      },
      "outputs": [],
      "source": [
        "country = df['Country'].value_counts().reset_index(drop=False).head(38)\n",
        "country.columns = ['Country', 'Counts']\n",
        "total_sales = country['Counts'].sum()\n",
        "country['SalesPercent'] = (country['Counts'] / total_sales) * 100"
      ]
    },
    {
      "cell_type": "code",
      "execution_count": 110,
      "id": "f8fee880-2126-44e9-b25e-472abf5c2de3",
      "metadata": {
        "id": "f8fee880-2126-44e9-b25e-472abf5c2de3",
        "outputId": "7fdad9c8-7604-40a1-9620-7ce78028de1a"
      },
      "outputs": [
        {
          "data": {
            "text/html": [
              "<div>\n",
              "<style scoped>\n",
              "    .dataframe tbody tr th:only-of-type {\n",
              "        vertical-align: middle;\n",
              "    }\n",
              "\n",
              "    .dataframe tbody tr th {\n",
              "        vertical-align: top;\n",
              "    }\n",
              "\n",
              "    .dataframe thead th {\n",
              "        text-align: right;\n",
              "    }\n",
              "</style>\n",
              "<table border=\"1\" class=\"dataframe\">\n",
              "  <thead>\n",
              "    <tr style=\"text-align: right;\">\n",
              "      <th></th>\n",
              "      <th>Country</th>\n",
              "      <th>Counts</th>\n",
              "      <th>SalesPercent</th>\n",
              "    </tr>\n",
              "  </thead>\n",
              "  <tbody>\n",
              "    <tr>\n",
              "      <th>0</th>\n",
              "      <td>United Kingdom</td>\n",
              "      <td>479985</td>\n",
              "      <td>91.446965</td>\n",
              "    </tr>\n",
              "    <tr>\n",
              "      <th>1</th>\n",
              "      <td>Germany</td>\n",
              "      <td>9025</td>\n",
              "      <td>1.719447</td>\n",
              "    </tr>\n",
              "    <tr>\n",
              "      <th>2</th>\n",
              "      <td>France</td>\n",
              "      <td>8392</td>\n",
              "      <td>1.598848</td>\n",
              "    </tr>\n",
              "    <tr>\n",
              "      <th>3</th>\n",
              "      <td>EIRE</td>\n",
              "      <td>7879</td>\n",
              "      <td>1.501111</td>\n",
              "    </tr>\n",
              "    <tr>\n",
              "      <th>4</th>\n",
              "      <td>Spain</td>\n",
              "      <td>2479</td>\n",
              "      <td>0.472300</td>\n",
              "    </tr>\n",
              "    <tr>\n",
              "      <th>5</th>\n",
              "      <td>Netherlands</td>\n",
              "      <td>2359</td>\n",
              "      <td>0.449438</td>\n",
              "    </tr>\n",
              "    <tr>\n",
              "      <th>6</th>\n",
              "      <td>Belgium</td>\n",
              "      <td>2031</td>\n",
              "      <td>0.386947</td>\n",
              "    </tr>\n",
              "    <tr>\n",
              "      <th>7</th>\n",
              "      <td>Switzerland</td>\n",
              "      <td>1958</td>\n",
              "      <td>0.373039</td>\n",
              "    </tr>\n",
              "    <tr>\n",
              "      <th>8</th>\n",
              "      <td>Portugal</td>\n",
              "      <td>1492</td>\n",
              "      <td>0.284257</td>\n",
              "    </tr>\n",
              "    <tr>\n",
              "      <th>9</th>\n",
              "      <td>Australia</td>\n",
              "      <td>1181</td>\n",
              "      <td>0.225005</td>\n",
              "    </tr>\n",
              "  </tbody>\n",
              "</table>\n",
              "</div>"
            ],
            "text/plain": [
              "          Country  Counts  SalesPercent\n",
              "0  United Kingdom  479985     91.446965\n",
              "1         Germany    9025      1.719447\n",
              "2          France    8392      1.598848\n",
              "3            EIRE    7879      1.501111\n",
              "4           Spain    2479      0.472300\n",
              "5     Netherlands    2359      0.449438\n",
              "6         Belgium    2031      0.386947\n",
              "7     Switzerland    1958      0.373039\n",
              "8        Portugal    1492      0.284257\n",
              "9       Australia    1181      0.225005"
            ]
          },
          "execution_count": 110,
          "metadata": {},
          "output_type": "execute_result"
        }
      ],
      "source": [
        "country.head(10)"
      ]
    },
    {
      "cell_type": "code",
      "execution_count": 111,
      "id": "4aadcada-ce22-47fa-a895-70070440dfb7",
      "metadata": {
        "id": "4aadcada-ce22-47fa-a895-70070440dfb7",
        "outputId": "bdc00f9b-d68e-45bf-e552-6e97fe9157fd"
      },
      "outputs": [
        {
          "name": "stderr",
          "output_type": "stream",
          "text": [
            "C:\\Users\\Adhish\\AppData\\Local\\Temp\\ipykernel_17080\\2216795519.py:3: FutureWarning: \n",
            "\n",
            "Passing `palette` without assigning `hue` is deprecated and will be removed in v0.14.0. Assign the `x` variable to `hue` and set `legend=False` for the same effect.\n",
            "\n",
            "  ax = sns.barplot(x='Country', y='Counts', data=top_10_countries, palette='muted')\n"
          ]
        },
        {
          "data": {
            "image/png": "[encoded data removed]",
            "text/plain": [
              "<Figure size 2000x1000 with 1 Axes>"
            ]
          },
          "metadata": {},
          "output_type": "display_data"
        }
      ],
      "source": [
        "plt.figure(figsize=(20, 10))\n",
        "top_10_countries = country.head(10)\n",
        "ax = sns.barplot(x='Country', y='Counts', data=top_10_countries, palette='muted')\n",
        "ax.bar_label(ax.containers[0])\n",
        "for i in range(len(top_10_countries)):\n",
        "    ax.text(i, top_10_countries['Counts'][i] * 1.15, f'({top_10_countries[\"SalesPercent\"][i]:.2f}%)', ha='center', va='bottom', fontsize=10)\n",
        "\n",
        "plt.title(\"Sales per Country (Top 10)\", fontsize=20)\n",
        "plt.ylabel(\"Sales\", fontsize=16)\n",
        "plt.xlabel('Country', fontsize=16)\n",
        "plt.xticks(fontsize=14)\n",
        "plt.yscale('log')\n",
        "plt.show()"
      ]
    },
    {
      "cell_type": "markdown",
      "id": "3NOlIaRGyGGX",
      "metadata": {
        "id": "3NOlIaRGyGGX"
      },
      "source": [
        "From the plot above it can be seen that the United Kingdom contributes\n",
        "to the most sales out of all the countries (91.45% of total sales), followed\n",
        "by Germany and France (1.72% and 1.6% respectively). The key\n",
        "takeaway from the graph is that most of customer from the United\n",
        "Kingdom contribute the most in terms of product sales and revenue\n",
        "earned.\n",
        "Thus, the business should look upon maintaining its already existing\n",
        "status in the United Kingdom’s market, while also setting its sight on\n",
        "expanding to other countries for increasing sales and revenue."
      ]
    },
    {
      "cell_type": "markdown",
      "id": "E72Q9zmmyUUX",
      "metadata": {
        "id": "E72Q9zmmyUUX"
      },
      "source": [
        "**Timings Analysis**"
      ]
    },
    {
      "cell_type": "code",
      "execution_count": 112,
      "id": "dacbed97-3106-484b-856e-f3ab0ffaa83f",
      "metadata": {
        "id": "dacbed97-3106-484b-856e-f3ab0ffaa83f"
      },
      "outputs": [],
      "source": [
        "monthly_sales = df.groupby([pd.Grouper(key='Year'), pd.Grouper(key='Month')])['TotalPrice'].sum().reset_index()\n",
        "monthly_sales = monthly_sales.rename(columns={'Year': 'Year', 'Month': 'Month', 'TotalPrice': 'TotalRevenue'})"
      ]
    },
    {
      "cell_type": "code",
      "execution_count": 113,
      "id": "d6888ca4-a65b-4cf8-a364-7689afda9b39",
      "metadata": {
        "id": "d6888ca4-a65b-4cf8-a364-7689afda9b39"
      },
      "outputs": [],
      "source": [
        "revenue_in_2010 = monthly_sales[monthly_sales['Year'] == 2010]\n",
        "revenue_in_2011 = monthly_sales[monthly_sales['Year'] == 2011]"
      ]
    },
    {
      "cell_type": "code",
      "execution_count": 114,
      "id": "325a8156-6e53-4f58-91e1-b5306cee1fbe",
      "metadata": {
        "id": "325a8156-6e53-4f58-91e1-b5306cee1fbe",
        "outputId": "037e7cf1-ce5a-4e0c-cd7a-ddee060944e2"
      },
      "outputs": [
        {
          "name": "stdout",
          "output_type": "stream",
          "text": [
            "[2010 2011]\n"
          ]
        }
      ],
      "source": [
        "#list of years to know which years are present\n",
        "years = df['Year'].unique()\n",
        "print(years)"
      ]
    },
    {
      "cell_type": "code",
      "execution_count": 115,
      "id": "3a5d8943-b0f0-4785-a562-c41f2d36f4d3",
      "metadata": {
        "id": "3a5d8943-b0f0-4785-a562-c41f2d36f4d3",
        "outputId": "0d480b39-98c9-4680-8d22-3b151cbd4cff"
      },
      "outputs": [
        {
          "data": {
            "image/png": "[encoded data removed]",
            "text/plain": [
              "<Figure size 640x480 with 1 Axes>"
            ]
          },
          "metadata": {},
          "output_type": "display_data"
        }
      ],
      "source": [
        "plt.bar(revenue_in_2010[\"Month\"], revenue_in_2010['TotalRevenue'] / 1000, label='2010', color='mediumpurple')\n",
        "plt.bar(revenue_in_2011[\"Month\"], revenue_in_2011['TotalRevenue'] / 1000, label='2011', color='forestgreen')\n",
        "plt.xticks(rotation='vertical', size=8)\n",
        "plt.ylabel(\"Sales (thousands)\")\n",
        "plt.xlabel(\"Month\")\n",
        "plt.legend()\n",
        "plt.tight_layout(pad=1)\n",
        "plt.show()"
      ]
    },
    {
      "cell_type": "markdown",
      "id": "U3TgTq8Uye1U",
      "metadata": {
        "id": "U3TgTq8Uye1U"
      },
      "source": [
        "From the bar plot and the above data, we can see that in the year 2011,\n",
        "November is the month with the highest sales with 1503.9 thousand\n",
        "revenues from sales, followed by October (1151.3 thousand) and\n",
        "September (1056.4 thousand).\n",
        "While on the other hand February and April had the lowest sales with 522.5\n",
        "thousand and 537 thousand revenues earned respectively.\n",
        "This trend suggests various real-world factors might affect the sales amount.\n",
        "Events such as Black Friday, which happens the next Friday after\n",
        "Thanksgiving, occur in the month of November where generous discounts\n",
        "are offered, skyrocketing the number of sales, and earned revenue.\n",
        "During the month of October, the country of Germany celebrates\n",
        "Oktoberfest which increases the purchase of products from consumers from\n",
        "the country. This also places the country as the second most country\n",
        "contributing to product sales as seen in one of the previous charts.\n",
        "Finally, the month of September is the back-to-school season, meaning\n",
        "students are looking for newer school supplies and electronics in\n",
        "preparation for the new school year.\n",
        "While talking about the lower sales in February, one of the factors can be it\n",
        "being the post festivities month as it comes after Christmas and the New46\n",
        "Years. Thus, people might be looking to spend less money as they most\n",
        "likely spent it during the holidays season."
      ]
    },
    {
      "cell_type": "code",
      "execution_count": 116,
      "id": "a827a4a2-3ad5-487b-87a3-b7b7c2aa9949",
      "metadata": {
        "id": "a827a4a2-3ad5-487b-87a3-b7b7c2aa9949",
        "outputId": "2e9a7a29-6afd-40a6-f301-5ebbf089e4e1"
      },
      "outputs": [
        {
          "name": "stdout",
          "output_type": "stream",
          "text": [
            "Revenue in 2010:\n",
            "December: 821.5 thousand\n",
            "\n",
            "Revenue in 2011:\n",
            "April: 537.0 thousand\n",
            "August: 757.8 thousand\n",
            "December: 637.8 thousand\n",
            "February: 522.5 thousand\n",
            "January: 689.8 thousand\n",
            "July: 718.1 thousand\n",
            "June: 760.5 thousand\n",
            "March: 716.2 thousand\n",
            "May: 769.3 thousand\n",
            "November: 1503.9 thousand\n",
            "October: 1151.3 thousand\n",
            "September: 1056.4 thousand\n"
          ]
        }
      ],
      "source": [
        "print(\"Revenue in 2010:\")\n",
        "for month, revenue_2010 in zip(revenue_in_2010[\"Month\"], revenue_in_2010['TotalRevenue'] / 1000):\n",
        "    print(f\"{month}: {revenue_2010:.1f} thousand\")\n",
        "\n",
        "print(\"\\nRevenue in 2011:\")\n",
        "for month, revenue_2011 in zip(revenue_in_2011[\"Month\"], revenue_in_2011['TotalRevenue'] / 1000):\n",
        "    print(f\"{month}: {revenue_2011:.1f} thousand\")"
      ]
    },
    {
      "cell_type": "code",
      "execution_count": 117,
      "id": "70dfa6e8-1cd1-4b17-b12f-0d1fb188e8e4",
      "metadata": {
        "id": "70dfa6e8-1cd1-4b17-b12f-0d1fb188e8e4"
      },
      "outputs": [],
      "source": [
        "days = df.groupby('Day').agg({'TotalPrice': 'sum'}).reset_index()"
      ]
    },
    {
      "cell_type": "code",
      "execution_count": 118,
      "id": "a5e6621b-2908-445e-ab88-f3c4ddde708e",
      "metadata": {
        "id": "a5e6621b-2908-445e-ab88-f3c4ddde708e",
        "outputId": "cf1a1159-f2a9-4eed-a6d6-98bba0f1353d"
      },
      "outputs": [
        {
          "data": {
            "image/png": "[encoded data removed]",
            "text/plain": [
              "<Figure size 1000x600 with 1 Axes>"
            ]
          },
          "metadata": {},
          "output_type": "display_data"
        }
      ],
      "source": [
        "total_quantity = days['TotalPrice'].sum()\n",
        "days['Quantity_percent'] = (days['TotalPrice'] / total_quantity) * 100\n",
        "\n",
        "sns.set_theme(style=\"whitegrid\")\n",
        "sns.set()\n",
        "plt.figure(figsize=(10, 6))\n",
        "a = sns.barplot(x='Day', y='TotalPrice', data=days)\n",
        "a.set_ylabel('Percentage of Quantity')\n",
        "a.tick_params(labelsize=8)\n",
        "for container in a.containers:\n",
        "    a.bar_label(container, fmt='%d')\n",
        "plt.show()"
      ]
    },
    {
      "cell_type": "markdown",
      "id": "nni0nqAnynmg",
      "metadata": {
        "id": "nni0nqAnynmg"
      },
      "source": [
        "It can be seen that there are sales data for 6 days of the week barring\n",
        "the transaction of Saturdays, maybe due to Saturdays being an off day.\n",
        "From the plot it can also be observed that most of the sales transactions\n",
        "of the business occur during Thursdays, Tuesdays, and Wednesdays.\n",
        "Next, the data of peak sales hours can be extracted."
      ]
    },
    {
      "cell_type": "code",
      "execution_count": 119,
      "id": "78a9e640-1930-48f1-aed7-39ac2fdb5f16",
      "metadata": {
        "id": "78a9e640-1930-48f1-aed7-39ac2fdb5f16",
        "outputId": "db56cc3b-f633-4880-eb52-15dc1186593a"
      },
      "outputs": [
        {
          "data": {
            "text/html": [
              "<div>\n",
              "<style scoped>\n",
              "    .dataframe tbody tr th:only-of-type {\n",
              "        vertical-align: middle;\n",
              "    }\n",
              "\n",
              "    .dataframe tbody tr th {\n",
              "        vertical-align: top;\n",
              "    }\n",
              "\n",
              "    .dataframe thead th {\n",
              "        text-align: right;\n",
              "    }\n",
              "</style>\n",
              "<table border=\"1\" class=\"dataframe\">\n",
              "  <thead>\n",
              "    <tr style=\"text-align: right;\">\n",
              "      <th></th>\n",
              "      <th>Day</th>\n",
              "      <th>Quantity</th>\n",
              "    </tr>\n",
              "  </thead>\n",
              "  <tbody>\n",
              "    <tr>\n",
              "      <th>0</th>\n",
              "      <td>Friday</td>\n",
              "      <td>890199</td>\n",
              "    </tr>\n",
              "    <tr>\n",
              "      <th>1</th>\n",
              "      <td>Monday</td>\n",
              "      <td>871148</td>\n",
              "    </tr>\n",
              "    <tr>\n",
              "      <th>2</th>\n",
              "      <td>Sunday</td>\n",
              "      <td>465509</td>\n",
              "    </tr>\n",
              "    <tr>\n",
              "      <th>3</th>\n",
              "      <td>Thursday</td>\n",
              "      <td>1207384</td>\n",
              "    </tr>\n",
              "    <tr>\n",
              "      <th>4</th>\n",
              "      <td>Tuesday</td>\n",
              "      <td>1113087</td>\n",
              "    </tr>\n",
              "    <tr>\n",
              "      <th>5</th>\n",
              "      <td>Wednesday</td>\n",
              "      <td>1025093</td>\n",
              "    </tr>\n",
              "  </tbody>\n",
              "</table>\n",
              "</div>"
            ],
            "text/plain": [
              "         Day  Quantity\n",
              "0     Friday    890199\n",
              "1     Monday    871148\n",
              "2     Sunday    465509\n",
              "3   Thursday   1207384\n",
              "4    Tuesday   1113087\n",
              "5  Wednesday   1025093"
            ]
          },
          "execution_count": 119,
          "metadata": {},
          "output_type": "execute_result"
        }
      ],
      "source": [
        "days = df.groupby('Day').agg({'Quantity': 'sum'}).reset_index()\n",
        "days"
      ]
    },
    {
      "cell_type": "code",
      "execution_count": 120,
      "id": "5d09486f-ec0f-47bd-8474-c6cdfb2ae30c",
      "metadata": {
        "id": "5d09486f-ec0f-47bd-8474-c6cdfb2ae30c"
      },
      "outputs": [],
      "source": [
        "total_quantity = days['Quantity'].sum()\n",
        "days['Quantity_percent'] = (days['Quantity'] / total_quantity) * 100"
      ]
    },
    {
      "cell_type": "code",
      "execution_count": 121,
      "id": "20844614-7819-41bf-96cf-39faebd85d70",
      "metadata": {
        "id": "20844614-7819-41bf-96cf-39faebd85d70",
        "outputId": "4a4e0f3d-1d4b-41ad-995f-2edc70d3aae1"
      },
      "outputs": [
        {
          "name": "stderr",
          "output_type": "stream",
          "text": [
            "C:\\Users\\Adhish\\AppData\\Local\\Temp\\ipykernel_17080\\3260627344.py:2: FutureWarning: \n",
            "\n",
            "Passing `palette` without assigning `hue` is deprecated and will be removed in v0.14.0. Assign the `x` variable to `hue` and set `legend=False` for the same effect.\n",
            "\n",
            "  ax = sns.barplot(x='Day', y='Quantity_percent', data=days, palette='muted')\n"
          ]
        },
        {
          "data": {
            "image/png": "[encoded data removed]",
            "text/plain": [
              "<Figure size 1000x400 with 1 Axes>"
            ]
          },
          "metadata": {},
          "output_type": "display_data"
        }
      ],
      "source": [
        "plt.figure(figsize=(10, 4))\n",
        "ax = sns.barplot(x='Day', y='Quantity_percent', data=days, palette='muted')\n",
        "for container in ax.containers:\n",
        "    ax.bar_label(container, fmt='%.2f%%')\n",
        "plt.title(\"Percent of Items Sold Per Day\", fontsize=14)\n",
        "plt.ylabel(\"Items Sold\", fontsize=10)\n",
        "plt.xlabel('Sales', fontsize=16)\n",
        "plt.xticks(fontsize=14)\n",
        "plt.yscale('log')\n",
        "plt.show()"
      ]
    },
    {
      "cell_type": "code",
      "execution_count": 122,
      "id": "4b82ae06-cbc9-4009-aa98-f54b56fee38d",
      "metadata": {
        "id": "4b82ae06-cbc9-4009-aa98-f54b56fee38d",
        "outputId": "cab4131f-5e2c-41b0-9d2e-3389098dc8d5"
      },
      "outputs": [
        {
          "name": "stdout",
          "output_type": "stream",
          "text": [
            "Regular customers: 4268\n",
            "Total customers: 4339\n",
            "% of regular customers: 98.36367826688178\n"
          ]
        }
      ],
      "source": [
        "df_customer_type = df[['CustomerID', 'InvoiceNo']].groupby(by=[\"CustomerID\"]).count().reset_index()\n",
        "regular_customer = len(df_customer_type[df_customer_type['InvoiceNo'] > 1])\n",
        "print('Regular customers: '+str(regular_customer))\n",
        "print('Total customers: '+str(len(df_customer_type)))\n",
        "print('% of regular customers: '+str((regular_customer/len(df_customer_type))*100))"
      ]
    },
    {
      "cell_type": "code",
      "execution_count": 123,
      "id": "7c7a7450-75ff-4d21-8db0-fa379f53dc90",
      "metadata": {
        "id": "7c7a7450-75ff-4d21-8db0-fa379f53dc90"
      },
      "outputs": [],
      "source": [
        "#create a new column for hours from InvoiceDate\n",
        "df['Hour']=df['InvoiceDate'].dt.hour"
      ]
    },
    {
      "cell_type": "code",
      "execution_count": 124,
      "id": "bfcc8e1e-4c68-4b3a-bffb-e2fb6d42a2ad",
      "metadata": {
        "id": "bfcc8e1e-4c68-4b3a-bffb-e2fb6d42a2ad"
      },
      "outputs": [],
      "source": [
        "sales_hours = df.groupby('Hour').count().reset_index()"
      ]
    },
    {
      "cell_type": "code",
      "execution_count": 125,
      "id": "35e9b1ea-b158-4ea8-9cb0-739c11b385d6",
      "metadata": {
        "id": "35e9b1ea-b158-4ea8-9cb0-739c11b385d6",
        "outputId": "4167f11e-7011-4e47-d20c-81866f7cc369"
      },
      "outputs": [
        {
          "data": {
            "image/png": "[encoded data removed]",
            "text/plain": [
              "<Figure size 640x480 with 1 Axes>"
            ]
          },
          "metadata": {},
          "output_type": "display_data"
        }
      ],
      "source": [
        "from matplotlib.ticker import StrMethodFormatter\n",
        "plt.plot(sales_hours['Hour'],sales_hours['InvoiceNo']/1000)\n",
        "plt.xlabel('Hour')\n",
        "plt.ylabel('Sales')\n",
        "plt.grid()\n",
        "formatter = StrMethodFormatter('{x:.0f}k')\n",
        "plt.gca().yaxis.set_major_formatter(formatter)\n",
        "plt.show()"
      ]
    },
    {
      "cell_type": "markdown",
      "id": "iGJkdbB9ys4E",
      "metadata": {
        "id": "iGJkdbB9ys4E"
      },
      "source": [
        "According to the Line plot it can be observed that consumers tend to\n",
        "purchase products between 12pm and 3pm. This signifies the customers\n",
        "are most likely free to work breaks or recess and are on their mobile or\n",
        "computer devices. Thus, pushing out more advertisements during the\n",
        "hour window of 12pm and 3pm might prove to be beneficial in\n",
        "showcasing more products to the existing customers as well as reaching\n",
        "out to newer customers."
      ]
    },
    {
      "cell_type": "markdown",
      "id": "991KAOs6yu1k",
      "metadata": {
        "id": "991KAOs6yu1k"
      },
      "source": [
        "**Products Analysis**"
      ]
    },
    {
      "cell_type": "code",
      "execution_count": 126,
      "id": "5fa1c3dd-cd86-4900-83a5-82c3378f480f",
      "metadata": {
        "id": "5fa1c3dd-cd86-4900-83a5-82c3378f480f",
        "outputId": "9e725175-f0f0-4e67-e16a-9211c3452d28"
      },
      "outputs": [
        {
          "data": {
            "text/html": [
              "<style type=\"text/css\">\n",
              "#T_8c55a_row0_col0 {\n",
              "  width: 10em;\n",
              "  background: linear-gradient(90deg, lime 100.0%, transparent 100.0%);\n",
              "}\n",
              "#T_8c55a_row1_col0 {\n",
              "  width: 10em;\n",
              "  background: linear-gradient(90deg, lime 84.4%, transparent 84.4%);\n",
              "}\n",
              "#T_8c55a_row2_col0 {\n",
              "  width: 10em;\n",
              "  background: linear-gradient(90deg, lime 81.7%, transparent 81.7%);\n",
              "}\n",
              "#T_8c55a_row3_col0 {\n",
              "  width: 10em;\n",
              "  background: linear-gradient(90deg, lime 51.5%, transparent 51.5%);\n",
              "}\n",
              "#T_8c55a_row4_col0 {\n",
              "  width: 10em;\n",
              "  background: linear-gradient(90deg, lime 48.2%, transparent 48.2%);\n",
              "}\n",
              "#T_8c55a_row5_col0 {\n",
              "  width: 10em;\n",
              "  background: linear-gradient(90deg, lime 45.7%, transparent 45.7%);\n",
              "}\n",
              "#T_8c55a_row6_col0 {\n",
              "  width: 10em;\n",
              "  background: linear-gradient(90deg, lime 39.6%, transparent 39.6%);\n",
              "}\n",
              "#T_8c55a_row7_col0 {\n",
              "  width: 10em;\n",
              "  background: linear-gradient(90deg, lime 37.9%, transparent 37.9%);\n",
              "}\n",
              "#T_8c55a_row8_col0 {\n",
              "  width: 10em;\n",
              "  background: linear-gradient(90deg, lime 37.7%, transparent 37.7%);\n",
              "}\n",
              "#T_8c55a_row9_col0 {\n",
              "  width: 10em;\n",
              "  background: linear-gradient(90deg, lime 32.4%, transparent 32.4%);\n",
              "}\n",
              "</style>\n",
              "<table id=\"T_8c55a\">\n",
              "  <thead>\n",
              "    <tr>\n",
              "      <th class=\"blank level0\" >&nbsp;</th>\n",
              "      <th id=\"T_8c55a_level0_col0\" class=\"col_heading level0 col0\" >TotalRevenueFromItem</th>\n",
              "    </tr>\n",
              "    <tr>\n",
              "      <th class=\"index_name level0\" >Description</th>\n",
              "      <th class=\"blank col0\" >&nbsp;</th>\n",
              "    </tr>\n",
              "  </thead>\n",
              "  <tbody>\n",
              "    <tr>\n",
              "      <th id=\"T_8c55a_level0_row0\" class=\"row_heading level0 row0\" >DOTCOM POSTAGE</th>\n",
              "      <td id=\"T_8c55a_row0_col0\" class=\"data row0 col0\" >206248.770000</td>\n",
              "    </tr>\n",
              "    <tr>\n",
              "      <th id=\"T_8c55a_level0_row1\" class=\"row_heading level0 row1\" >REGENCY CAKESTAND 3 TIER</th>\n",
              "      <td id=\"T_8c55a_row1_col0\" class=\"data row1 col0\" >174156.540000</td>\n",
              "    </tr>\n",
              "    <tr>\n",
              "      <th id=\"T_8c55a_level0_row2\" class=\"row_heading level0 row2\" >PAPER CRAFT , LITTLE BIRDIE</th>\n",
              "      <td id=\"T_8c55a_row2_col0\" class=\"data row2 col0\" >168469.600000</td>\n",
              "    </tr>\n",
              "    <tr>\n",
              "      <th id=\"T_8c55a_level0_row3\" class=\"row_heading level0 row3\" >WHITE HANGING HEART T-LIGHT HOLDER</th>\n",
              "      <td id=\"T_8c55a_row3_col0\" class=\"data row3 col0\" >106236.720000</td>\n",
              "    </tr>\n",
              "    <tr>\n",
              "      <th id=\"T_8c55a_level0_row4\" class=\"row_heading level0 row4\" >PARTY BUNTING</th>\n",
              "      <td id=\"T_8c55a_row4_col0\" class=\"data row4 col0\" >99445.230000</td>\n",
              "    </tr>\n",
              "    <tr>\n",
              "      <th id=\"T_8c55a_level0_row5\" class=\"row_heading level0 row5\" >JUMBO BAG RED RETROSPOT</th>\n",
              "      <td id=\"T_8c55a_row5_col0\" class=\"data row5 col0\" >94159.810000</td>\n",
              "    </tr>\n",
              "    <tr>\n",
              "      <th id=\"T_8c55a_level0_row6\" class=\"row_heading level0 row6\" >MEDIUM CERAMIC TOP STORAGE JAR</th>\n",
              "      <td id=\"T_8c55a_row6_col0\" class=\"data row6 col0\" >81700.920000</td>\n",
              "    </tr>\n",
              "    <tr>\n",
              "      <th id=\"T_8c55a_level0_row7\" class=\"row_heading level0 row7\" >POSTAGE</th>\n",
              "      <td id=\"T_8c55a_row7_col0\" class=\"data row7 col0\" >78101.880000</td>\n",
              "    </tr>\n",
              "    <tr>\n",
              "      <th id=\"T_8c55a_level0_row8\" class=\"row_heading level0 row8\" >Manual</th>\n",
              "      <td id=\"T_8c55a_row8_col0\" class=\"data row8 col0\" >77752.820000</td>\n",
              "    </tr>\n",
              "    <tr>\n",
              "      <th id=\"T_8c55a_level0_row9\" class=\"row_heading level0 row9\" >RABBIT NIGHT LIGHT</th>\n",
              "      <td id=\"T_8c55a_row9_col0\" class=\"data row9 col0\" >66870.030000</td>\n",
              "    </tr>\n",
              "  </tbody>\n",
              "</table>\n"
            ],
            "text/plain": [
              "<pandas.io.formats.style.Styler at 0x1c12b90f890>"
            ]
          },
          "execution_count": 126,
          "metadata": {},
          "output_type": "execute_result"
        }
      ],
      "source": [
        "top_products_revenue = df[['Description', 'TotalPrice']].groupby('Description').sum().sort_values('TotalPrice', ascending=False).head(10)\n",
        "top_products_revenue = top_products_revenue.rename(columns={'TotalPrice': 'TotalRevenueFromItem'})\n",
        "top_products_revenue.style.bar(align='mid', color='lime')"
      ]
    },
    {
      "cell_type": "markdown",
      "id": "sXOeoByuy5hw",
      "metadata": {
        "id": "sXOeoByuy5hw"
      },
      "source": [
        "The top selling product data can also be used to make advertisements\n",
        "catered specifically towards the respective product, boosting the sales\n",
        "of the product even more among the consumers.\n",
        "Additionally, the unit prices of the top products can be adjusted based\n",
        "on the market demands. If the demand for the products is high and the\n",
        "availability of them in the market is less, the price of the product can be\n",
        "bumped up a little to yield more profit."
      ]
    },
    {
      "cell_type": "code",
      "execution_count": 127,
      "id": "8d8598a5-a333-496d-b57d-df3922f56d24",
      "metadata": {
        "id": "8d8598a5-a333-496d-b57d-df3922f56d24",
        "outputId": "bbafcd3c-6833-49db-a7f8-8f1ab612eb75"
      },
      "outputs": [
        {
          "data": {
            "text/html": [
              "<style type=\"text/css\">\n",
              "#T_1bba7_row0_col0 {\n",
              "  width: 10em;\n",
              "  background: linear-gradient(90deg, yellow 100.0%, transparent 100.0%);\n",
              "}\n",
              "#T_1bba7_row1_col0 {\n",
              "  width: 10em;\n",
              "  background: linear-gradient(90deg, yellow 96.3%, transparent 96.3%);\n",
              "}\n",
              "#T_1bba7_row2_col0 {\n",
              "  width: 10em;\n",
              "  background: linear-gradient(90deg, yellow 67.8%, transparent 67.8%);\n",
              "}\n",
              "#T_1bba7_row3_col0 {\n",
              "  width: 10em;\n",
              "  background: linear-gradient(90deg, yellow 59.7%, transparent 59.7%);\n",
              "}\n",
              "#T_1bba7_row4_col0 {\n",
              "  width: 10em;\n",
              "  background: linear-gradient(90deg, yellow 46.8%, transparent 46.8%);\n",
              "}\n",
              "#T_1bba7_row5_col0 {\n",
              "  width: 10em;\n",
              "  background: linear-gradient(90deg, yellow 45.4%, transparent 45.4%);\n",
              "}\n",
              "#T_1bba7_row6_col0, #T_1bba7_row7_col0 {\n",
              "  width: 10em;\n",
              "  background: linear-gradient(90deg, yellow 44.9%, transparent 44.9%);\n",
              "}\n",
              "#T_1bba7_row8_col0 {\n",
              "  width: 10em;\n",
              "  background: linear-gradient(90deg, yellow 38.0%, transparent 38.0%);\n",
              "}\n",
              "#T_1bba7_row9_col0 {\n",
              "  width: 10em;\n",
              "  background: linear-gradient(90deg, yellow 32.9%, transparent 32.9%);\n",
              "}\n",
              "</style>\n",
              "<table id=\"T_1bba7\">\n",
              "  <thead>\n",
              "    <tr>\n",
              "      <th class=\"blank level0\" >&nbsp;</th>\n",
              "      <th id=\"T_1bba7_level0_col0\" class=\"col_heading level0 col0\" >Quantity</th>\n",
              "    </tr>\n",
              "    <tr>\n",
              "      <th class=\"index_name level0\" >Description</th>\n",
              "      <th class=\"blank col0\" >&nbsp;</th>\n",
              "    </tr>\n",
              "  </thead>\n",
              "  <tbody>\n",
              "    <tr>\n",
              "      <th id=\"T_1bba7_level0_row0\" class=\"row_heading level0 row0\" >PAPER CRAFT , LITTLE BIRDIE</th>\n",
              "      <td id=\"T_1bba7_row0_col0\" class=\"data row0 col0\" >80995</td>\n",
              "    </tr>\n",
              "    <tr>\n",
              "      <th id=\"T_1bba7_level0_row1\" class=\"row_heading level0 row1\" >MEDIUM CERAMIC TOP STORAGE JAR</th>\n",
              "      <td id=\"T_1bba7_row1_col0\" class=\"data row1 col0\" >78033</td>\n",
              "    </tr>\n",
              "    <tr>\n",
              "      <th id=\"T_1bba7_level0_row2\" class=\"row_heading level0 row2\" >WORLD WAR 2 GLIDERS ASSTD DESIGNS</th>\n",
              "      <td id=\"T_1bba7_row2_col0\" class=\"data row2 col0\" >54951</td>\n",
              "    </tr>\n",
              "    <tr>\n",
              "      <th id=\"T_1bba7_level0_row3\" class=\"row_heading level0 row3\" >JUMBO BAG RED RETROSPOT</th>\n",
              "      <td id=\"T_1bba7_row3_col0\" class=\"data row3 col0\" >48371</td>\n",
              "    </tr>\n",
              "    <tr>\n",
              "      <th id=\"T_1bba7_level0_row4\" class=\"row_heading level0 row4\" >WHITE HANGING HEART T-LIGHT HOLDER</th>\n",
              "      <td id=\"T_1bba7_row4_col0\" class=\"data row4 col0\" >37872</td>\n",
              "    </tr>\n",
              "    <tr>\n",
              "      <th id=\"T_1bba7_level0_row5\" class=\"row_heading level0 row5\" >POPCORN HOLDER</th>\n",
              "      <td id=\"T_1bba7_row5_col0\" class=\"data row5 col0\" >36749</td>\n",
              "    </tr>\n",
              "    <tr>\n",
              "      <th id=\"T_1bba7_level0_row6\" class=\"row_heading level0 row6\" >PACK OF 72 RETROSPOT CAKE CASES</th>\n",
              "      <td id=\"T_1bba7_row6_col0\" class=\"data row6 col0\" >36396</td>\n",
              "    </tr>\n",
              "    <tr>\n",
              "      <th id=\"T_1bba7_level0_row7\" class=\"row_heading level0 row7\" >ASSORTED COLOUR BIRD ORNAMENT</th>\n",
              "      <td id=\"T_1bba7_row7_col0\" class=\"data row7 col0\" >36362</td>\n",
              "    </tr>\n",
              "    <tr>\n",
              "      <th id=\"T_1bba7_level0_row8\" class=\"row_heading level0 row8\" >RABBIT NIGHT LIGHT</th>\n",
              "      <td id=\"T_1bba7_row8_col0\" class=\"data row8 col0\" >30739</td>\n",
              "    </tr>\n",
              "    <tr>\n",
              "      <th id=\"T_1bba7_level0_row9\" class=\"row_heading level0 row9\" >MINI PAINT SET VINTAGE </th>\n",
              "      <td id=\"T_1bba7_row9_col0\" class=\"data row9 col0\" >26633</td>\n",
              "    </tr>\n",
              "  </tbody>\n",
              "</table>\n"
            ],
            "text/plain": [
              "<pandas.io.formats.style.Styler at 0x1c12b90f9d0>"
            ]
          },
          "execution_count": 127,
          "metadata": {},
          "output_type": "execute_result"
        }
      ],
      "source": [
        "top_products_quantity = df[['Description', 'Quantity']].groupby('Description').sum().sort_values('Quantity', ascending=False).head(10)\n",
        "top_products_quantity.style.bar(align='mid', color='yellow')"
      ]
    },
    {
      "cell_type": "markdown",
      "id": "qm8j2NjLy8qe",
      "metadata": {
        "id": "qm8j2NjLy8qe"
      },
      "source": [
        "The above chart shows the highest selling products based on quantity.\n",
        "Since these products are being sold in larger quantities the business\n",
        "should always stock up on these high demand products. Stocking up on\n",
        "these products ensures that the existing customers of the business don’t\n",
        "have to go to other companies to purchase the product they need. This\n",
        "also provides a sense of reliability to the customer towards the business\n",
        "as they can always rely on the business to provide them with the product\n",
        "they require. <br>\n",
        "Next, relationships between products can also be established by\n",
        "analyzing products which have been bought together most of the time"
      ]
    },
    {
      "cell_type": "code",
      "execution_count": 128,
      "id": "0383dedd-7e64-4446-af20-b65d26127a31",
      "metadata": {
        "id": "0383dedd-7e64-4446-af20-b65d26127a31",
        "outputId": "59c0e60a-4311-45df-94cf-b926218f6826"
      },
      "outputs": [
        {
          "data": {
            "text/html": [
              "<div>\n",
              "<style scoped>\n",
              "    .dataframe tbody tr th:only-of-type {\n",
              "        vertical-align: middle;\n",
              "    }\n",
              "\n",
              "    .dataframe tbody tr th {\n",
              "        vertical-align: top;\n",
              "    }\n",
              "\n",
              "    .dataframe thead th {\n",
              "        text-align: right;\n",
              "    }\n",
              "</style>\n",
              "<table border=\"1\" class=\"dataframe\">\n",
              "  <thead>\n",
              "    <tr style=\"text-align: right;\">\n",
              "      <th></th>\n",
              "      <th>InvoiceNo</th>\n",
              "      <th>Description</th>\n",
              "    </tr>\n",
              "  </thead>\n",
              "  <tbody>\n",
              "    <tr>\n",
              "      <th>0</th>\n",
              "      <td>536365</td>\n",
              "      <td>WHITE HANGING HEART T-LIGHT HOLDER , WHITE MET...</td>\n",
              "    </tr>\n",
              "    <tr>\n",
              "      <th>1</th>\n",
              "      <td>536366</td>\n",
              "      <td>HAND WARMER UNION JACK , HAND WARMER RED POLKA...</td>\n",
              "    </tr>\n",
              "    <tr>\n",
              "      <th>2</th>\n",
              "      <td>536367</td>\n",
              "      <td>ASSORTED COLOUR BIRD ORNAMENT , POPPY'S PLAYHO...</td>\n",
              "    </tr>\n",
              "    <tr>\n",
              "      <th>3</th>\n",
              "      <td>536368</td>\n",
              "      <td>JAM MAKING SET WITH JARS , RED COAT RACK PARIS...</td>\n",
              "    </tr>\n",
              "    <tr>\n",
              "      <th>4</th>\n",
              "      <td>536369</td>\n",
              "      <td>BATH BUILDING BLOCK WORD</td>\n",
              "    </tr>\n",
              "    <tr>\n",
              "      <th>...</th>\n",
              "      <td>...</td>\n",
              "      <td>...</td>\n",
              "    </tr>\n",
              "    <tr>\n",
              "      <th>19955</th>\n",
              "      <td>581584</td>\n",
              "      <td>RED FLOCK LOVE HEART PHOTO FRAME , 6 CHOCOLATE...</td>\n",
              "    </tr>\n",
              "    <tr>\n",
              "      <th>19956</th>\n",
              "      <td>581585</td>\n",
              "      <td>BLACK TEA TOWEL CLASSIC DESIGN , ASSORTED BOTT...</td>\n",
              "    </tr>\n",
              "    <tr>\n",
              "      <th>19957</th>\n",
              "      <td>581586</td>\n",
              "      <td>LARGE CAKE STAND  HANGING STRAWBERY , SET OF 3...</td>\n",
              "    </tr>\n",
              "    <tr>\n",
              "      <th>19958</th>\n",
              "      <td>581587</td>\n",
              "      <td>CIRCUS PARADE LUNCH BOX  , PLASTERS IN TIN CIR...</td>\n",
              "    </tr>\n",
              "    <tr>\n",
              "      <th>19959</th>\n",
              "      <td>A563185</td>\n",
              "      <td>Adjust bad debt</td>\n",
              "    </tr>\n",
              "  </tbody>\n",
              "</table>\n",
              "<p>19960 rows × 2 columns</p>\n",
              "</div>"
            ],
            "text/plain": [
              "      InvoiceNo                                        Description\n",
              "0        536365  WHITE HANGING HEART T-LIGHT HOLDER , WHITE MET...\n",
              "1        536366  HAND WARMER UNION JACK , HAND WARMER RED POLKA...\n",
              "2        536367  ASSORTED COLOUR BIRD ORNAMENT , POPPY'S PLAYHO...\n",
              "3        536368  JAM MAKING SET WITH JARS , RED COAT RACK PARIS...\n",
              "4        536369                           BATH BUILDING BLOCK WORD\n",
              "...         ...                                                ...\n",
              "19955    581584  RED FLOCK LOVE HEART PHOTO FRAME , 6 CHOCOLATE...\n",
              "19956    581585  BLACK TEA TOWEL CLASSIC DESIGN , ASSORTED BOTT...\n",
              "19957    581586  LARGE CAKE STAND  HANGING STRAWBERY , SET OF 3...\n",
              "19958    581587  CIRCUS PARADE LUNCH BOX  , PLASTERS IN TIN CIR...\n",
              "19959   A563185                                    Adjust bad debt\n",
              "\n",
              "[19960 rows x 2 columns]"
            ]
          },
          "execution_count": 128,
          "metadata": {},
          "output_type": "execute_result"
        }
      ],
      "source": [
        "sold_together = df.groupby(\"InvoiceNo\")['Description'].agg(lambda x : \" , \".join(x)).reset_index()\n",
        "sold_together"
      ]
    },
    {
      "cell_type": "code",
      "execution_count": 129,
      "id": "4c952e41-f83c-45cf-8b5e-c53fb35fae73",
      "metadata": {
        "id": "4c952e41-f83c-45cf-8b5e-c53fb35fae73",
        "outputId": "e12f0712-ad3f-46ae-bb1f-2a9f37a985fd"
      },
      "outputs": [
        {
          "name": "stdout",
          "output_type": "stream",
          "text": [
            "(' KEY FOB ', ' KEY FOB ') 743\n",
            "(' KEY FOB ', ' BACK DOOR  ') 544\n",
            "(' KEY FOB ', ' SHED ') 511\n",
            "(' JUMBO BAG PINK POLKADOT ', ' JUMBO BAG RED RETROSPOT ') 477\n",
            "(' KEY FOB ', ' FRONT  DOOR  ') 455\n",
            "(' GREEN REGENCY TEACUP AND SAUCER ', ' ROSES REGENCY TEACUP AND SAUCER  ') 443\n",
            "('COFFEE', 'SUGAR ') 432\n",
            "(' JUMBO SHOPPER VINTAGE RED PAISLEY ', ' JUMBO BAG RED RETROSPOT ') 427\n",
            "(' SET 3 RETROSPOT TEA', 'COFFEE') 426\n",
            "(' SET 3 RETROSPOT TEA', 'SUGAR ') 414\n",
            "(' JUMBO STORAGE BAG SUKI ', ' JUMBO BAG RED RETROSPOT ') 399\n",
            "(' LUNCH BAG RED RETROSPOT ', ' LUNCH BAG  BLACK SKULL. ') 393\n",
            "(' JUMBO BAG RED RETROSPOT ', ' JUMBO  BAG BAROQUE BLACK WHITE ') 367\n",
            "(' GREEN REGENCY TEACUP AND SAUCER ', ' PINK REGENCY TEACUP AND SAUCER ') 359\n",
            "(' WOODLAND CHARLOTTE BAG ', ' RED RETROSPOT CHARLOTTE BAG ') 357\n"
          ]
        }
      ],
      "source": [
        "from itertools import combinations\n",
        "from collections import Counter\n",
        "count = Counter()\n",
        "for row in sold_together['Description']:\n",
        "    row_list = row.split(\",\")\n",
        "    count.update(Counter(combinations(row_list,2)))\n",
        "for key,value in count.most_common(15):\n",
        "    print(key,value)"
      ]
    },
    {
      "cell_type": "markdown",
      "id": "tfy2KVAUzD7k",
      "metadata": {
        "id": "tfy2KVAUzD7k"
      },
      "source": [
        "Hence, there is a huge number of customers buying products relevant\n",
        "to each other at the same time. The business can capitalize on this\n",
        "information and provide various offers to the customers. For example:\n",
        "on the purchase of 3 ‘COFFEE’, 1 ‘SUGAR’ is given out for free, and\n",
        "other similar offers to grow the sales.53\n",
        "Additionally, customers can be recommended products based on their\n",
        "purchase through the e-commerce platform. For example, when a\n",
        "customer purchases a ‘KEY FOB’ the e-commerce platform can\n",
        "recommend ‘BACK DOOR’, ‘SHED’, and ‘FRONT DOOR’ suggesting\n",
        "them as items the customer might find useful or require."
      ]
    },
    {
      "cell_type": "markdown",
      "id": "HROSHwmyzFls",
      "metadata": {
        "id": "HROSHwmyzFls"
      },
      "source": [
        "**Customer Analysis**"
      ]
    },
    {
      "cell_type": "code",
      "execution_count": 130,
      "id": "32829162-733d-45c5-936d-976acf0b5527",
      "metadata": {
        "id": "32829162-733d-45c5-936d-976acf0b5527"
      },
      "outputs": [],
      "source": [
        "df_customer = df.copy()"
      ]
    },
    {
      "cell_type": "code",
      "execution_count": 131,
      "id": "1c54d257-6008-41d8-97ad-20718cb0a1ec",
      "metadata": {
        "id": "1c54d257-6008-41d8-97ad-20718cb0a1ec",
        "outputId": "7dc81595-c06b-43dd-9423-bc47ff2ae288"
      },
      "outputs": [
        {
          "data": {
            "text/plain": [
              "InvoiceNo              object\n",
              "StockCode              object\n",
              "Description            object\n",
              "Quantity                int64\n",
              "InvoiceDate    datetime64[ns]\n",
              "UnitPrice             float64\n",
              "CustomerID            float64\n",
              "Country                object\n",
              "Time                   object\n",
              "Month                  object\n",
              "Day                    object\n",
              "Year                    int32\n",
              "TotalPrice            float64\n",
              "Hour                    int32\n",
              "dtype: object"
            ]
          },
          "execution_count": 131,
          "metadata": {},
          "output_type": "execute_result"
        }
      ],
      "source": [
        "df_customer.dtypes"
      ]
    },
    {
      "cell_type": "code",
      "execution_count": 132,
      "id": "55a37cb6-bc72-4a5b-9309-8a888c32c2da",
      "metadata": {
        "id": "55a37cb6-bc72-4a5b-9309-8a888c32c2da"
      },
      "outputs": [],
      "source": [
        "df_customer = df_customer.drop(df_customer[df_customer['CustomerID'] == 0.0].index)"
      ]
    },
    {
      "cell_type": "code",
      "execution_count": 133,
      "id": "2ce3ce86-95d7-490f-89bf-f9fae28100ea",
      "metadata": {
        "id": "2ce3ce86-95d7-490f-89bf-f9fae28100ea",
        "outputId": "7b7b7ae9-7dcb-448f-b1ff-0f66483a6ee7"
      },
      "outputs": [
        {
          "data": {
            "text/html": [
              "<div>\n",
              "<style scoped>\n",
              "    .dataframe tbody tr th:only-of-type {\n",
              "        vertical-align: middle;\n",
              "    }\n",
              "\n",
              "    .dataframe tbody tr th {\n",
              "        vertical-align: top;\n",
              "    }\n",
              "\n",
              "    .dataframe thead th {\n",
              "        text-align: right;\n",
              "    }\n",
              "</style>\n",
              "<table border=\"1\" class=\"dataframe\">\n",
              "  <thead>\n",
              "    <tr style=\"text-align: right;\">\n",
              "      <th></th>\n",
              "      <th>InvoiceNo</th>\n",
              "      <th>StockCode</th>\n",
              "      <th>Description</th>\n",
              "      <th>Quantity</th>\n",
              "      <th>InvoiceDate</th>\n",
              "      <th>UnitPrice</th>\n",
              "      <th>CustomerID</th>\n",
              "      <th>Country</th>\n",
              "      <th>Time</th>\n",
              "      <th>Month</th>\n",
              "      <th>Day</th>\n",
              "      <th>Year</th>\n",
              "      <th>TotalPrice</th>\n",
              "      <th>Hour</th>\n",
              "    </tr>\n",
              "  </thead>\n",
              "  <tbody>\n",
              "    <tr>\n",
              "      <th>0</th>\n",
              "      <td>536365</td>\n",
              "      <td>85123A</td>\n",
              "      <td>WHITE HANGING HEART T-LIGHT HOLDER</td>\n",
              "      <td>6</td>\n",
              "      <td>2010-12-01 08:26:00</td>\n",
              "      <td>2.55</td>\n",
              "      <td>17850.0</td>\n",
              "      <td>United Kingdom</td>\n",
              "      <td>08:26:00</td>\n",
              "      <td>December</td>\n",
              "      <td>Wednesday</td>\n",
              "      <td>2010</td>\n",
              "      <td>15.30</td>\n",
              "      <td>8</td>\n",
              "    </tr>\n",
              "    <tr>\n",
              "      <th>1</th>\n",
              "      <td>536365</td>\n",
              "      <td>71053</td>\n",
              "      <td>WHITE METAL LANTERN</td>\n",
              "      <td>6</td>\n",
              "      <td>2010-12-01 08:26:00</td>\n",
              "      <td>3.39</td>\n",
              "      <td>17850.0</td>\n",
              "      <td>United Kingdom</td>\n",
              "      <td>08:26:00</td>\n",
              "      <td>December</td>\n",
              "      <td>Wednesday</td>\n",
              "      <td>2010</td>\n",
              "      <td>20.34</td>\n",
              "      <td>8</td>\n",
              "    </tr>\n",
              "    <tr>\n",
              "      <th>2</th>\n",
              "      <td>536365</td>\n",
              "      <td>84406B</td>\n",
              "      <td>CREAM CUPID HEARTS COAT HANGER</td>\n",
              "      <td>8</td>\n",
              "      <td>2010-12-01 08:26:00</td>\n",
              "      <td>2.75</td>\n",
              "      <td>17850.0</td>\n",
              "      <td>United Kingdom</td>\n",
              "      <td>08:26:00</td>\n",
              "      <td>December</td>\n",
              "      <td>Wednesday</td>\n",
              "      <td>2010</td>\n",
              "      <td>22.00</td>\n",
              "      <td>8</td>\n",
              "    </tr>\n",
              "    <tr>\n",
              "      <th>3</th>\n",
              "      <td>536365</td>\n",
              "      <td>84029G</td>\n",
              "      <td>KNITTED UNION FLAG HOT WATER BOTTLE</td>\n",
              "      <td>6</td>\n",
              "      <td>2010-12-01 08:26:00</td>\n",
              "      <td>3.39</td>\n",
              "      <td>17850.0</td>\n",
              "      <td>United Kingdom</td>\n",
              "      <td>08:26:00</td>\n",
              "      <td>December</td>\n",
              "      <td>Wednesday</td>\n",
              "      <td>2010</td>\n",
              "      <td>20.34</td>\n",
              "      <td>8</td>\n",
              "    </tr>\n",
              "    <tr>\n",
              "      <th>4</th>\n",
              "      <td>536365</td>\n",
              "      <td>84029E</td>\n",
              "      <td>RED WOOLLY HOTTIE WHITE HEART.</td>\n",
              "      <td>6</td>\n",
              "      <td>2010-12-01 08:26:00</td>\n",
              "      <td>3.39</td>\n",
              "      <td>17850.0</td>\n",
              "      <td>United Kingdom</td>\n",
              "      <td>08:26:00</td>\n",
              "      <td>December</td>\n",
              "      <td>Wednesday</td>\n",
              "      <td>2010</td>\n",
              "      <td>20.34</td>\n",
              "      <td>8</td>\n",
              "    </tr>\n",
              "    <tr>\n",
              "      <th>5</th>\n",
              "      <td>536365</td>\n",
              "      <td>22752</td>\n",
              "      <td>SET 7 BABUSHKA NESTING BOXES</td>\n",
              "      <td>2</td>\n",
              "      <td>2010-12-01 08:26:00</td>\n",
              "      <td>7.65</td>\n",
              "      <td>17850.0</td>\n",
              "      <td>United Kingdom</td>\n",
              "      <td>08:26:00</td>\n",
              "      <td>December</td>\n",
              "      <td>Wednesday</td>\n",
              "      <td>2010</td>\n",
              "      <td>15.30</td>\n",
              "      <td>8</td>\n",
              "    </tr>\n",
              "    <tr>\n",
              "      <th>6</th>\n",
              "      <td>536365</td>\n",
              "      <td>21730</td>\n",
              "      <td>GLASS STAR FROSTED T-LIGHT HOLDER</td>\n",
              "      <td>6</td>\n",
              "      <td>2010-12-01 08:26:00</td>\n",
              "      <td>4.25</td>\n",
              "      <td>17850.0</td>\n",
              "      <td>United Kingdom</td>\n",
              "      <td>08:26:00</td>\n",
              "      <td>December</td>\n",
              "      <td>Wednesday</td>\n",
              "      <td>2010</td>\n",
              "      <td>25.50</td>\n",
              "      <td>8</td>\n",
              "    </tr>\n",
              "    <tr>\n",
              "      <th>7</th>\n",
              "      <td>536366</td>\n",
              "      <td>22633</td>\n",
              "      <td>HAND WARMER UNION JACK</td>\n",
              "      <td>6</td>\n",
              "      <td>2010-12-01 08:28:00</td>\n",
              "      <td>1.85</td>\n",
              "      <td>17850.0</td>\n",
              "      <td>United Kingdom</td>\n",
              "      <td>08:28:00</td>\n",
              "      <td>December</td>\n",
              "      <td>Wednesday</td>\n",
              "      <td>2010</td>\n",
              "      <td>11.10</td>\n",
              "      <td>8</td>\n",
              "    </tr>\n",
              "    <tr>\n",
              "      <th>8</th>\n",
              "      <td>536366</td>\n",
              "      <td>22632</td>\n",
              "      <td>HAND WARMER RED POLKA DOT</td>\n",
              "      <td>6</td>\n",
              "      <td>2010-12-01 08:28:00</td>\n",
              "      <td>1.85</td>\n",
              "      <td>17850.0</td>\n",
              "      <td>United Kingdom</td>\n",
              "      <td>08:28:00</td>\n",
              "      <td>December</td>\n",
              "      <td>Wednesday</td>\n",
              "      <td>2010</td>\n",
              "      <td>11.10</td>\n",
              "      <td>8</td>\n",
              "    </tr>\n",
              "    <tr>\n",
              "      <th>9</th>\n",
              "      <td>536367</td>\n",
              "      <td>84879</td>\n",
              "      <td>ASSORTED COLOUR BIRD ORNAMENT</td>\n",
              "      <td>32</td>\n",
              "      <td>2010-12-01 08:34:00</td>\n",
              "      <td>1.69</td>\n",
              "      <td>13047.0</td>\n",
              "      <td>United Kingdom</td>\n",
              "      <td>08:34:00</td>\n",
              "      <td>December</td>\n",
              "      <td>Wednesday</td>\n",
              "      <td>2010</td>\n",
              "      <td>54.08</td>\n",
              "      <td>8</td>\n",
              "    </tr>\n",
              "  </tbody>\n",
              "</table>\n",
              "</div>"
            ],
            "text/plain": [
              "  InvoiceNo StockCode                          Description  Quantity  \\\n",
              "0    536365    85123A   WHITE HANGING HEART T-LIGHT HOLDER         6   \n",
              "1    536365     71053                  WHITE METAL LANTERN         6   \n",
              "2    536365    84406B       CREAM CUPID HEARTS COAT HANGER         8   \n",
              "3    536365    84029G  KNITTED UNION FLAG HOT WATER BOTTLE         6   \n",
              "4    536365    84029E       RED WOOLLY HOTTIE WHITE HEART.         6   \n",
              "5    536365     22752         SET 7 BABUSHKA NESTING BOXES         2   \n",
              "6    536365     21730    GLASS STAR FROSTED T-LIGHT HOLDER         6   \n",
              "7    536366     22633               HAND WARMER UNION JACK         6   \n",
              "8    536366     22632            HAND WARMER RED POLKA DOT         6   \n",
              "9    536367     84879        ASSORTED COLOUR BIRD ORNAMENT        32   \n",
              "\n",
              "          InvoiceDate  UnitPrice  CustomerID         Country      Time  \\\n",
              "0 2010-12-01 08:26:00       2.55     17850.0  United Kingdom  08:26:00   \n",
              "1 2010-12-01 08:26:00       3.39     17850.0  United Kingdom  08:26:00   \n",
              "2 2010-12-01 08:26:00       2.75     17850.0  United Kingdom  08:26:00   \n",
              "3 2010-12-01 08:26:00       3.39     17850.0  United Kingdom  08:26:00   \n",
              "4 2010-12-01 08:26:00       3.39     17850.0  United Kingdom  08:26:00   \n",
              "5 2010-12-01 08:26:00       7.65     17850.0  United Kingdom  08:26:00   \n",
              "6 2010-12-01 08:26:00       4.25     17850.0  United Kingdom  08:26:00   \n",
              "7 2010-12-01 08:28:00       1.85     17850.0  United Kingdom  08:28:00   \n",
              "8 2010-12-01 08:28:00       1.85     17850.0  United Kingdom  08:28:00   \n",
              "9 2010-12-01 08:34:00       1.69     13047.0  United Kingdom  08:34:00   \n",
              "\n",
              "      Month        Day  Year  TotalPrice  Hour  \n",
              "0  December  Wednesday  2010       15.30     8  \n",
              "1  December  Wednesday  2010       20.34     8  \n",
              "2  December  Wednesday  2010       22.00     8  \n",
              "3  December  Wednesday  2010       20.34     8  \n",
              "4  December  Wednesday  2010       20.34     8  \n",
              "5  December  Wednesday  2010       15.30     8  \n",
              "6  December  Wednesday  2010       25.50     8  \n",
              "7  December  Wednesday  2010       11.10     8  \n",
              "8  December  Wednesday  2010       11.10     8  \n",
              "9  December  Wednesday  2010       54.08     8  "
            ]
          },
          "execution_count": 133,
          "metadata": {},
          "output_type": "execute_result"
        }
      ],
      "source": [
        "df_customer.head(10)"
      ]
    },
    {
      "cell_type": "code",
      "execution_count": 134,
      "id": "d80a6850-1258-48f9-b2c8-8f32de1c312e",
      "metadata": {
        "id": "d80a6850-1258-48f9-b2c8-8f32de1c312e",
        "outputId": "f400f6ff-4a32-49a5-c51b-758fbf753572"
      },
      "outputs": [
        {
          "data": {
            "text/html": [
              "<style type=\"text/css\">\n",
              "#T_68e4b_row0_col0 {\n",
              "  width: 10em;\n",
              "  background: linear-gradient(90deg, aqua 100.0%, transparent 100.0%);\n",
              "}\n",
              "#T_68e4b_row1_col0 {\n",
              "  width: 10em;\n",
              "  background: linear-gradient(90deg, aqua 92.7%, transparent 92.7%);\n",
              "}\n",
              "#T_68e4b_row2_col0 {\n",
              "  width: 10em;\n",
              "  background: linear-gradient(90deg, aqua 69.4%, transparent 69.4%);\n",
              "}\n",
              "#T_68e4b_row3_col0 {\n",
              "  width: 10em;\n",
              "  background: linear-gradient(90deg, aqua 60.1%, transparent 60.1%);\n",
              "}\n",
              "#T_68e4b_row4_col0 {\n",
              "  width: 10em;\n",
              "  background: linear-gradient(90deg, aqua 51.3%, transparent 51.3%);\n",
              "}\n",
              "#T_68e4b_row5_col0 {\n",
              "  width: 10em;\n",
              "  background: linear-gradient(90deg, aqua 44.6%, transparent 44.6%);\n",
              "}\n",
              "#T_68e4b_row6_col0 {\n",
              "  width: 10em;\n",
              "  background: linear-gradient(90deg, aqua 41.8%, transparent 41.8%);\n",
              "}\n",
              "#T_68e4b_row7_col0 {\n",
              "  width: 10em;\n",
              "  background: linear-gradient(90deg, aqua 32.5%, transparent 32.5%);\n",
              "}\n",
              "#T_68e4b_row8_col0 {\n",
              "  width: 10em;\n",
              "  background: linear-gradient(90deg, aqua 28.9%, transparent 28.9%);\n",
              "}\n",
              "#T_68e4b_row9_col0 {\n",
              "  width: 10em;\n",
              "  background: linear-gradient(90deg, aqua 27.5%, transparent 27.5%);\n",
              "}\n",
              "</style>\n",
              "<table id=\"T_68e4b\">\n",
              "  <thead>\n",
              "    <tr>\n",
              "      <th class=\"blank level0\" >&nbsp;</th>\n",
              "      <th id=\"T_68e4b_level0_col0\" class=\"col_heading level0 col0\" >TotalRevenueFromCustomer</th>\n",
              "    </tr>\n",
              "    <tr>\n",
              "      <th class=\"index_name level0\" >CustomerID</th>\n",
              "      <th class=\"blank col0\" >&nbsp;</th>\n",
              "    </tr>\n",
              "  </thead>\n",
              "  <tbody>\n",
              "    <tr>\n",
              "      <th id=\"T_68e4b_level0_row0\" class=\"row_heading level0 row0\" >14646.000000</th>\n",
              "      <td id=\"T_68e4b_row0_col0\" class=\"data row0 col0\" >280206.020000</td>\n",
              "    </tr>\n",
              "    <tr>\n",
              "      <th id=\"T_68e4b_level0_row1\" class=\"row_heading level0 row1\" >18102.000000</th>\n",
              "      <td id=\"T_68e4b_row1_col0\" class=\"data row1 col0\" >259657.300000</td>\n",
              "    </tr>\n",
              "    <tr>\n",
              "      <th id=\"T_68e4b_level0_row2\" class=\"row_heading level0 row2\" >17450.000000</th>\n",
              "      <td id=\"T_68e4b_row2_col0\" class=\"data row2 col0\" >194390.790000</td>\n",
              "    </tr>\n",
              "    <tr>\n",
              "      <th id=\"T_68e4b_level0_row3\" class=\"row_heading level0 row3\" >16446.000000</th>\n",
              "      <td id=\"T_68e4b_row3_col0\" class=\"data row3 col0\" >168472.500000</td>\n",
              "    </tr>\n",
              "    <tr>\n",
              "      <th id=\"T_68e4b_level0_row4\" class=\"row_heading level0 row4\" >14911.000000</th>\n",
              "      <td id=\"T_68e4b_row4_col0\" class=\"data row4 col0\" >143711.170000</td>\n",
              "    </tr>\n",
              "    <tr>\n",
              "      <th id=\"T_68e4b_level0_row5\" class=\"row_heading level0 row5\" >12415.000000</th>\n",
              "      <td id=\"T_68e4b_row5_col0\" class=\"data row5 col0\" >124914.530000</td>\n",
              "    </tr>\n",
              "    <tr>\n",
              "      <th id=\"T_68e4b_level0_row6\" class=\"row_heading level0 row6\" >14156.000000</th>\n",
              "      <td id=\"T_68e4b_row6_col0\" class=\"data row6 col0\" >117210.080000</td>\n",
              "    </tr>\n",
              "    <tr>\n",
              "      <th id=\"T_68e4b_level0_row7\" class=\"row_heading level0 row7\" >17511.000000</th>\n",
              "      <td id=\"T_68e4b_row7_col0\" class=\"data row7 col0\" >91062.380000</td>\n",
              "    </tr>\n",
              "    <tr>\n",
              "      <th id=\"T_68e4b_level0_row8\" class=\"row_heading level0 row8\" >16029.000000</th>\n",
              "      <td id=\"T_68e4b_row8_col0\" class=\"data row8 col0\" >80850.840000</td>\n",
              "    </tr>\n",
              "    <tr>\n",
              "      <th id=\"T_68e4b_level0_row9\" class=\"row_heading level0 row9\" >12346.000000</th>\n",
              "      <td id=\"T_68e4b_row9_col0\" class=\"data row9 col0\" >77183.600000</td>\n",
              "    </tr>\n",
              "  </tbody>\n",
              "</table>\n"
            ],
            "text/plain": [
              "<pandas.io.formats.style.Styler at 0x1c1138442d0>"
            ]
          },
          "execution_count": 134,
          "metadata": {},
          "output_type": "execute_result"
        }
      ],
      "source": [
        "df_customer_revenue = df_customer[['CustomerID', 'TotalPrice']].groupby('CustomerID').sum().sort_values('TotalPrice', ascending=False).head(10)\n",
        "df_customer_revenue = df_customer_revenue.rename(columns={'TotalPrice': 'TotalRevenueFromCustomer'})\n",
        "df_customer_revenue.style.bar(align='mid', color='aqua')"
      ]
    },
    {
      "cell_type": "code",
      "execution_count": 135,
      "id": "0e861c05-3a89-46df-8c30-ce0f2512ce49",
      "metadata": {
        "id": "0e861c05-3a89-46df-8c30-ce0f2512ce49",
        "outputId": "6a2a88c7-a50e-4a36-df1d-d64ba4781e41"
      },
      "outputs": [
        {
          "data": {
            "text/html": [
              "<style type=\"text/css\">\n",
              "#T_26f1e_row0_col0 {\n",
              "  width: 10em;\n",
              "  background: linear-gradient(90deg, lavender 100.0%, transparent 100.0%);\n",
              "}\n",
              "#T_26f1e_row1_col0 {\n",
              "  width: 10em;\n",
              "  background: linear-gradient(90deg, lavender 73.9%, transparent 73.9%);\n",
              "}\n",
              "#T_26f1e_row2_col0 {\n",
              "  width: 10em;\n",
              "  background: linear-gradient(90deg, lavender 66.6%, transparent 66.6%);\n",
              "}\n",
              "#T_26f1e_row3_col0 {\n",
              "  width: 10em;\n",
              "  background: linear-gradient(90deg, lavender 57.5%, transparent 57.5%);\n",
              "}\n",
              "#T_26f1e_row4_col0 {\n",
              "  width: 10em;\n",
              "  background: linear-gradient(90deg, lavender 34.9%, transparent 34.9%);\n",
              "}\n",
              "#T_26f1e_row5_col0 {\n",
              "  width: 10em;\n",
              "  background: linear-gradient(90deg, lavender 30.8%, transparent 30.8%);\n",
              "}\n",
              "#T_26f1e_row6_col0 {\n",
              "  width: 10em;\n",
              "  background: linear-gradient(90deg, lavender 27.0%, transparent 27.0%);\n",
              "}\n",
              "#T_26f1e_row7_col0 {\n",
              "  width: 10em;\n",
              "  background: linear-gradient(90deg, lavender 23.6%, transparent 23.6%);\n",
              "}\n",
              "#T_26f1e_row8_col0 {\n",
              "  width: 10em;\n",
              "  background: linear-gradient(90deg, lavender 21.7%, transparent 21.7%);\n",
              "}\n",
              "#T_26f1e_row9_col0 {\n",
              "  width: 10em;\n",
              "  background: linear-gradient(90deg, lavender 21.3%, transparent 21.3%);\n",
              "}\n",
              "</style>\n",
              "<table id=\"T_26f1e\">\n",
              "  <thead>\n",
              "    <tr>\n",
              "      <th class=\"blank level0\" >&nbsp;</th>\n",
              "      <th id=\"T_26f1e_level0_col0\" class=\"col_heading level0 col0\" >TotalOrdersFromCustomer</th>\n",
              "    </tr>\n",
              "    <tr>\n",
              "      <th class=\"index_name level0\" >CustomerID</th>\n",
              "      <th class=\"blank col0\" >&nbsp;</th>\n",
              "    </tr>\n",
              "  </thead>\n",
              "  <tbody>\n",
              "    <tr>\n",
              "      <th id=\"T_26f1e_level0_row0\" class=\"row_heading level0 row0\" >17841.000000</th>\n",
              "      <td id=\"T_26f1e_row0_col0\" class=\"data row0 col0\" >7676</td>\n",
              "    </tr>\n",
              "    <tr>\n",
              "      <th id=\"T_26f1e_level0_row1\" class=\"row_heading level0 row1\" >14911.000000</th>\n",
              "      <td id=\"T_26f1e_row1_col0\" class=\"data row1 col0\" >5670</td>\n",
              "    </tr>\n",
              "    <tr>\n",
              "      <th id=\"T_26f1e_level0_row2\" class=\"row_heading level0 row2\" >14096.000000</th>\n",
              "      <td id=\"T_26f1e_row2_col0\" class=\"data row2 col0\" >5111</td>\n",
              "    </tr>\n",
              "    <tr>\n",
              "      <th id=\"T_26f1e_level0_row3\" class=\"row_heading level0 row3\" >12748.000000</th>\n",
              "      <td id=\"T_26f1e_row3_col0\" class=\"data row3 col0\" >4412</td>\n",
              "    </tr>\n",
              "    <tr>\n",
              "      <th id=\"T_26f1e_level0_row4\" class=\"row_heading level0 row4\" >14606.000000</th>\n",
              "      <td id=\"T_26f1e_row4_col0\" class=\"data row4 col0\" >2677</td>\n",
              "    </tr>\n",
              "    <tr>\n",
              "      <th id=\"T_26f1e_level0_row5\" class=\"row_heading level0 row5\" >15311.000000</th>\n",
              "      <td id=\"T_26f1e_row5_col0\" class=\"data row5 col0\" >2366</td>\n",
              "    </tr>\n",
              "    <tr>\n",
              "      <th id=\"T_26f1e_level0_row6\" class=\"row_heading level0 row6\" >14646.000000</th>\n",
              "      <td id=\"T_26f1e_row6_col0\" class=\"data row6 col0\" >2076</td>\n",
              "    </tr>\n",
              "    <tr>\n",
              "      <th id=\"T_26f1e_level0_row7\" class=\"row_heading level0 row7\" >13089.000000</th>\n",
              "      <td id=\"T_26f1e_row7_col0\" class=\"data row7 col0\" >1814</td>\n",
              "    </tr>\n",
              "    <tr>\n",
              "      <th id=\"T_26f1e_level0_row8\" class=\"row_heading level0 row8\" >13263.000000</th>\n",
              "      <td id=\"T_26f1e_row8_col0\" class=\"data row8 col0\" >1667</td>\n",
              "    </tr>\n",
              "    <tr>\n",
              "      <th id=\"T_26f1e_level0_row9\" class=\"row_heading level0 row9\" >14298.000000</th>\n",
              "      <td id=\"T_26f1e_row9_col0\" class=\"data row9 col0\" >1637</td>\n",
              "    </tr>\n",
              "  </tbody>\n",
              "</table>\n"
            ],
            "text/plain": [
              "<pandas.io.formats.style.Styler at 0x1c113844190>"
            ]
          },
          "execution_count": 135,
          "metadata": {},
          "output_type": "execute_result"
        }
      ],
      "source": [
        "df_customer_orders = df_customer[['CustomerID', 'InvoiceNo']].groupby('CustomerID').count().sort_values('InvoiceNo', ascending=False).head(10)\n",
        "df_customer_orders = df_customer_orders.rename(columns={'InvoiceNo': 'TotalOrdersFromCustomer'})\n",
        "df_customer_orders.style.bar(align='mid', color='lavender')"
      ]
    },
    {
      "cell_type": "code",
      "execution_count": 136,
      "id": "1762d229-e1b6-4619-a5ad-462884101d7d",
      "metadata": {
        "id": "1762d229-e1b6-4619-a5ad-462884101d7d",
        "outputId": "39730be5-651b-4be0-92d8-50517d4447b4"
      },
      "outputs": [
        {
          "data": {
            "text/html": [
              "<style type=\"text/css\">\n",
              "#T_c5b88_row0_col0 {\n",
              "  width: 10em;\n",
              "  background: linear-gradient(90deg, goldenrod 100.0%, transparent 100.0%);\n",
              "}\n",
              "#T_c5b88_row1_col0 {\n",
              "  width: 10em;\n",
              "  background: linear-gradient(90deg, goldenrod 41.1%, transparent 41.1%);\n",
              "}\n",
              "#T_c5b88_row2_col0 {\n",
              "  width: 10em;\n",
              "  background: linear-gradient(90deg, goldenrod 40.7%, transparent 40.7%);\n",
              "}\n",
              "#T_c5b88_row3_col0 {\n",
              "  width: 10em;\n",
              "  background: linear-gradient(90deg, goldenrod 39.3%, transparent 39.3%);\n",
              "}\n",
              "#T_c5b88_row4_col0 {\n",
              "  width: 10em;\n",
              "  background: linear-gradient(90deg, goldenrod 37.7%, transparent 37.7%);\n",
              "}\n",
              "#T_c5b88_row5_col0 {\n",
              "  width: 10em;\n",
              "  background: linear-gradient(90deg, goldenrod 35.5%, transparent 35.5%);\n",
              "}\n",
              "#T_c5b88_row6_col0 {\n",
              "  width: 10em;\n",
              "  background: linear-gradient(90deg, goldenrod 32.8%, transparent 32.8%);\n",
              "}\n",
              "#T_c5b88_row7_col0 {\n",
              "  width: 10em;\n",
              "  background: linear-gradient(90deg, goldenrod 32.6%, transparent 32.6%);\n",
              "}\n",
              "#T_c5b88_row8_col0 {\n",
              "  width: 10em;\n",
              "  background: linear-gradient(90deg, goldenrod 32.2%, transparent 32.2%);\n",
              "}\n",
              "#T_c5b88_row9_col0 {\n",
              "  width: 10em;\n",
              "  background: linear-gradient(90deg, goldenrod 29.6%, transparent 29.6%);\n",
              "}\n",
              "</style>\n",
              "<table id=\"T_c5b88\">\n",
              "  <thead>\n",
              "    <tr>\n",
              "      <th class=\"blank level0\" >&nbsp;</th>\n",
              "      <th id=\"T_c5b88_level0_col0\" class=\"col_heading level0 col0\" >TotalPurchaseQuantityFromCustomer</th>\n",
              "    </tr>\n",
              "    <tr>\n",
              "      <th class=\"index_name level0\" >CustomerID</th>\n",
              "      <th class=\"blank col0\" >&nbsp;</th>\n",
              "    </tr>\n",
              "  </thead>\n",
              "  <tbody>\n",
              "    <tr>\n",
              "      <th id=\"T_c5b88_level0_row0\" class=\"row_heading level0 row0\" >14646.000000</th>\n",
              "      <td id=\"T_c5b88_row0_col0\" class=\"data row0 col0\" >196915</td>\n",
              "    </tr>\n",
              "    <tr>\n",
              "      <th id=\"T_c5b88_level0_row1\" class=\"row_heading level0 row1\" >16446.000000</th>\n",
              "      <td id=\"T_c5b88_row1_col0\" class=\"data row1 col0\" >80997</td>\n",
              "    </tr>\n",
              "    <tr>\n",
              "      <th id=\"T_c5b88_level0_row2\" class=\"row_heading level0 row2\" >14911.000000</th>\n",
              "      <td id=\"T_c5b88_row2_col0\" class=\"data row2 col0\" >80240</td>\n",
              "    </tr>\n",
              "    <tr>\n",
              "      <th id=\"T_c5b88_level0_row3\" class=\"row_heading level0 row3\" >12415.000000</th>\n",
              "      <td id=\"T_c5b88_row3_col0\" class=\"data row3 col0\" >77374</td>\n",
              "    </tr>\n",
              "    <tr>\n",
              "      <th id=\"T_c5b88_level0_row4\" class=\"row_heading level0 row4\" >12346.000000</th>\n",
              "      <td id=\"T_c5b88_row4_col0\" class=\"data row4 col0\" >74215</td>\n",
              "    </tr>\n",
              "    <tr>\n",
              "      <th id=\"T_c5b88_level0_row5\" class=\"row_heading level0 row5\" >17450.000000</th>\n",
              "      <td id=\"T_c5b88_row5_col0\" class=\"data row5 col0\" >69973</td>\n",
              "    </tr>\n",
              "    <tr>\n",
              "      <th id=\"T_c5b88_level0_row6\" class=\"row_heading level0 row6\" >17511.000000</th>\n",
              "      <td id=\"T_c5b88_row6_col0\" class=\"data row6 col0\" >64549</td>\n",
              "    </tr>\n",
              "    <tr>\n",
              "      <th id=\"T_c5b88_level0_row7\" class=\"row_heading level0 row7\" >18102.000000</th>\n",
              "      <td id=\"T_c5b88_row7_col0\" class=\"data row7 col0\" >64124</td>\n",
              "    </tr>\n",
              "    <tr>\n",
              "      <th id=\"T_c5b88_level0_row8\" class=\"row_heading level0 row8\" >13694.000000</th>\n",
              "      <td id=\"T_c5b88_row8_col0\" class=\"data row8 col0\" >63312</td>\n",
              "    </tr>\n",
              "    <tr>\n",
              "      <th id=\"T_c5b88_level0_row9\" class=\"row_heading level0 row9\" >14298.000000</th>\n",
              "      <td id=\"T_c5b88_row9_col0\" class=\"data row9 col0\" >58343</td>\n",
              "    </tr>\n",
              "  </tbody>\n",
              "</table>\n"
            ],
            "text/plain": [
              "<pandas.io.formats.style.Styler at 0x1c113844050>"
            ]
          },
          "execution_count": 136,
          "metadata": {},
          "output_type": "execute_result"
        }
      ],
      "source": [
        "df_customer_quantity = df_customer[['CustomerID', 'Quantity']].groupby('CustomerID').sum().sort_values('Quantity', ascending=False).head(10)\n",
        "df_customer_quantity = df_customer_quantity.rename(columns={'Quantity': 'TotalPurchaseQuantityFromCustomer'})\n",
        "df_customer_quantity.style.bar(align='mid', color='goldenrod')"
      ]
    },
    {
      "cell_type": "markdown",
      "id": "0BNBldXBzLur",
      "metadata": {
        "id": "0BNBldXBzLur"
      },
      "source": [
        "Looking through the graph of top customers of different categories,\n",
        "customers with the IDs 14646 and 14911 stand out by appearing in all\n",
        "three of the top buyer categories."
      ]
    },
    {
      "cell_type": "code",
      "execution_count": 137,
      "id": "75ccdd43-e8ec-4f99-b896-ede7991ea9e5",
      "metadata": {
        "id": "75ccdd43-e8ec-4f99-b896-ede7991ea9e5",
        "outputId": "c4f14ee7-ff01-471e-bfb2-2e75263e4995"
      },
      "outputs": [
        {
          "data": {
            "text/html": [
              "<div>\n",
              "<style scoped>\n",
              "    .dataframe tbody tr th:only-of-type {\n",
              "        vertical-align: middle;\n",
              "    }\n",
              "\n",
              "    .dataframe tbody tr th {\n",
              "        vertical-align: top;\n",
              "    }\n",
              "\n",
              "    .dataframe thead th {\n",
              "        text-align: right;\n",
              "    }\n",
              "</style>\n",
              "<table border=\"1\" class=\"dataframe\">\n",
              "  <thead>\n",
              "    <tr style=\"text-align: right;\">\n",
              "      <th></th>\n",
              "      <th>InvoiceNo</th>\n",
              "      <th>StockCode</th>\n",
              "      <th>Description</th>\n",
              "      <th>Quantity</th>\n",
              "      <th>InvoiceDate</th>\n",
              "      <th>UnitPrice</th>\n",
              "      <th>CustomerID</th>\n",
              "      <th>Country</th>\n",
              "      <th>Time</th>\n",
              "      <th>Month</th>\n",
              "      <th>Day</th>\n",
              "      <th>Year</th>\n",
              "      <th>TotalPrice</th>\n",
              "      <th>Hour</th>\n",
              "    </tr>\n",
              "  </thead>\n",
              "  <tbody>\n",
              "    <tr>\n",
              "      <th>37952</th>\n",
              "      <td>539491</td>\n",
              "      <td>21981</td>\n",
              "      <td>PACK OF 12 WOODLAND TISSUES</td>\n",
              "      <td>12</td>\n",
              "      <td>2010-12-20 10:09:00</td>\n",
              "      <td>0.29</td>\n",
              "      <td>14646.0</td>\n",
              "      <td>Netherlands</td>\n",
              "      <td>10:09:00</td>\n",
              "      <td>December</td>\n",
              "      <td>Monday</td>\n",
              "      <td>2010</td>\n",
              "      <td>3.48</td>\n",
              "      <td>10</td>\n",
              "    </tr>\n",
              "    <tr>\n",
              "      <th>37953</th>\n",
              "      <td>539491</td>\n",
              "      <td>21986</td>\n",
              "      <td>PACK OF 12 PINK POLKADOT TISSUES</td>\n",
              "      <td>12</td>\n",
              "      <td>2010-12-20 10:09:00</td>\n",
              "      <td>0.29</td>\n",
              "      <td>14646.0</td>\n",
              "      <td>Netherlands</td>\n",
              "      <td>10:09:00</td>\n",
              "      <td>December</td>\n",
              "      <td>Monday</td>\n",
              "      <td>2010</td>\n",
              "      <td>3.48</td>\n",
              "      <td>10</td>\n",
              "    </tr>\n",
              "    <tr>\n",
              "      <th>37954</th>\n",
              "      <td>539491</td>\n",
              "      <td>22720</td>\n",
              "      <td>SET OF 3 CAKE TINS PANTRY DESIGN</td>\n",
              "      <td>2</td>\n",
              "      <td>2010-12-20 10:09:00</td>\n",
              "      <td>4.95</td>\n",
              "      <td>14646.0</td>\n",
              "      <td>Netherlands</td>\n",
              "      <td>10:09:00</td>\n",
              "      <td>December</td>\n",
              "      <td>Monday</td>\n",
              "      <td>2010</td>\n",
              "      <td>9.90</td>\n",
              "      <td>10</td>\n",
              "    </tr>\n",
              "    <tr>\n",
              "      <th>37955</th>\n",
              "      <td>539491</td>\n",
              "      <td>21931</td>\n",
              "      <td>JUMBO STORAGE BAG SUKI</td>\n",
              "      <td>1</td>\n",
              "      <td>2010-12-20 10:09:00</td>\n",
              "      <td>1.95</td>\n",
              "      <td>14646.0</td>\n",
              "      <td>Netherlands</td>\n",
              "      <td>10:09:00</td>\n",
              "      <td>December</td>\n",
              "      <td>Monday</td>\n",
              "      <td>2010</td>\n",
              "      <td>1.95</td>\n",
              "      <td>10</td>\n",
              "    </tr>\n",
              "    <tr>\n",
              "      <th>37956</th>\n",
              "      <td>539491</td>\n",
              "      <td>22613</td>\n",
              "      <td>PACK OF 20 SPACEBOY NAPKINS</td>\n",
              "      <td>2</td>\n",
              "      <td>2010-12-20 10:09:00</td>\n",
              "      <td>0.85</td>\n",
              "      <td>14646.0</td>\n",
              "      <td>Netherlands</td>\n",
              "      <td>10:09:00</td>\n",
              "      <td>December</td>\n",
              "      <td>Monday</td>\n",
              "      <td>2010</td>\n",
              "      <td>1.70</td>\n",
              "      <td>10</td>\n",
              "    </tr>\n",
              "  </tbody>\n",
              "</table>\n",
              "</div>"
            ],
            "text/plain": [
              "      InvoiceNo StockCode                        Description  Quantity  \\\n",
              "37952    539491     21981       PACK OF 12 WOODLAND TISSUES         12   \n",
              "37953    539491     21986   PACK OF 12 PINK POLKADOT TISSUES        12   \n",
              "37954    539491     22720  SET OF 3 CAKE TINS PANTRY DESIGN          2   \n",
              "37955    539491     21931             JUMBO STORAGE BAG SUKI         1   \n",
              "37956    539491     22613        PACK OF 20 SPACEBOY NAPKINS         2   \n",
              "\n",
              "              InvoiceDate  UnitPrice  CustomerID      Country      Time  \\\n",
              "37952 2010-12-20 10:09:00       0.29     14646.0  Netherlands  10:09:00   \n",
              "37953 2010-12-20 10:09:00       0.29     14646.0  Netherlands  10:09:00   \n",
              "37954 2010-12-20 10:09:00       4.95     14646.0  Netherlands  10:09:00   \n",
              "37955 2010-12-20 10:09:00       1.95     14646.0  Netherlands  10:09:00   \n",
              "37956 2010-12-20 10:09:00       0.85     14646.0  Netherlands  10:09:00   \n",
              "\n",
              "          Month     Day  Year  TotalPrice  Hour  \n",
              "37952  December  Monday  2010        3.48    10  \n",
              "37953  December  Monday  2010        3.48    10  \n",
              "37954  December  Monday  2010        9.90    10  \n",
              "37955  December  Monday  2010        1.95    10  \n",
              "37956  December  Monday  2010        1.70    10  "
            ]
          },
          "execution_count": 137,
          "metadata": {},
          "output_type": "execute_result"
        }
      ],
      "source": [
        "id_14646 = df[df.CustomerID == 14646]\n",
        "id_14646.head()"
      ]
    },
    {
      "cell_type": "code",
      "execution_count": 138,
      "id": "ee52e887-1d7e-475d-b97e-5aa4771e695e",
      "metadata": {
        "id": "ee52e887-1d7e-475d-b97e-5aa4771e695e",
        "outputId": "8bc66317-06fd-4c39-b178-d81107fcdb21"
      },
      "outputs": [
        {
          "data": {
            "text/html": [
              "<div>\n",
              "<style scoped>\n",
              "    .dataframe tbody tr th:only-of-type {\n",
              "        vertical-align: middle;\n",
              "    }\n",
              "\n",
              "    .dataframe tbody tr th {\n",
              "        vertical-align: top;\n",
              "    }\n",
              "\n",
              "    .dataframe thead th {\n",
              "        text-align: right;\n",
              "    }\n",
              "</style>\n",
              "<table border=\"1\" class=\"dataframe\">\n",
              "  <thead>\n",
              "    <tr style=\"text-align: right;\">\n",
              "      <th></th>\n",
              "      <th>InvoiceNo</th>\n",
              "      <th>StockCode</th>\n",
              "      <th>Description</th>\n",
              "      <th>Quantity</th>\n",
              "      <th>InvoiceDate</th>\n",
              "      <th>UnitPrice</th>\n",
              "      <th>CustomerID</th>\n",
              "      <th>Country</th>\n",
              "      <th>Time</th>\n",
              "      <th>Month</th>\n",
              "      <th>Day</th>\n",
              "      <th>Year</th>\n",
              "      <th>TotalPrice</th>\n",
              "      <th>Hour</th>\n",
              "    </tr>\n",
              "  </thead>\n",
              "  <tbody>\n",
              "    <tr>\n",
              "      <th>1404</th>\n",
              "      <td>536540</td>\n",
              "      <td>22968</td>\n",
              "      <td>ROSE COTTAGE KEEPSAKE BOX</td>\n",
              "      <td>4</td>\n",
              "      <td>2010-12-01 14:05:00</td>\n",
              "      <td>9.95</td>\n",
              "      <td>14911.0</td>\n",
              "      <td>EIRE</td>\n",
              "      <td>14:05:00</td>\n",
              "      <td>December</td>\n",
              "      <td>Wednesday</td>\n",
              "      <td>2010</td>\n",
              "      <td>39.8</td>\n",
              "      <td>14</td>\n",
              "    </tr>\n",
              "    <tr>\n",
              "      <th>1405</th>\n",
              "      <td>536540</td>\n",
              "      <td>85071A</td>\n",
              "      <td>BLUE CHARLIE+LOLA PERSONAL DOORSIGN</td>\n",
              "      <td>6</td>\n",
              "      <td>2010-12-01 14:05:00</td>\n",
              "      <td>2.95</td>\n",
              "      <td>14911.0</td>\n",
              "      <td>EIRE</td>\n",
              "      <td>14:05:00</td>\n",
              "      <td>December</td>\n",
              "      <td>Wednesday</td>\n",
              "      <td>2010</td>\n",
              "      <td>17.7</td>\n",
              "      <td>14</td>\n",
              "    </tr>\n",
              "    <tr>\n",
              "      <th>1406</th>\n",
              "      <td>536540</td>\n",
              "      <td>85071C</td>\n",
              "      <td>CHARLIE+LOLA\"EXTREMELY BUSY\" SIGN</td>\n",
              "      <td>6</td>\n",
              "      <td>2010-12-01 14:05:00</td>\n",
              "      <td>2.55</td>\n",
              "      <td>14911.0</td>\n",
              "      <td>EIRE</td>\n",
              "      <td>14:05:00</td>\n",
              "      <td>December</td>\n",
              "      <td>Wednesday</td>\n",
              "      <td>2010</td>\n",
              "      <td>15.3</td>\n",
              "      <td>14</td>\n",
              "    </tr>\n",
              "    <tr>\n",
              "      <th>1407</th>\n",
              "      <td>536540</td>\n",
              "      <td>22355</td>\n",
              "      <td>CHARLOTTE BAG SUKI DESIGN</td>\n",
              "      <td>50</td>\n",
              "      <td>2010-12-01 14:05:00</td>\n",
              "      <td>0.85</td>\n",
              "      <td>14911.0</td>\n",
              "      <td>EIRE</td>\n",
              "      <td>14:05:00</td>\n",
              "      <td>December</td>\n",
              "      <td>Wednesday</td>\n",
              "      <td>2010</td>\n",
              "      <td>42.5</td>\n",
              "      <td>14</td>\n",
              "    </tr>\n",
              "    <tr>\n",
              "      <th>1408</th>\n",
              "      <td>536540</td>\n",
              "      <td>21579</td>\n",
              "      <td>LOLITA  DESIGN  COTTON TOTE BAG</td>\n",
              "      <td>6</td>\n",
              "      <td>2010-12-01 14:05:00</td>\n",
              "      <td>2.25</td>\n",
              "      <td>14911.0</td>\n",
              "      <td>EIRE</td>\n",
              "      <td>14:05:00</td>\n",
              "      <td>December</td>\n",
              "      <td>Wednesday</td>\n",
              "      <td>2010</td>\n",
              "      <td>13.5</td>\n",
              "      <td>14</td>\n",
              "    </tr>\n",
              "  </tbody>\n",
              "</table>\n",
              "</div>"
            ],
            "text/plain": [
              "     InvoiceNo StockCode                          Description  Quantity  \\\n",
              "1404    536540     22968           ROSE COTTAGE KEEPSAKE BOX          4   \n",
              "1405    536540    85071A  BLUE CHARLIE+LOLA PERSONAL DOORSIGN         6   \n",
              "1406    536540    85071C    CHARLIE+LOLA\"EXTREMELY BUSY\" SIGN         6   \n",
              "1407    536540     22355            CHARLOTTE BAG SUKI DESIGN        50   \n",
              "1408    536540     21579      LOLITA  DESIGN  COTTON TOTE BAG         6   \n",
              "\n",
              "             InvoiceDate  UnitPrice  CustomerID Country      Time     Month  \\\n",
              "1404 2010-12-01 14:05:00       9.95     14911.0    EIRE  14:05:00  December   \n",
              "1405 2010-12-01 14:05:00       2.95     14911.0    EIRE  14:05:00  December   \n",
              "1406 2010-12-01 14:05:00       2.55     14911.0    EIRE  14:05:00  December   \n",
              "1407 2010-12-01 14:05:00       0.85     14911.0    EIRE  14:05:00  December   \n",
              "1408 2010-12-01 14:05:00       2.25     14911.0    EIRE  14:05:00  December   \n",
              "\n",
              "            Day  Year  TotalPrice  Hour  \n",
              "1404  Wednesday  2010        39.8    14  \n",
              "1405  Wednesday  2010        17.7    14  \n",
              "1406  Wednesday  2010        15.3    14  \n",
              "1407  Wednesday  2010        42.5    14  \n",
              "1408  Wednesday  2010        13.5    14  "
            ]
          },
          "execution_count": 138,
          "metadata": {},
          "output_type": "execute_result"
        }
      ],
      "source": [
        "id_14911 = df[df.CustomerID == 14911]\n",
        "id_14911.head()"
      ]
    },
    {
      "cell_type": "markdown",
      "id": "EHVVp79jzSUv",
      "metadata": {
        "id": "EHVVp79jzSUv"
      },
      "source": [
        "It can be seen that both CustomerID 14646 and 14911 are not from the\n",
        "top selling country, i.e. United Kingdom, rather both of the customers are\n",
        "from Netherlands and EIRE (Ireland) respectively. This suggests that\n",
        "both of the customers are businesses operating in their respective\n",
        "countries by importing items through TATA e-commerce. With that in\n",
        "mind e-commerce can extend its hand in partnership with these two\n",
        "businesses. Establishing an international partnership will certainly help\n",
        "the business to grow in the nation of Netherlands and EIRE. As the\n",
        "partnership grows businesses from other nations might also be56\n",
        "interested in partnership, which helps the business to make its presence\n",
        "in the global market."
      ]
    },
    {
      "cell_type": "markdown",
      "id": "disSC6qOzXDX",
      "metadata": {
        "id": "disSC6qOzXDX"
      },
      "source": [
        "**Correlation Analysis**"
      ]
    },
    {
      "cell_type": "code",
      "execution_count": 139,
      "id": "6fe179c9-c1a1-49fc-a18a-ec43c12c829c",
      "metadata": {
        "id": "6fe179c9-c1a1-49fc-a18a-ec43c12c829c"
      },
      "outputs": [],
      "source": [
        "df_corr = df[['Quantity', 'Month', 'Year', 'TotalPrice', 'UnitPrice']].copy()\n",
        "\n",
        "#Converting String months to numerical\n",
        "month_map = {\n",
        "    'January': 1,\n",
        "    'February': 2,\n",
        "    'March': 3,\n",
        "    'April': 4,\n",
        "    'May': 5,\n",
        "    'June': 6,\n",
        "    'July': 7,\n",
        "    'August': 8,\n",
        "    'September': 9,\n",
        "    'October': 10,\n",
        "    'November': 11,\n",
        "    'December': 12\n",
        "}\n",
        "\n",
        "df_corr['Month'] = df_corr['Month'].map(month_map)\n"
      ]
    },
    {
      "cell_type": "code",
      "execution_count": 140,
      "id": "194f6b99-155d-4327-9207-6c4a79cac696",
      "metadata": {
        "id": "194f6b99-155d-4327-9207-6c4a79cac696",
        "outputId": "26ab164f-5c6f-458d-80e4-67f54605067d"
      },
      "outputs": [
        {
          "data": {
            "text/html": [
              "<div>\n",
              "<style scoped>\n",
              "    .dataframe tbody tr th:only-of-type {\n",
              "        vertical-align: middle;\n",
              "    }\n",
              "\n",
              "    .dataframe tbody tr th {\n",
              "        vertical-align: top;\n",
              "    }\n",
              "\n",
              "    .dataframe thead th {\n",
              "        text-align: right;\n",
              "    }\n",
              "</style>\n",
              "<table border=\"1\" class=\"dataframe\">\n",
              "  <thead>\n",
              "    <tr style=\"text-align: right;\">\n",
              "      <th></th>\n",
              "      <th>Quantity</th>\n",
              "      <th>Month</th>\n",
              "      <th>Year</th>\n",
              "      <th>TotalPrice</th>\n",
              "      <th>UnitPrice</th>\n",
              "    </tr>\n",
              "  </thead>\n",
              "  <tbody>\n",
              "    <tr>\n",
              "      <th>Quantity</th>\n",
              "      <td>1.000000</td>\n",
              "      <td>-0.027629</td>\n",
              "      <td>0.052811</td>\n",
              "      <td>0.673648</td>\n",
              "      <td>-0.408682</td>\n",
              "    </tr>\n",
              "    <tr>\n",
              "      <th>Month</th>\n",
              "      <td>-0.027629</td>\n",
              "      <td>1.000000</td>\n",
              "      <td>-0.443157</td>\n",
              "      <td>-0.033275</td>\n",
              "      <td>-0.002547</td>\n",
              "    </tr>\n",
              "    <tr>\n",
              "      <th>Year</th>\n",
              "      <td>0.052811</td>\n",
              "      <td>-0.443157</td>\n",
              "      <td>1.000000</td>\n",
              "      <td>0.008526</td>\n",
              "      <td>-0.061506</td>\n",
              "    </tr>\n",
              "    <tr>\n",
              "      <th>TotalPrice</th>\n",
              "      <td>0.673648</td>\n",
              "      <td>-0.033275</td>\n",
              "      <td>0.008526</td>\n",
              "      <td>1.000000</td>\n",
              "      <td>0.335754</td>\n",
              "    </tr>\n",
              "    <tr>\n",
              "      <th>UnitPrice</th>\n",
              "      <td>-0.408682</td>\n",
              "      <td>-0.002547</td>\n",
              "      <td>-0.061506</td>\n",
              "      <td>0.335754</td>\n",
              "      <td>1.000000</td>\n",
              "    </tr>\n",
              "  </tbody>\n",
              "</table>\n",
              "</div>"
            ],
            "text/plain": [
              "            Quantity     Month      Year  TotalPrice  UnitPrice\n",
              "Quantity    1.000000 -0.027629  0.052811    0.673648  -0.408682\n",
              "Month      -0.027629  1.000000 -0.443157   -0.033275  -0.002547\n",
              "Year        0.052811 -0.443157  1.000000    0.008526  -0.061506\n",
              "TotalPrice  0.673648 -0.033275  0.008526    1.000000   0.335754\n",
              "UnitPrice  -0.408682 -0.002547 -0.061506    0.335754   1.000000"
            ]
          },
          "execution_count": 140,
          "metadata": {},
          "output_type": "execute_result"
        }
      ],
      "source": [
        "df_corr = df_corr[['Quantity', 'Month', 'Year', 'TotalPrice', 'UnitPrice']].corr(method='spearman')\n",
        "df_corr"
      ]
    },
    {
      "cell_type": "code",
      "execution_count": 141,
      "id": "c430ee16-0067-4875-ad02-536ecfd05744",
      "metadata": {
        "id": "c430ee16-0067-4875-ad02-536ecfd05744",
        "outputId": "8a31f000-b751-4969-f8bc-0c72afd99fe8"
      },
      "outputs": [
        {
          "data": {
            "text/plain": [
              "<Axes: >"
            ]
          },
          "execution_count": 141,
          "metadata": {},
          "output_type": "execute_result"
        },
        {
          "data": {
            "image/png": "[encoded data removed]",
            "text/plain": [
              "<Figure size 800x600 with 2 Axes>"
            ]
          },
          "metadata": {},
          "output_type": "display_data"
        }
      ],
      "source": [
        "#visualizing using heatmap\n",
        "sns.set(rc={'figure.figsize':(8, 6)})\n",
        "sns.heatmap(df_corr.corr(), annot=True, cmap='viridis')"
      ]
    },
    {
      "cell_type": "markdown",
      "id": "RRWR-KL9zfJd",
      "metadata": {
        "id": "RRWR-KL9zfJd"
      },
      "source": [
        "In the chart, yellow denotes a strong positive relationship, while on the\n",
        "other end purple indicates a strong negative relationship. Similarly, the\n",
        "colors in between denote little to no relationship.\n",
        "From the chart, the key takeaways are the strong positive relationship\n",
        "between the Quantity and the TotalPrice. As more quantity are sold the\n",
        "more the TotalPrice obviously also goes up. Similarly, the more the item\n",
        "is sold the less the UnitPrice gets, indicating discounts that might get\n",
        "applied when items are purchased in a bulk. From this information sales\n",
        "decisions can be made, such as planning the discount margin\n",
        "beforehand for bulk purchases."
      ]
    },
    {
      "cell_type": "markdown",
      "id": "wZpKO9XAb9un",
      "metadata": {
        "id": "wZpKO9XAb9un"
      },
      "source": [
        "# Linear Regression"
      ]
    },
    {
      "cell_type": "markdown",
      "id": "iKY6lMDDzlnP",
      "metadata": {
        "id": "iKY6lMDDzlnP"
      },
      "source": [
        "A regression model is built to predict how the sales in the upcoming 3\n",
        "months may look like and analyze the business’s growth. The dataset\n",
        "only contains half the sales data of December of 2011, so the prediction\n",
        "will be drawn for December 2011, January 2012, and February 2012\n",
        "using the data from December 2010 to November 2011."
      ]
    },
    {
      "cell_type": "code",
      "execution_count": 142,
      "id": "f655951b-0f5c-490f-bf36-c736ba6f669f",
      "metadata": {
        "id": "f655951b-0f5c-490f-bf36-c736ba6f669f"
      },
      "outputs": [],
      "source": [
        "df_reg = df[['Year', 'Month', 'TotalPrice']].copy()\n",
        "\n",
        "month_map = {\n",
        "    'January': 1,\n",
        "    'February': 2,\n",
        "    'March': 3,\n",
        "    'April': 4,\n",
        "    'May': 5,\n",
        "    'June': 6,\n",
        "    'July': 7,\n",
        "    'August': 8,\n",
        "    'September': 9,\n",
        "    'October': 10,\n",
        "    'November': 11,\n",
        "    'December': 12\n",
        "}\n",
        "\n",
        "df_reg['Month'] = df_reg['Month'].map(month_map)\n"
      ]
    },
    {
      "cell_type": "code",
      "execution_count": 143,
      "id": "95cb6bbe-394a-4cfe-abd2-aab1212dd843",
      "metadata": {
        "id": "95cb6bbe-394a-4cfe-abd2-aab1212dd843",
        "outputId": "9e6e9356-d638-4980-ec7a-bac86dc27b8d"
      },
      "outputs": [
        {
          "data": {
            "text/html": [
              "<div>\n",
              "<style scoped>\n",
              "    .dataframe tbody tr th:only-of-type {\n",
              "        vertical-align: middle;\n",
              "    }\n",
              "\n",
              "    .dataframe tbody tr th {\n",
              "        vertical-align: top;\n",
              "    }\n",
              "\n",
              "    .dataframe thead th {\n",
              "        text-align: right;\n",
              "    }\n",
              "</style>\n",
              "<table border=\"1\" class=\"dataframe\">\n",
              "  <thead>\n",
              "    <tr style=\"text-align: right;\">\n",
              "      <th></th>\n",
              "      <th>Month</th>\n",
              "      <th>Year</th>\n",
              "      <th>TotalPrice</th>\n",
              "    </tr>\n",
              "  </thead>\n",
              "  <tbody>\n",
              "    <tr>\n",
              "      <th>0</th>\n",
              "      <td>1</td>\n",
              "      <td>2011</td>\n",
              "      <td>689811.610</td>\n",
              "    </tr>\n",
              "    <tr>\n",
              "      <th>1</th>\n",
              "      <td>2</td>\n",
              "      <td>2011</td>\n",
              "      <td>522545.560</td>\n",
              "    </tr>\n",
              "    <tr>\n",
              "      <th>2</th>\n",
              "      <td>3</td>\n",
              "      <td>2011</td>\n",
              "      <td>716215.260</td>\n",
              "    </tr>\n",
              "    <tr>\n",
              "      <th>3</th>\n",
              "      <td>4</td>\n",
              "      <td>2011</td>\n",
              "      <td>536968.491</td>\n",
              "    </tr>\n",
              "    <tr>\n",
              "      <th>4</th>\n",
              "      <td>5</td>\n",
              "      <td>2011</td>\n",
              "      <td>769296.610</td>\n",
              "    </tr>\n",
              "    <tr>\n",
              "      <th>5</th>\n",
              "      <td>6</td>\n",
              "      <td>2011</td>\n",
              "      <td>760547.010</td>\n",
              "    </tr>\n",
              "    <tr>\n",
              "      <th>6</th>\n",
              "      <td>7</td>\n",
              "      <td>2011</td>\n",
              "      <td>718076.121</td>\n",
              "    </tr>\n",
              "    <tr>\n",
              "      <th>7</th>\n",
              "      <td>8</td>\n",
              "      <td>2011</td>\n",
              "      <td>757841.380</td>\n",
              "    </tr>\n",
              "    <tr>\n",
              "      <th>8</th>\n",
              "      <td>9</td>\n",
              "      <td>2011</td>\n",
              "      <td>1056435.192</td>\n",
              "    </tr>\n",
              "    <tr>\n",
              "      <th>9</th>\n",
              "      <td>10</td>\n",
              "      <td>2011</td>\n",
              "      <td>1151263.730</td>\n",
              "    </tr>\n",
              "    <tr>\n",
              "      <th>10</th>\n",
              "      <td>11</td>\n",
              "      <td>2011</td>\n",
              "      <td>1503866.780</td>\n",
              "    </tr>\n",
              "    <tr>\n",
              "      <th>11</th>\n",
              "      <td>12</td>\n",
              "      <td>2010</td>\n",
              "      <td>821452.730</td>\n",
              "    </tr>\n",
              "    <tr>\n",
              "      <th>12</th>\n",
              "      <td>12</td>\n",
              "      <td>2011</td>\n",
              "      <td>637790.330</td>\n",
              "    </tr>\n",
              "  </tbody>\n",
              "</table>\n",
              "</div>"
            ],
            "text/plain": [
              "    Month  Year   TotalPrice\n",
              "0       1  2011   689811.610\n",
              "1       2  2011   522545.560\n",
              "2       3  2011   716215.260\n",
              "3       4  2011   536968.491\n",
              "4       5  2011   769296.610\n",
              "5       6  2011   760547.010\n",
              "6       7  2011   718076.121\n",
              "7       8  2011   757841.380\n",
              "8       9  2011  1056435.192\n",
              "9      10  2011  1151263.730\n",
              "10     11  2011  1503866.780\n",
              "11     12  2010   821452.730\n",
              "12     12  2011   637790.330"
            ]
          },
          "execution_count": 143,
          "metadata": {},
          "output_type": "execute_result"
        }
      ],
      "source": [
        "df_pred = df_reg.groupby(['Month','Year']).sum()['TotalPrice'].reset_index()\n",
        "df_pred"
      ]
    },
    {
      "cell_type": "code",
      "execution_count": 144,
      "id": "ba8f37eb-e2f0-4ba9-bf30-1ba35ec4e310",
      "metadata": {
        "id": "ba8f37eb-e2f0-4ba9-bf30-1ba35ec4e310",
        "outputId": "fe9ec511-4254-4792-d219-cc6e51980e17"
      },
      "outputs": [
        {
          "data": {
            "text/html": [
              "<div>\n",
              "<style scoped>\n",
              "    .dataframe tbody tr th:only-of-type {\n",
              "        vertical-align: middle;\n",
              "    }\n",
              "\n",
              "    .dataframe tbody tr th {\n",
              "        vertical-align: top;\n",
              "    }\n",
              "\n",
              "    .dataframe thead th {\n",
              "        text-align: right;\n",
              "    }\n",
              "</style>\n",
              "<table border=\"1\" class=\"dataframe\">\n",
              "  <thead>\n",
              "    <tr style=\"text-align: right;\">\n",
              "      <th></th>\n",
              "      <th>Month</th>\n",
              "      <th>Year</th>\n",
              "      <th>TotalPrice</th>\n",
              "    </tr>\n",
              "  </thead>\n",
              "  <tbody>\n",
              "    <tr>\n",
              "      <th>0</th>\n",
              "      <td>1</td>\n",
              "      <td>2011</td>\n",
              "      <td>689811.610</td>\n",
              "    </tr>\n",
              "    <tr>\n",
              "      <th>1</th>\n",
              "      <td>2</td>\n",
              "      <td>2011</td>\n",
              "      <td>522545.560</td>\n",
              "    </tr>\n",
              "    <tr>\n",
              "      <th>2</th>\n",
              "      <td>3</td>\n",
              "      <td>2011</td>\n",
              "      <td>716215.260</td>\n",
              "    </tr>\n",
              "    <tr>\n",
              "      <th>3</th>\n",
              "      <td>4</td>\n",
              "      <td>2011</td>\n",
              "      <td>536968.491</td>\n",
              "    </tr>\n",
              "    <tr>\n",
              "      <th>4</th>\n",
              "      <td>5</td>\n",
              "      <td>2011</td>\n",
              "      <td>769296.610</td>\n",
              "    </tr>\n",
              "    <tr>\n",
              "      <th>5</th>\n",
              "      <td>6</td>\n",
              "      <td>2011</td>\n",
              "      <td>760547.010</td>\n",
              "    </tr>\n",
              "    <tr>\n",
              "      <th>6</th>\n",
              "      <td>7</td>\n",
              "      <td>2011</td>\n",
              "      <td>718076.121</td>\n",
              "    </tr>\n",
              "    <tr>\n",
              "      <th>7</th>\n",
              "      <td>8</td>\n",
              "      <td>2011</td>\n",
              "      <td>757841.380</td>\n",
              "    </tr>\n",
              "    <tr>\n",
              "      <th>8</th>\n",
              "      <td>9</td>\n",
              "      <td>2011</td>\n",
              "      <td>1056435.192</td>\n",
              "    </tr>\n",
              "    <tr>\n",
              "      <th>9</th>\n",
              "      <td>10</td>\n",
              "      <td>2011</td>\n",
              "      <td>1151263.730</td>\n",
              "    </tr>\n",
              "    <tr>\n",
              "      <th>10</th>\n",
              "      <td>11</td>\n",
              "      <td>2011</td>\n",
              "      <td>1503866.780</td>\n",
              "    </tr>\n",
              "    <tr>\n",
              "      <th>11</th>\n",
              "      <td>12</td>\n",
              "      <td>2010</td>\n",
              "      <td>821452.730</td>\n",
              "    </tr>\n",
              "  </tbody>\n",
              "</table>\n",
              "</div>"
            ],
            "text/plain": [
              "    Month  Year   TotalPrice\n",
              "0       1  2011   689811.610\n",
              "1       2  2011   522545.560\n",
              "2       3  2011   716215.260\n",
              "3       4  2011   536968.491\n",
              "4       5  2011   769296.610\n",
              "5       6  2011   760547.010\n",
              "6       7  2011   718076.121\n",
              "7       8  2011   757841.380\n",
              "8       9  2011  1056435.192\n",
              "9      10  2011  1151263.730\n",
              "10     11  2011  1503866.780\n",
              "11     12  2010   821452.730"
            ]
          },
          "execution_count": 144,
          "metadata": {},
          "output_type": "execute_result"
        }
      ],
      "source": [
        "# since December 2011 is incomplete, dropping December 2011 data\n",
        "df_pred = df_pred.drop(index= 12)\n",
        "df_pred"
      ]
    },
    {
      "cell_type": "code",
      "execution_count": 145,
      "id": "5023aa29-805d-42c4-b8d0-bead8b7f69c5",
      "metadata": {
        "id": "5023aa29-805d-42c4-b8d0-bead8b7f69c5"
      },
      "outputs": [],
      "source": [
        "X = df_pred[['Year','Month']]\n",
        "y = df_pred['TotalPrice']"
      ]
    },
    {
      "cell_type": "code",
      "execution_count": 146,
      "id": "4318e158-7663-491d-a3a5-f499550aebe2",
      "metadata": {
        "id": "4318e158-7663-491d-a3a5-f499550aebe2"
      },
      "outputs": [],
      "source": [
        "X_train, X_test, y_train, y_test =train_test_split(X, y, train_size = 0.9)"
      ]
    },
    {
      "cell_type": "code",
      "execution_count": 147,
      "id": "6acc7c43-5319-4448-9740-9882d248308d",
      "metadata": {
        "id": "6acc7c43-5319-4448-9740-9882d248308d",
        "outputId": "d547d550-c74f-4a50-cc19-db624284fb17"
      },
      "outputs": [
        {
          "data": {
            "text/html": [
              "<div>\n",
              "<style scoped>\n",
              "    .dataframe tbody tr th:only-of-type {\n",
              "        vertical-align: middle;\n",
              "    }\n",
              "\n",
              "    .dataframe tbody tr th {\n",
              "        vertical-align: top;\n",
              "    }\n",
              "\n",
              "    .dataframe thead th {\n",
              "        text-align: right;\n",
              "    }\n",
              "</style>\n",
              "<table border=\"1\" class=\"dataframe\">\n",
              "  <thead>\n",
              "    <tr style=\"text-align: right;\">\n",
              "      <th></th>\n",
              "      <th>Year</th>\n",
              "      <th>Month</th>\n",
              "    </tr>\n",
              "  </thead>\n",
              "  <tbody>\n",
              "    <tr>\n",
              "      <th>11</th>\n",
              "      <td>2010</td>\n",
              "      <td>12</td>\n",
              "    </tr>\n",
              "    <tr>\n",
              "      <th>9</th>\n",
              "      <td>2011</td>\n",
              "      <td>10</td>\n",
              "    </tr>\n",
              "    <tr>\n",
              "      <th>1</th>\n",
              "      <td>2011</td>\n",
              "      <td>2</td>\n",
              "    </tr>\n",
              "    <tr>\n",
              "      <th>6</th>\n",
              "      <td>2011</td>\n",
              "      <td>7</td>\n",
              "    </tr>\n",
              "    <tr>\n",
              "      <th>4</th>\n",
              "      <td>2011</td>\n",
              "      <td>5</td>\n",
              "    </tr>\n",
              "  </tbody>\n",
              "</table>\n",
              "</div>"
            ],
            "text/plain": [
              "    Year  Month\n",
              "11  2010     12\n",
              "9   2011     10\n",
              "1   2011      2\n",
              "6   2011      7\n",
              "4   2011      5"
            ]
          },
          "execution_count": 147,
          "metadata": {},
          "output_type": "execute_result"
        }
      ],
      "source": [
        "X_train.head()"
      ]
    },
    {
      "cell_type": "code",
      "execution_count": 148,
      "id": "b7509106-fdae-40a6-af6b-32831afc5411",
      "metadata": {
        "id": "b7509106-fdae-40a6-af6b-32831afc5411",
        "outputId": "4506a559-4940-4df8-bb3e-f8ae6975a3ef"
      },
      "outputs": [
        {
          "data": {
            "text/html": [
              "<div>\n",
              "<style scoped>\n",
              "    .dataframe tbody tr th:only-of-type {\n",
              "        vertical-align: middle;\n",
              "    }\n",
              "\n",
              "    .dataframe tbody tr th {\n",
              "        vertical-align: top;\n",
              "    }\n",
              "\n",
              "    .dataframe thead th {\n",
              "        text-align: right;\n",
              "    }\n",
              "</style>\n",
              "<table border=\"1\" class=\"dataframe\">\n",
              "  <thead>\n",
              "    <tr style=\"text-align: right;\">\n",
              "      <th></th>\n",
              "      <th>Year</th>\n",
              "      <th>Month</th>\n",
              "    </tr>\n",
              "  </thead>\n",
              "  <tbody>\n",
              "    <tr>\n",
              "      <th>7</th>\n",
              "      <td>2011</td>\n",
              "      <td>8</td>\n",
              "    </tr>\n",
              "    <tr>\n",
              "      <th>2</th>\n",
              "      <td>2011</td>\n",
              "      <td>3</td>\n",
              "    </tr>\n",
              "  </tbody>\n",
              "</table>\n",
              "</div>"
            ],
            "text/plain": [
              "   Year  Month\n",
              "7  2011      8\n",
              "2  2011      3"
            ]
          },
          "execution_count": 148,
          "metadata": {},
          "output_type": "execute_result"
        }
      ],
      "source": [
        "X_test.head()"
      ]
    },
    {
      "cell_type": "markdown",
      "id": "j9SIFGeLz0pO",
      "metadata": {
        "id": "j9SIFGeLz0pO"
      },
      "source": [
        "For the training data, the data of the months January, February, June,\n",
        "July, and September are being used. While for the testing data, the data\n",
        "of the months March and May are being used."
      ]
    },
    {
      "cell_type": "code",
      "execution_count": 149,
      "id": "d816365a-4118-4ee3-a75c-32ced63ce6a0",
      "metadata": {
        "id": "d816365a-4118-4ee3-a75c-32ced63ce6a0",
        "outputId": "fd039692-091f-4f14-e02d-29dfebf59bd5"
      },
      "outputs": [
        {
          "data": {
            "text/plain": [
              "11     821452.730\n",
              "9     1151263.730\n",
              "1      522545.560\n",
              "6      718076.121\n",
              "4      769296.610\n",
              "Name: TotalPrice, dtype: float64"
            ]
          },
          "execution_count": 149,
          "metadata": {},
          "output_type": "execute_result"
        }
      ],
      "source": [
        "y_train.head()"
      ]
    },
    {
      "cell_type": "code",
      "execution_count": 150,
      "id": "75c0faab-997e-4e7b-a872-fe3c8e9a69a6",
      "metadata": {
        "id": "75c0faab-997e-4e7b-a872-fe3c8e9a69a6",
        "outputId": "a7228adf-e781-4a6f-d0c9-f69eee187978"
      },
      "outputs": [
        {
          "data": {
            "text/plain": [
              "7    757841.38\n",
              "2    716215.26\n",
              "Name: TotalPrice, dtype: float64"
            ]
          },
          "execution_count": 150,
          "metadata": {},
          "output_type": "execute_result"
        }
      ],
      "source": [
        "y_test.head()"
      ]
    },
    {
      "cell_type": "code",
      "execution_count": 151,
      "id": "468df555-4a62-489e-9678-cc4718752d58",
      "metadata": {
        "id": "468df555-4a62-489e-9678-cc4718752d58",
        "outputId": "6cc124d8-0a63-4750-8414-9acb8cfa0e35"
      },
      "outputs": [
        {
          "data": {
            "text/html": [
              "<style>#sk-container-id-1 {\n",
              "  /* Definition of color scheme common for light and dark mode */\n",
              "  --sklearn-color-text: #000;\n",
              "  --sklearn-color-text-muted: #666;\n",
              "  --sklearn-color-line: gray;\n",
              "  /* Definition of color scheme for unfitted estimators */\n",
              "  --sklearn-color-unfitted-level-0: #fff5e6;\n",
              "  --sklearn-color-unfitted-level-1: #f6e4d2;\n",
              "  --sklearn-color-unfitted-level-2: #ffe0b3;\n",
              "  --sklearn-color-unfitted-level-3: chocolate;\n",
              "  /* Definition of color scheme for fitted estimators */\n",
              "  --sklearn-color-fitted-level-0: #f0f8ff;\n",
              "  --sklearn-color-fitted-level-1: #d4ebff;\n",
              "  --sklearn-color-fitted-level-2: #b3dbfd;\n",
              "  --sklearn-color-fitted-level-3: cornflowerblue;\n",
              "\n",
              "  /* Specific color for light theme */\n",
              "  --sklearn-color-text-on-default-background: var(--sg-text-color, var(--theme-code-foreground, var(--jp-content-font-color1, black)));\n",
              "  --sklearn-color-background: var(--sg-background-color, var(--theme-background, var(--jp-layout-color0, white)));\n",
              "  --sklearn-color-border-box: var(--sg-text-color, var(--theme-code-foreground, var(--jp-content-font-color1, black)));\n",
              "  --sklearn-color-icon: #696969;\n",
              "\n",
              "  @media (prefers-color-scheme: dark) {\n",
              "    /* Redefinition of color scheme for dark theme */\n",
              "    --sklearn-color-text-on-default-background: var(--sg-text-color, var(--theme-code-foreground, var(--jp-content-font-color1, white)));\n",
              "    --sklearn-color-background: var(--sg-background-color, var(--theme-background, var(--jp-layout-color0, #111)));\n",
              "    --sklearn-color-border-box: var(--sg-text-color, var(--theme-code-foreground, var(--jp-content-font-color1, white)));\n",
              "    --sklearn-color-icon: #878787;\n",
              "  }\n",
              "}\n",
              "\n",
              "#sk-container-id-1 {\n",
              "  color: var(--sklearn-color-text);\n",
              "}\n",
              "\n",
              "#sk-container-id-1 pre {\n",
              "  padding: 0;\n",
              "}\n",
              "\n",
              "#sk-container-id-1 input.sk-hidden--visually {\n",
              "  border: 0;\n",
              "  clip: rect(1px 1px 1px 1px);\n",
              "  clip: rect(1px, 1px, 1px, 1px);\n",
              "  height: 1px;\n",
              "  margin: -1px;\n",
              "  overflow: hidden;\n",
              "  padding: 0;\n",
              "  position: absolute;\n",
              "  width: 1px;\n",
              "}\n",
              "\n",
              "#sk-container-id-1 div.sk-dashed-wrapped {\n",
              "  border: 1px dashed var(--sklearn-color-line);\n",
              "  margin: 0 0.4em 0.5em 0.4em;\n",
              "  box-sizing: border-box;\n",
              "  padding-bottom: 0.4em;\n",
              "  background-color: var(--sklearn-color-background);\n",
              "}\n",
              "\n",
              "#sk-container-id-1 div.sk-container {\n",
              "  /* jupyter's `normalize.less` sets `[hidden] { display: none; }`\n",
              "     but bootstrap.min.css set `[hidden] { display: none !important; }`\n",
              "     so we also need the `!important` here to be able to override the\n",
              "     default hidden behavior on the sphinx rendered scikit-learn.org.\n",
              "     See: https://github.com/scikit-learn/scikit-learn/issues/21755 */\n",
              "  display: inline-block !important;\n",
              "  position: relative;\n",
              "}\n",
              "\n",
              "#sk-container-id-1 div.sk-text-repr-fallback {\n",
              "  display: none;\n",
              "}\n",
              "\n",
              "div.sk-parallel-item,\n",
              "div.sk-serial,\n",
              "div.sk-item {\n",
              "  /* draw centered vertical line to link estimators */\n",
              "  background-image: linear-gradient(var(--sklearn-color-text-on-default-background), var(--sklearn-color-text-on-default-background));\n",
              "  background-size: 2px 100%;\n",
              "  background-repeat: no-repeat;\n",
              "  background-position: center center;\n",
              "}\n",
              "\n",
              "/* Parallel-specific style estimator block */\n",
              "\n",
              "#sk-container-id-1 div.sk-parallel-item::after {\n",
              "  content: \"\";\n",
              "  width: 100%;\n",
              "  border-bottom: 2px solid var(--sklearn-color-text-on-default-background);\n",
              "  flex-grow: 1;\n",
              "}\n",
              "\n",
              "#sk-container-id-1 div.sk-parallel {\n",
              "  display: flex;\n",
              "  align-items: stretch;\n",
              "  justify-content: center;\n",
              "  background-color: var(--sklearn-color-background);\n",
              "  position: relative;\n",
              "}\n",
              "\n",
              "#sk-container-id-1 div.sk-parallel-item {\n",
              "  display: flex;\n",
              "  flex-direction: column;\n",
              "}\n",
              "\n",
              "#sk-container-id-1 div.sk-parallel-item:first-child::after {\n",
              "  align-self: flex-end;\n",
              "  width: 50%;\n",
              "}\n",
              "\n",
              "#sk-container-id-1 div.sk-parallel-item:last-child::after {\n",
              "  align-self: flex-start;\n",
              "  width: 50%;\n",
              "}\n",
              "\n",
              "#sk-container-id-1 div.sk-parallel-item:only-child::after {\n",
              "  width: 0;\n",
              "}\n",
              "\n",
              "/* Serial-specific style estimator block */\n",
              "\n",
              "#sk-container-id-1 div.sk-serial {\n",
              "  display: flex;\n",
              "  flex-direction: column;\n",
              "  align-items: center;\n",
              "  background-color: var(--sklearn-color-background);\n",
              "  padding-right: 1em;\n",
              "  padding-left: 1em;\n",
              "}\n",
              "\n",
              "\n",
              "/* Toggleable style: style used for estimator/Pipeline/ColumnTransformer box that is\n",
              "clickable and can be expanded/collapsed.\n",
              "- Pipeline and ColumnTransformer use this feature and define the default style\n",
              "- Estimators will overwrite some part of the style using the `sk-estimator` class\n",
              "*/\n",
              "\n",
              "/* Pipeline and ColumnTransformer style (default) */\n",
              "\n",
              "#sk-container-id-1 div.sk-toggleable {\n",
              "  /* Default theme specific background. It is overwritten whether we have a\n",
              "  specific estimator or a Pipeline/ColumnTransformer */\n",
              "  background-color: var(--sklearn-color-background);\n",
              "}\n",
              "\n",
              "/* Toggleable label */\n",
              "#sk-container-id-1 label.sk-toggleable__label {\n",
              "  cursor: pointer;\n",
              "  display: flex;\n",
              "  width: 100%;\n",
              "  margin-bottom: 0;\n",
              "  padding: 0.5em;\n",
              "  box-sizing: border-box;\n",
              "  text-align: center;\n",
              "  align-items: start;\n",
              "  justify-content: space-between;\n",
              "  gap: 0.5em;\n",
              "}\n",
              "\n",
              "#sk-container-id-1 label.sk-toggleable__label .caption {\n",
              "  font-size: 0.6rem;\n",
              "  font-weight: lighter;\n",
              "  color: var(--sklearn-color-text-muted);\n",
              "}\n",
              "\n",
              "#sk-container-id-1 label.sk-toggleable__label-arrow:before {\n",
              "  /* Arrow on the left of the label */\n",
              "  content: \"▸\";\n",
              "  float: left;\n",
              "  margin-right: 0.25em;\n",
              "  color: var(--sklearn-color-icon);\n",
              "}\n",
              "\n",
              "#sk-container-id-1 label.sk-toggleable__label-arrow:hover:before {\n",
              "  color: var(--sklearn-color-text);\n",
              "}\n",
              "\n",
              "/* Toggleable content - dropdown */\n",
              "\n",
              "#sk-container-id-1 div.sk-toggleable__content {\n",
              "  max-height: 0;\n",
              "  max-width: 0;\n",
              "  overflow: hidden;\n",
              "  text-align: left;\n",
              "  /* unfitted */\n",
              "  background-color: var(--sklearn-color-unfitted-level-0);\n",
              "}\n",
              "\n",
              "#sk-container-id-1 div.sk-toggleable__content.fitted {\n",
              "  /* fitted */\n",
              "  background-color: var(--sklearn-color-fitted-level-0);\n",
              "}\n",
              "\n",
              "#sk-container-id-1 div.sk-toggleable__content pre {\n",
              "  margin: 0.2em;\n",
              "  border-radius: 0.25em;\n",
              "  color: var(--sklearn-color-text);\n",
              "  /* unfitted */\n",
              "  background-color: var(--sklearn-color-unfitted-level-0);\n",
              "}\n",
              "\n",
              "#sk-container-id-1 div.sk-toggleable__content.fitted pre {\n",
              "  /* unfitted */\n",
              "  background-color: var(--sklearn-color-fitted-level-0);\n",
              "}\n",
              "\n",
              "#sk-container-id-1 input.sk-toggleable__control:checked~div.sk-toggleable__content {\n",
              "  /* Expand drop-down */\n",
              "  max-height: 200px;\n",
              "  max-width: 100%;\n",
              "  overflow: auto;\n",
              "}\n",
              "\n",
              "#sk-container-id-1 input.sk-toggleable__control:checked~label.sk-toggleable__label-arrow:before {\n",
              "  content: \"▾\";\n",
              "}\n",
              "\n",
              "/* Pipeline/ColumnTransformer-specific style */\n",
              "\n",
              "#sk-container-id-1 div.sk-label input.sk-toggleable__control:checked~label.sk-toggleable__label {\n",
              "  color: var(--sklearn-color-text);\n",
              "  background-color: var(--sklearn-color-unfitted-level-2);\n",
              "}\n",
              "\n",
              "#sk-container-id-1 div.sk-label.fitted input.sk-toggleable__control:checked~label.sk-toggleable__label {\n",
              "  background-color: var(--sklearn-color-fitted-level-2);\n",
              "}\n",
              "\n",
              "/* Estimator-specific style */\n",
              "\n",
              "/* Colorize estimator box */\n",
              "#sk-container-id-1 div.sk-estimator input.sk-toggleable__control:checked~label.sk-toggleable__label {\n",
              "  /* unfitted */\n",
              "  background-color: var(--sklearn-color-unfitted-level-2);\n",
              "}\n",
              "\n",
              "#sk-container-id-1 div.sk-estimator.fitted input.sk-toggleable__control:checked~label.sk-toggleable__label {\n",
              "  /* fitted */\n",
              "  background-color: var(--sklearn-color-fitted-level-2);\n",
              "}\n",
              "\n",
              "#sk-container-id-1 div.sk-label label.sk-toggleable__label,\n",
              "#sk-container-id-1 div.sk-label label {\n",
              "  /* The background is the default theme color */\n",
              "  color: var(--sklearn-color-text-on-default-background);\n",
              "}\n",
              "\n",
              "/* On hover, darken the color of the background */\n",
              "#sk-container-id-1 div.sk-label:hover label.sk-toggleable__label {\n",
              "  color: var(--sklearn-color-text);\n",
              "  background-color: var(--sklearn-color-unfitted-level-2);\n",
              "}\n",
              "\n",
              "/* Label box, darken color on hover, fitted */\n",
              "#sk-container-id-1 div.sk-label.fitted:hover label.sk-toggleable__label.fitted {\n",
              "  color: var(--sklearn-color-text);\n",
              "  background-color: var(--sklearn-color-fitted-level-2);\n",
              "}\n",
              "\n",
              "/* Estimator label */\n",
              "\n",
              "#sk-container-id-1 div.sk-label label {\n",
              "  font-family: monospace;\n",
              "  font-weight: bold;\n",
              "  display: inline-block;\n",
              "  line-height: 1.2em;\n",
              "}\n",
              "\n",
              "#sk-container-id-1 div.sk-label-container {\n",
              "  text-align: center;\n",
              "}\n",
              "\n",
              "/* Estimator-specific */\n",
              "#sk-container-id-1 div.sk-estimator {\n",
              "  font-family: monospace;\n",
              "  border: 1px dotted var(--sklearn-color-border-box);\n",
              "  border-radius: 0.25em;\n",
              "  box-sizing: border-box;\n",
              "  margin-bottom: 0.5em;\n",
              "  /* unfitted */\n",
              "  background-color: var(--sklearn-color-unfitted-level-0);\n",
              "}\n",
              "\n",
              "#sk-container-id-1 div.sk-estimator.fitted {\n",
              "  /* fitted */\n",
              "  background-color: var(--sklearn-color-fitted-level-0);\n",
              "}\n",
              "\n",
              "/* on hover */\n",
              "#sk-container-id-1 div.sk-estimator:hover {\n",
              "  /* unfitted */\n",
              "  background-color: var(--sklearn-color-unfitted-level-2);\n",
              "}\n",
              "\n",
              "#sk-container-id-1 div.sk-estimator.fitted:hover {\n",
              "  /* fitted */\n",
              "  background-color: var(--sklearn-color-fitted-level-2);\n",
              "}\n",
              "\n",
              "/* Specification for estimator info (e.g. \"i\" and \"?\") */\n",
              "\n",
              "/* Common style for \"i\" and \"?\" */\n",
              "\n",
              ".sk-estimator-doc-link,\n",
              "a:link.sk-estimator-doc-link,\n",
              "a:visited.sk-estimator-doc-link {\n",
              "  float: right;\n",
              "  font-size: smaller;\n",
              "  line-height: 1em;\n",
              "  font-family: monospace;\n",
              "  background-color: var(--sklearn-color-background);\n",
              "  border-radius: 1em;\n",
              "  height: 1em;\n",
              "  width: 1em;\n",
              "  text-decoration: none !important;\n",
              "  margin-left: 0.5em;\n",
              "  text-align: center;\n",
              "  /* unfitted */\n",
              "  border: var(--sklearn-color-unfitted-level-1) 1pt solid;\n",
              "  color: var(--sklearn-color-unfitted-level-1);\n",
              "}\n",
              "\n",
              ".sk-estimator-doc-link.fitted,\n",
              "a:link.sk-estimator-doc-link.fitted,\n",
              "a:visited.sk-estimator-doc-link.fitted {\n",
              "  /* fitted */\n",
              "  border: var(--sklearn-color-fitted-level-1) 1pt solid;\n",
              "  color: var(--sklearn-color-fitted-level-1);\n",
              "}\n",
              "\n",
              "/* On hover */\n",
              "div.sk-estimator:hover .sk-estimator-doc-link:hover,\n",
              ".sk-estimator-doc-link:hover,\n",
              "div.sk-label-container:hover .sk-estimator-doc-link:hover,\n",
              ".sk-estimator-doc-link:hover {\n",
              "  /* unfitted */\n",
              "  background-color: var(--sklearn-color-unfitted-level-3);\n",
              "  color: var(--sklearn-color-background);\n",
              "  text-decoration: none;\n",
              "}\n",
              "\n",
              "div.sk-estimator.fitted:hover .sk-estimator-doc-link.fitted:hover,\n",
              ".sk-estimator-doc-link.fitted:hover,\n",
              "div.sk-label-container:hover .sk-estimator-doc-link.fitted:hover,\n",
              ".sk-estimator-doc-link.fitted:hover {\n",
              "  /* fitted */\n",
              "  background-color: var(--sklearn-color-fitted-level-3);\n",
              "  color: var(--sklearn-color-background);\n",
              "  text-decoration: none;\n",
              "}\n",
              "\n",
              "/* Span, style for the box shown on hovering the info icon */\n",
              ".sk-estimator-doc-link span {\n",
              "  display: none;\n",
              "  z-index: 9999;\n",
              "  position: relative;\n",
              "  font-weight: normal;\n",
              "  right: .2ex;\n",
              "  padding: .5ex;\n",
              "  margin: .5ex;\n",
              "  width: min-content;\n",
              "  min-width: 20ex;\n",
              "  max-width: 50ex;\n",
              "  color: var(--sklearn-color-text);\n",
              "  box-shadow: 2pt 2pt 4pt #999;\n",
              "  /* unfitted */\n",
              "  background: var(--sklearn-color-unfitted-level-0);\n",
              "  border: .5pt solid var(--sklearn-color-unfitted-level-3);\n",
              "}\n",
              "\n",
              ".sk-estimator-doc-link.fitted span {\n",
              "  /* fitted */\n",
              "  background: var(--sklearn-color-fitted-level-0);\n",
              "  border: var(--sklearn-color-fitted-level-3);\n",
              "}\n",
              "\n",
              ".sk-estimator-doc-link:hover span {\n",
              "  display: block;\n",
              "}\n",
              "\n",
              "/* \"?\"-specific style due to the `<a>` HTML tag */\n",
              "\n",
              "#sk-container-id-1 a.estimator_doc_link {\n",
              "  float: right;\n",
              "  font-size: 1rem;\n",
              "  line-height: 1em;\n",
              "  font-family: monospace;\n",
              "  background-color: var(--sklearn-color-background);\n",
              "  border-radius: 1rem;\n",
              "  height: 1rem;\n",
              "  width: 1rem;\n",
              "  text-decoration: none;\n",
              "  /* unfitted */\n",
              "  color: var(--sklearn-color-unfitted-level-1);\n",
              "  border: var(--sklearn-color-unfitted-level-1) 1pt solid;\n",
              "}\n",
              "\n",
              "#sk-container-id-1 a.estimator_doc_link.fitted {\n",
              "  /* fitted */\n",
              "  border: var(--sklearn-color-fitted-level-1) 1pt solid;\n",
              "  color: var(--sklearn-color-fitted-level-1);\n",
              "}\n",
              "\n",
              "/* On hover */\n",
              "#sk-container-id-1 a.estimator_doc_link:hover {\n",
              "  /* unfitted */\n",
              "  background-color: var(--sklearn-color-unfitted-level-3);\n",
              "  color: var(--sklearn-color-background);\n",
              "  text-decoration: none;\n",
              "}\n",
              "\n",
              "#sk-container-id-1 a.estimator_doc_link.fitted:hover {\n",
              "  /* fitted */\n",
              "  background-color: var(--sklearn-color-fitted-level-3);\n",
              "}\n",
              "</style><div id=\"sk-container-id-1\" class=\"sk-top-container\"><div class=\"sk-text-repr-fallback\"><pre>LinearRegression()</pre><b>In a Jupyter environment, please rerun this cell to show the HTML representation or trust the notebook. <br />On GitHub, the HTML representation is unable to render, please try loading this page with nbviewer.org.</b></div><div class=\"sk-container\" hidden><div class=\"sk-item\"><div class=\"sk-estimator fitted sk-toggleable\"><input class=\"sk-toggleable__control sk-hidden--visually\" id=\"sk-estimator-id-1\" type=\"checkbox\" checked><label for=\"sk-estimator-id-1\" class=\"sk-toggleable__label fitted sk-toggleable__label-arrow\"><div><div>LinearRegression</div></div><div><a class=\"sk-estimator-doc-link fitted\" rel=\"noreferrer\" target=\"_blank\" href=\"https://scikit-learn.org/1.6/modules/generated/sklearn.linear_model.LinearRegression.html\">?<span>Documentation for LinearRegression</span></a><span class=\"sk-estimator-doc-link fitted\">i<span>Fitted</span></span></div></label><div class=\"sk-toggleable__content fitted\"><pre>LinearRegression()</pre></div> </div></div></div></div>"
            ],
            "text/plain": [
              "LinearRegression()"
            ]
          },
          "execution_count": 151,
          "metadata": {},
          "output_type": "execute_result"
        }
      ],
      "source": [
        "lm = LinearRegression()\n",
        "lm.fit(X_train, y_train)"
      ]
    },
    {
      "cell_type": "markdown",
      "id": "VsASyuWDz66t",
      "metadata": {
        "id": "VsASyuWDz66t"
      },
      "source": [
        "Distribution of the TotalPrice feature"
      ]
    },
    {
      "cell_type": "code",
      "execution_count": 152,
      "id": "a0e1a3fd-c655-47ce-b8d9-ada8c06fdc11",
      "metadata": {
        "id": "a0e1a3fd-c655-47ce-b8d9-ada8c06fdc11",
        "outputId": "3075aac9-f221-4597-a58e-7e7117eccb24"
      },
      "outputs": [
        {
          "data": {
            "text/plain": [
              "<Axes: xlabel='TotalPrice', ylabel='Count'>"
            ]
          },
          "execution_count": 152,
          "metadata": {},
          "output_type": "execute_result"
        },
        {
          "data": {
            "image/png": "[encoded data removed]",
            "text/plain": [
              "<Figure size 800x600 with 1 Axes>"
            ]
          },
          "metadata": {},
          "output_type": "display_data"
        }
      ],
      "source": [
        "sns.histplot((y_test-lm.predict(X_test)), kde=True)"
      ]
    },
    {
      "cell_type": "markdown",
      "id": "NQTWtHCNz98S",
      "metadata": {
        "id": "NQTWtHCNz98S"
      },
      "source": [
        "We can see a fairly uniform plot suggesting that the sales are evenly\n",
        "distributed along the 20000 to 120000 range with a slight peak in the\n",
        "middle. This indicates that the data quality is good, and the model will\n",
        "capture a wide range of scenarios making the predictions more reliable"
      ]
    },
    {
      "cell_type": "code",
      "execution_count": 153,
      "id": "5030bdb5-1de7-4e95-8d4b-18bc14e78dec",
      "metadata": {
        "id": "5030bdb5-1de7-4e95-8d4b-18bc14e78dec"
      },
      "outputs": [],
      "source": [
        "# we are making a forecast for the next 3 months\n",
        "X_pred = np.array([[2011,12],[2012,1],[2012,2]])"
      ]
    },
    {
      "cell_type": "code",
      "execution_count": 154,
      "id": "932a336c-5fa4-417e-ac11-2883fff37ffc",
      "metadata": {
        "id": "932a336c-5fa4-417e-ac11-2883fff37ffc",
        "outputId": "e5bf5697-6f51-4d35-df3d-1b4bbab1f17e"
      },
      "outputs": [
        {
          "name": "stderr",
          "output_type": "stream",
          "text": [
            "c:\\Users\\Adhish\\AppData\\Local\\Programs\\Python\\Python313\\Lib\\site-packages\\sklearn\\utils\\validation.py:2739: UserWarning: X does not have valid feature names, but LinearRegression was fitted with feature names\n",
            "  warnings.warn(\n"
          ]
        }
      ],
      "source": [
        "y_pred = lm.predict(X_pred)"
      ]
    },
    {
      "cell_type": "code",
      "execution_count": 155,
      "id": "903214aa-8703-4321-8a66-3dfda99a1e70",
      "metadata": {
        "id": "903214aa-8703-4321-8a66-3dfda99a1e70",
        "outputId": "8c0a387f-ec9a-4eff-c173-17f3b1b25252"
      },
      "outputs": [
        {
          "name": "stdout",
          "output_type": "stream",
          "text": [
            "Sales Forecast for December 2011: 1328961.6194024086 (61.78% more compared to Dec 2010)\n",
            "Sales Forecast for January 2012: 954012.4299964905 (38.30% more compared to Jan 2011)\n",
            "Sales Forecast for February 2012: 1034235.8917063475 (97.92% more compared to Feb 2011)\n"
          ]
        }
      ],
      "source": [
        "old_dec_sales = df_pred[(df_pred['Year'] == 2010) & (df_pred['Month'] == 12)]['TotalPrice'].values[0]\n",
        "old_jan_sales = df_pred[(df_pred['Year'] == 2011) & (df_pred['Month'] == 1)]['TotalPrice'].values[0]\n",
        "old_feb_sales = df_pred[(df_pred['Year'] == 2011) & (df_pred['Month'] == 2)]['TotalPrice'].values[0]\n",
        "\n",
        "dec_per = (y_pred[0] - old_dec_sales) / old_dec_sales * 100\n",
        "jan_per = (y_pred[1] - old_jan_sales) / old_jan_sales * 100\n",
        "feb_per = (y_pred[2] - old_feb_sales) / old_feb_sales * 100\n",
        "\n",
        "print(f'Sales Forecast for December 2011: {y_pred[0]} ({dec_per:.2f}% more compared to Dec 2010)')\n",
        "print(f'Sales Forecast for January 2012: {y_pred[1]} ({jan_per:.2f}% more compared to Jan 2011)')\n",
        "print(f'Sales Forecast for February 2012: {y_pred[2]} ({feb_per:.2f}% more compared to Feb 2011)')\n"
      ]
    },
    {
      "cell_type": "markdown",
      "id": "XinAQCKI0EmY",
      "metadata": {
        "id": "XinAQCKI0EmY"
      },
      "source": [
        "# Overall\n",
        "From all the information acquired from the data analysis a lot of\n",
        "information can be drawn out. TATA e-commerce’s customer base has\n",
        "been found within 38 countries, out of which the United Kingdom holds\n",
        "the greatest number of customers with a whopping 90% of the total\n",
        "customers. This also correlates to United Kingdom being the main\n",
        "revenue source of the business.<br><br>\n",
        "Thus, it is recommended that the company looks upon expanding in\n",
        "other countries as well. Whether it is by running advertisements in those\n",
        "countries, running marketing campaigns, or collaborating with local\n",
        "businesses native to other countries. More emphasis on the point of\n",
        "collaborating with local businesses as from the data, we also have the\n",
        "information that our top buyers are businesses from other countries\n",
        "(Netherlands and EIRE). Collaborating with those businesses can prove\n",
        "to be beneficial for our business as this expands the market of the\n",
        "business and helps to reach out to customers who were previously\n",
        "unreachable.<br><br>\n",
        "A membership program can also be launched in order to promote loyalty\n",
        "of the customer towards the business and potentially increase\n",
        "customers through word of mouth.<br><br>\n",
        "Similarly, various offers can be provided during peak months (November,\n",
        "October, September). The offers can also be made during peak sales\n",
        "hours, calling it rush hours. The rush hours offer can make the customers\n",
        "think about buying something they didn’t consider buying just because it\n",
        "is available in value for the small-time window.\n",
        "Finally, all these offers won’t work without the customers knowing about\n",
        "them. Thus, the business should highly prioritize the marketing of the\n",
        "products and pumping out advertisements for the products, especially\n",
        "during the peak hours."
      ]
    }
  ],
  "metadata": {
    "colab": {
      "provenance": []
    },
    "kernelspec": {
      "display_name": "Python 3",
      "language": "python",
      "name": "python3"
    },
    "language_info": {
      "codemirror_mode": {
        "name": "ipython",
        "version": 3
      },
      "file_extension": ".py",
      "mimetype": "text/x-python",
      "name": "python",
      "nbconvert_exporter": "python",
      "pygments_lexer": "ipython3",
      "version": "3.13.1"
    }
  },
  "nbformat": 4,
  "nbformat_minor": 5
}
